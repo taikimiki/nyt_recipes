{
 "cells": [
  {
   "cell_type": "markdown",
   "metadata": {},
   "source": [
    "# NY Times Food Best Recipes"
   ]
  },
  {
   "cell_type": "markdown",
   "metadata": {},
   "source": [
    "This notebook describes the steps I took to visualize the data on the New York Times cooking website. My intention was to analyze which chefs are the most prolific and which recipes are the most popular on the website."
   ]
  },
  {
   "cell_type": "code",
   "execution_count": 80,
   "metadata": {},
   "outputs": [],
   "source": [
    "import pandas as pd\n",
    "from bs4 import BeautifulSoup\n",
    "import re\n",
    "import requests\n",
    "from six.moves import urllib\n",
    "from time import *\n",
    "from random import randint\n",
    "from IPython.core.display import clear_output\n",
    "import plotly.express as px\n",
    "\n",
    "# Lists to store data in\n",
    "recipe_name = []\n",
    "recipe_author = []\n",
    "recipe_rating = []\n",
    "recipe_review_count = []\n",
    "\n",
    "# List of recipe links\n",
    "recipe_links = []\n",
    "\n",
    "# Number of pages to parse through\n",
    "pages_url = [str(i) for i in range(1, 10)]\n",
    "\n",
    "# Preparing the monitoring of the loop\n",
    "start_time = time()\n",
    "page_requests = 0\n",
    "\n",
    "# For every page in the search interval\n",
    "for page in pages_url:\n",
    "    response = requests.get('https://cooking.nytimes.com/search?q=&page=' + page)\n",
    "    html = response.text\n",
    "    soup = BeautifulSoup(html)\n",
    "\n",
    "    # Pause the loop\n",
    "    #sleep(randint(1,2))\n",
    "    \n",
    "    for link in soup.find_all('a', attrs={'href': re.compile('^/recipes')}):\n",
    "        recipe_links.append('https://cooking.nytimes.com' + link.get('href'))\n",
    "    \n",
    "    #print (recipe_links)\n",
    "\n",
    "# Remove duplicates recipe links\n",
    "recipe_links = list(dict.fromkeys(recipe_links))\n",
    "\n",
    "for recipe in recipe_links:\n",
    "    response_recipe = requests.get(recipe)\n",
    "    html_recipe = response_recipe.text\n",
    "    soup_recipe = BeautifulSoup(html_recipe, 'html.parser')\n",
    "    \n",
    "    # Pause the loop\n",
    "    # sleep(randint(1,2))\n",
    "    \n",
    "    # Adds title of recipe\n",
    "    try:\n",
    "        recipe_name.append(soup_recipe.title.string)\n",
    "    except:\n",
    "        recipe_name.append('none')\n",
    "    \n",
    "    # Adds author of recipe\n",
    "    try: \n",
    "        recipe_author.append(soup_recipe.find('span', {'class': 'byline-name', 'itemprop': 'author'}).text)\n",
    "    except:\n",
    "        recipe_author.append('None')\n",
    "\n",
    "    # Adds average rating and number of reviews of recipe\n",
    "    \n",
    "    pattern = '\\=\\s(\\d+)' # Pattern for \n",
    "    value = re.findall(pattern, str(soup_recipe.find(text=re.compile(\"bootstrap.recipe.avg_rating\"))))\n",
    "    try:\n",
    "        recipe_rating.append(value[0])\n",
    "    except:\n",
    "        recipe_rating.append('0')\n",
    "    try:\n",
    "        recipe_review_count.append(value[1])\n",
    "    except:\n",
    "        recipe_review_count.append('0')\n",
    "    \n",
    "recipe_information = pd.DataFrame({\n",
    "    'Recipe Name': recipe_name,\n",
    "    'Recipe Author': recipe_author,\n",
    "    'Recipe Rating': recipe_rating,\n",
    "    'Recipe Review Count': recipe_review_count\n",
    "})"
   ]
  },
  {
   "cell_type": "code",
   "execution_count": 82,
   "metadata": {},
   "outputs": [],
   "source": [
    "recipe_information.to_csv('recipe_information.csv')"
   ]
  },
  {
   "cell_type": "code",
   "execution_count": 1,
   "metadata": {},
   "outputs": [
    {
     "ename": "NameError",
     "evalue": "name 'pd' is not defined",
     "output_type": "error",
     "traceback": [
      "\u001b[1;31m---------------------------------------------------------------------------\u001b[0m",
      "\u001b[1;31mNameError\u001b[0m                                 Traceback (most recent call last)",
      "\u001b[1;32m<ipython-input-1-323698a509aa>\u001b[0m in \u001b[0;36m<module>\u001b[1;34m\u001b[0m\n\u001b[1;32m----> 1\u001b[1;33m \u001b[0mrecipe_information\u001b[0m\u001b[1;33m=\u001b[0m \u001b[0mpd\u001b[0m\u001b[1;33m.\u001b[0m\u001b[0mread_csv\u001b[0m\u001b[1;33m(\u001b[0m\u001b[1;34m'recipe_information.csv'\u001b[0m\u001b[1;33m)\u001b[0m\u001b[1;33m\u001b[0m\u001b[1;33m\u001b[0m\u001b[0m\n\u001b[0m",
      "\u001b[1;31mNameError\u001b[0m: name 'pd' is not defined"
     ]
    }
   ],
   "source": [
    "recipe_information= pd.read_csv('recipe_information.csv')"
   ]
  },
  {
   "cell_type": "markdown",
   "metadata": {},
   "source": [
    "The following represents a snapshot of the DataFrame"
   ]
  },
  {
   "cell_type": "code",
   "execution_count": 84,
   "metadata": {},
   "outputs": [
    {
     "name": "stdout",
     "output_type": "stream",
     "text": [
      "   Unnamed: 0                                        Recipe Name  \\\n",
      "0           0  Mushroom-Farro Soup With Parmesan Broth Recipe...   \n",
      "1           1  Beans and Garlic Toast in Broth Recipe - NYT C...   \n",
      "2           2           Easiest Lentil Soup Recipe - NYT Cooking   \n",
      "3           3                Parmesan Broth Recipe - NYT Cooking   \n",
      "4           4  Potato Gratin With Swiss Chard and Sumac Onion...   \n",
      "\n",
      "      Recipe Author  Recipe Rating  Recipe Review Count  \n",
      "0     Julia Sherman              4                  101  \n",
      "1         Tejal Rao              4                  482  \n",
      "2     Melissa Clark              4                  888  \n",
      "3     Julia Sherman              4                   63  \n",
      "4  Yotam Ottolenghi              4                   31  \n",
      "<class 'pandas.core.frame.DataFrame'>\n",
      "RangeIndex: 432 entries, 0 to 431\n",
      "Data columns (total 5 columns):\n",
      " #   Column               Non-Null Count  Dtype \n",
      "---  ------               --------------  ----- \n",
      " 0   Unnamed: 0           432 non-null    int64 \n",
      " 1   Recipe Name          432 non-null    object\n",
      " 2   Recipe Author        432 non-null    object\n",
      " 3   Recipe Rating        432 non-null    int64 \n",
      " 4   Recipe Review Count  432 non-null    int64 \n",
      "dtypes: int64(3), object(2)\n",
      "memory usage: 17.0+ KB\n"
     ]
    }
   ],
   "source": [
    "print (recipe_information.head())\n",
    "recipe_information.info()"
   ]
  },
  {
   "cell_type": "markdown",
   "metadata": {},
   "source": [
    "Currently, the data in the rating and review count columns are objects, rather than integers. In addition, we want to remove the \"- New York Times\" from the recipe titles to clean up display.\n",
    "\n",
    "I then check to make sure that the changes have been made and are successful."
   ]
  },
  {
   "cell_type": "code",
   "execution_count": 85,
   "metadata": {},
   "outputs": [
    {
     "name": "stdout",
     "output_type": "stream",
     "text": [
      "   Unnamed: 0                                      Recipe Name  \\\n",
      "0           0          Mushroom-Farro Soup With Parmesan Broth   \n",
      "1           1                  Beans and Garlic Toast in Broth   \n",
      "2           2                              Easiest Lentil Soup   \n",
      "3           3                                   Parmesan Broth   \n",
      "4           4  Potato Gratin With Swiss Chard and Sumac Onions   \n",
      "\n",
      "      Recipe Author  Recipe Rating  Recipe Review Count  \n",
      "0     Julia Sherman              4                  101  \n",
      "1         Tejal Rao              4                  482  \n",
      "2     Melissa Clark              4                  888  \n",
      "3     Julia Sherman              4                   63  \n",
      "4  Yotam Ottolenghi              4                   31  \n",
      "   Unnamed: 0                                      Recipe Name  \\\n",
      "0           0          Mushroom-Farro Soup With Parmesan Broth   \n",
      "1           1                  Beans and Garlic Toast in Broth   \n",
      "2           2                              Easiest Lentil Soup   \n",
      "3           3                                   Parmesan Broth   \n",
      "4           4  Potato Gratin With Swiss Chard and Sumac Onions   \n",
      "\n",
      "      Recipe Author  Recipe Rating  Recipe Review Count  \n",
      "0     Julia Sherman              4                  101  \n",
      "1         Tejal Rao              4                  482  \n",
      "2     Melissa Clark              4                  888  \n",
      "3     Julia Sherman              4                   63  \n",
      "4  Yotam Ottolenghi              4                   31  \n",
      "<class 'pandas.core.frame.DataFrame'>\n",
      "RangeIndex: 432 entries, 0 to 431\n",
      "Data columns (total 5 columns):\n",
      " #   Column               Non-Null Count  Dtype \n",
      "---  ------               --------------  ----- \n",
      " 0   Unnamed: 0           432 non-null    int64 \n",
      " 1   Recipe Name          432 non-null    object\n",
      " 2   Recipe Author        432 non-null    object\n",
      " 3   Recipe Rating        432 non-null    int64 \n",
      " 4   Recipe Review Count  432 non-null    int64 \n",
      "dtypes: int64(3), object(2)\n",
      "memory usage: 17.0+ KB\n"
     ]
    }
   ],
   "source": [
    "# Clean up recipe name\n",
    "recipe_information['Recipe Name'] = recipe_information['Recipe Name'].str.extract('(.*)\\sRecipe')\n",
    "print (recipe_information.head())\n",
    "\n",
    "# Convert rating and review count columns to integers\n",
    "recipe_information['Recipe Rating'] = pd.to_numeric(recipe_information['Recipe Rating'])\n",
    "recipe_information['Recipe Review Count'] = pd.to_numeric(recipe_information['Recipe Review Count'])\n",
    "\n",
    "print (recipe_information.head())\n",
    "recipe_information.info()"
   ]
  },
  {
   "cell_type": "markdown",
   "metadata": {},
   "source": [
    "In order to create visualizations of the data, we are going to create a dataframe that includes the count of recipes by each author."
   ]
  },
  {
   "cell_type": "code",
   "execution_count": 86,
   "metadata": {},
   "outputs": [
    {
     "name": "stdout",
     "output_type": "stream",
     "text": [
      "     Recipe Author  Counts\n",
      "0     Alexa Weibel      32\n",
      "1       Ali Slagle      38\n",
      "2     Alison Roman      26\n",
      "3  Angela Dimayuga      10\n",
      "4     Becky Hughes       1\n"
     ]
    }
   ],
   "source": [
    "recipe_information_count = recipe_information.groupby('Recipe Author').size().reset_index(name='Counts')\n",
    "print (recipe_information_count.head())"
   ]
  },
  {
   "cell_type": "markdown",
   "metadata": {},
   "source": [
    "We are going to use plotly express to create a pie chart representing the proportion of recipes made by each author."
   ]
  },
  {
   "cell_type": "code",
   "execution_count": 87,
   "metadata": {},
   "outputs": [
    {
     "data": {
      "application/vnd.plotly.v1+json": {
       "config": {
        "plotlyServerURL": "https://plot.ly"
       },
       "data": [
        {
         "domain": {
          "x": [
           0,
           1
          ],
          "y": [
           0,
           1
          ]
         },
         "hoverlabel": {
          "namelength": 0
         },
         "hovertemplate": "Recipe Author=%{label}<br>Counts=%{value}",
         "labels": [
          "Alexa Weibel",
          "Ali Slagle",
          "Alison Roman",
          "Angela Dimayuga",
          "Other Authors",
          "Other Authors",
          "Clare de Boer",
          "Colu Henry",
          "Daniela Galarza",
          "David Tanis",
          "Dawn Perry",
          "Dorie Greenspan",
          "Other Authors",
          "Erin Jeanne McDowell",
          "Florence Fabricant",
          "Gabrielle Hamilton",
          "Gena Hamshaw",
          "Hannah Kirshner",
          "Other Authors",
          "J. Kenji López-Alt",
          "Jerrelle Guy",
          "Joan Nathan",
          "Julia Moskin",
          "Julia Sherman",
          "Kay Chun",
          "Kiera Wright-Ruiz",
          "Kim Severson",
          "Krysten Chambrot",
          "Lidey Heuck",
          "Margaux Laskey",
          "Melissa Clark",
          "Other Authors",
          "Priya Krishna",
          "Rebekah Peppler",
          "Rick A. Martinez",
          "Robert Simonson",
          "Sam Sifton",
          "Samantha Seneviratne",
          "Other Authors",
          "Other Authors",
          "Sarah DiGregorio",
          "Sean Sherman",
          "Sue Li",
          "Susan Spungen",
          "Tejal Rao",
          "The New York Times",
          "Yewande Komolafe",
          "Yossy Arefi",
          "Yotam Ottolenghi"
         ],
         "legendgroup": "",
         "name": "",
         "showlegend": true,
         "type": "pie",
         "values": [
          32,
          38,
          26,
          10,
          1,
          1,
          4,
          9,
          5,
          21,
          3,
          6,
          1,
          14,
          5,
          5,
          2,
          3,
          1,
          10,
          2,
          2,
          6,
          3,
          3,
          6,
          2,
          2,
          21,
          8,
          61,
          1,
          2,
          5,
          2,
          3,
          8,
          4,
          1,
          1,
          22,
          10,
          6,
          18,
          17,
          2,
          8,
          2,
          7
         ]
        }
       ],
       "layout": {
        "legend": {
         "tracegroupgap": 0
        },
        "template": {
         "data": {
          "bar": [
           {
            "error_x": {
             "color": "#2a3f5f"
            },
            "error_y": {
             "color": "#2a3f5f"
            },
            "marker": {
             "line": {
              "color": "#E5ECF6",
              "width": 0.5
             }
            },
            "type": "bar"
           }
          ],
          "barpolar": [
           {
            "marker": {
             "line": {
              "color": "#E5ECF6",
              "width": 0.5
             }
            },
            "type": "barpolar"
           }
          ],
          "carpet": [
           {
            "aaxis": {
             "endlinecolor": "#2a3f5f",
             "gridcolor": "white",
             "linecolor": "white",
             "minorgridcolor": "white",
             "startlinecolor": "#2a3f5f"
            },
            "baxis": {
             "endlinecolor": "#2a3f5f",
             "gridcolor": "white",
             "linecolor": "white",
             "minorgridcolor": "white",
             "startlinecolor": "#2a3f5f"
            },
            "type": "carpet"
           }
          ],
          "choropleth": [
           {
            "colorbar": {
             "outlinewidth": 0,
             "ticks": ""
            },
            "type": "choropleth"
           }
          ],
          "contour": [
           {
            "colorbar": {
             "outlinewidth": 0,
             "ticks": ""
            },
            "colorscale": [
             [
              0,
              "#0d0887"
             ],
             [
              0.1111111111111111,
              "#46039f"
             ],
             [
              0.2222222222222222,
              "#7201a8"
             ],
             [
              0.3333333333333333,
              "#9c179e"
             ],
             [
              0.4444444444444444,
              "#bd3786"
             ],
             [
              0.5555555555555556,
              "#d8576b"
             ],
             [
              0.6666666666666666,
              "#ed7953"
             ],
             [
              0.7777777777777778,
              "#fb9f3a"
             ],
             [
              0.8888888888888888,
              "#fdca26"
             ],
             [
              1,
              "#f0f921"
             ]
            ],
            "type": "contour"
           }
          ],
          "contourcarpet": [
           {
            "colorbar": {
             "outlinewidth": 0,
             "ticks": ""
            },
            "type": "contourcarpet"
           }
          ],
          "heatmap": [
           {
            "colorbar": {
             "outlinewidth": 0,
             "ticks": ""
            },
            "colorscale": [
             [
              0,
              "#0d0887"
             ],
             [
              0.1111111111111111,
              "#46039f"
             ],
             [
              0.2222222222222222,
              "#7201a8"
             ],
             [
              0.3333333333333333,
              "#9c179e"
             ],
             [
              0.4444444444444444,
              "#bd3786"
             ],
             [
              0.5555555555555556,
              "#d8576b"
             ],
             [
              0.6666666666666666,
              "#ed7953"
             ],
             [
              0.7777777777777778,
              "#fb9f3a"
             ],
             [
              0.8888888888888888,
              "#fdca26"
             ],
             [
              1,
              "#f0f921"
             ]
            ],
            "type": "heatmap"
           }
          ],
          "heatmapgl": [
           {
            "colorbar": {
             "outlinewidth": 0,
             "ticks": ""
            },
            "colorscale": [
             [
              0,
              "#0d0887"
             ],
             [
              0.1111111111111111,
              "#46039f"
             ],
             [
              0.2222222222222222,
              "#7201a8"
             ],
             [
              0.3333333333333333,
              "#9c179e"
             ],
             [
              0.4444444444444444,
              "#bd3786"
             ],
             [
              0.5555555555555556,
              "#d8576b"
             ],
             [
              0.6666666666666666,
              "#ed7953"
             ],
             [
              0.7777777777777778,
              "#fb9f3a"
             ],
             [
              0.8888888888888888,
              "#fdca26"
             ],
             [
              1,
              "#f0f921"
             ]
            ],
            "type": "heatmapgl"
           }
          ],
          "histogram": [
           {
            "marker": {
             "colorbar": {
              "outlinewidth": 0,
              "ticks": ""
             }
            },
            "type": "histogram"
           }
          ],
          "histogram2d": [
           {
            "colorbar": {
             "outlinewidth": 0,
             "ticks": ""
            },
            "colorscale": [
             [
              0,
              "#0d0887"
             ],
             [
              0.1111111111111111,
              "#46039f"
             ],
             [
              0.2222222222222222,
              "#7201a8"
             ],
             [
              0.3333333333333333,
              "#9c179e"
             ],
             [
              0.4444444444444444,
              "#bd3786"
             ],
             [
              0.5555555555555556,
              "#d8576b"
             ],
             [
              0.6666666666666666,
              "#ed7953"
             ],
             [
              0.7777777777777778,
              "#fb9f3a"
             ],
             [
              0.8888888888888888,
              "#fdca26"
             ],
             [
              1,
              "#f0f921"
             ]
            ],
            "type": "histogram2d"
           }
          ],
          "histogram2dcontour": [
           {
            "colorbar": {
             "outlinewidth": 0,
             "ticks": ""
            },
            "colorscale": [
             [
              0,
              "#0d0887"
             ],
             [
              0.1111111111111111,
              "#46039f"
             ],
             [
              0.2222222222222222,
              "#7201a8"
             ],
             [
              0.3333333333333333,
              "#9c179e"
             ],
             [
              0.4444444444444444,
              "#bd3786"
             ],
             [
              0.5555555555555556,
              "#d8576b"
             ],
             [
              0.6666666666666666,
              "#ed7953"
             ],
             [
              0.7777777777777778,
              "#fb9f3a"
             ],
             [
              0.8888888888888888,
              "#fdca26"
             ],
             [
              1,
              "#f0f921"
             ]
            ],
            "type": "histogram2dcontour"
           }
          ],
          "mesh3d": [
           {
            "colorbar": {
             "outlinewidth": 0,
             "ticks": ""
            },
            "type": "mesh3d"
           }
          ],
          "parcoords": [
           {
            "line": {
             "colorbar": {
              "outlinewidth": 0,
              "ticks": ""
             }
            },
            "type": "parcoords"
           }
          ],
          "pie": [
           {
            "automargin": true,
            "type": "pie"
           }
          ],
          "scatter": [
           {
            "marker": {
             "colorbar": {
              "outlinewidth": 0,
              "ticks": ""
             }
            },
            "type": "scatter"
           }
          ],
          "scatter3d": [
           {
            "line": {
             "colorbar": {
              "outlinewidth": 0,
              "ticks": ""
             }
            },
            "marker": {
             "colorbar": {
              "outlinewidth": 0,
              "ticks": ""
             }
            },
            "type": "scatter3d"
           }
          ],
          "scattercarpet": [
           {
            "marker": {
             "colorbar": {
              "outlinewidth": 0,
              "ticks": ""
             }
            },
            "type": "scattercarpet"
           }
          ],
          "scattergeo": [
           {
            "marker": {
             "colorbar": {
              "outlinewidth": 0,
              "ticks": ""
             }
            },
            "type": "scattergeo"
           }
          ],
          "scattergl": [
           {
            "marker": {
             "colorbar": {
              "outlinewidth": 0,
              "ticks": ""
             }
            },
            "type": "scattergl"
           }
          ],
          "scattermapbox": [
           {
            "marker": {
             "colorbar": {
              "outlinewidth": 0,
              "ticks": ""
             }
            },
            "type": "scattermapbox"
           }
          ],
          "scatterpolar": [
           {
            "marker": {
             "colorbar": {
              "outlinewidth": 0,
              "ticks": ""
             }
            },
            "type": "scatterpolar"
           }
          ],
          "scatterpolargl": [
           {
            "marker": {
             "colorbar": {
              "outlinewidth": 0,
              "ticks": ""
             }
            },
            "type": "scatterpolargl"
           }
          ],
          "scatterternary": [
           {
            "marker": {
             "colorbar": {
              "outlinewidth": 0,
              "ticks": ""
             }
            },
            "type": "scatterternary"
           }
          ],
          "surface": [
           {
            "colorbar": {
             "outlinewidth": 0,
             "ticks": ""
            },
            "colorscale": [
             [
              0,
              "#0d0887"
             ],
             [
              0.1111111111111111,
              "#46039f"
             ],
             [
              0.2222222222222222,
              "#7201a8"
             ],
             [
              0.3333333333333333,
              "#9c179e"
             ],
             [
              0.4444444444444444,
              "#bd3786"
             ],
             [
              0.5555555555555556,
              "#d8576b"
             ],
             [
              0.6666666666666666,
              "#ed7953"
             ],
             [
              0.7777777777777778,
              "#fb9f3a"
             ],
             [
              0.8888888888888888,
              "#fdca26"
             ],
             [
              1,
              "#f0f921"
             ]
            ],
            "type": "surface"
           }
          ],
          "table": [
           {
            "cells": {
             "fill": {
              "color": "#EBF0F8"
             },
             "line": {
              "color": "white"
             }
            },
            "header": {
             "fill": {
              "color": "#C8D4E3"
             },
             "line": {
              "color": "white"
             }
            },
            "type": "table"
           }
          ]
         },
         "layout": {
          "annotationdefaults": {
           "arrowcolor": "#2a3f5f",
           "arrowhead": 0,
           "arrowwidth": 1
          },
          "coloraxis": {
           "colorbar": {
            "outlinewidth": 0,
            "ticks": ""
           }
          },
          "colorscale": {
           "diverging": [
            [
             0,
             "#8e0152"
            ],
            [
             0.1,
             "#c51b7d"
            ],
            [
             0.2,
             "#de77ae"
            ],
            [
             0.3,
             "#f1b6da"
            ],
            [
             0.4,
             "#fde0ef"
            ],
            [
             0.5,
             "#f7f7f7"
            ],
            [
             0.6,
             "#e6f5d0"
            ],
            [
             0.7,
             "#b8e186"
            ],
            [
             0.8,
             "#7fbc41"
            ],
            [
             0.9,
             "#4d9221"
            ],
            [
             1,
             "#276419"
            ]
           ],
           "sequential": [
            [
             0,
             "#0d0887"
            ],
            [
             0.1111111111111111,
             "#46039f"
            ],
            [
             0.2222222222222222,
             "#7201a8"
            ],
            [
             0.3333333333333333,
             "#9c179e"
            ],
            [
             0.4444444444444444,
             "#bd3786"
            ],
            [
             0.5555555555555556,
             "#d8576b"
            ],
            [
             0.6666666666666666,
             "#ed7953"
            ],
            [
             0.7777777777777778,
             "#fb9f3a"
            ],
            [
             0.8888888888888888,
             "#fdca26"
            ],
            [
             1,
             "#f0f921"
            ]
           ],
           "sequentialminus": [
            [
             0,
             "#0d0887"
            ],
            [
             0.1111111111111111,
             "#46039f"
            ],
            [
             0.2222222222222222,
             "#7201a8"
            ],
            [
             0.3333333333333333,
             "#9c179e"
            ],
            [
             0.4444444444444444,
             "#bd3786"
            ],
            [
             0.5555555555555556,
             "#d8576b"
            ],
            [
             0.6666666666666666,
             "#ed7953"
            ],
            [
             0.7777777777777778,
             "#fb9f3a"
            ],
            [
             0.8888888888888888,
             "#fdca26"
            ],
            [
             1,
             "#f0f921"
            ]
           ]
          },
          "colorway": [
           "#636efa",
           "#EF553B",
           "#00cc96",
           "#ab63fa",
           "#FFA15A",
           "#19d3f3",
           "#FF6692",
           "#B6E880",
           "#FF97FF",
           "#FECB52"
          ],
          "font": {
           "color": "#2a3f5f"
          },
          "geo": {
           "bgcolor": "white",
           "lakecolor": "white",
           "landcolor": "#E5ECF6",
           "showlakes": true,
           "showland": true,
           "subunitcolor": "white"
          },
          "hoverlabel": {
           "align": "left"
          },
          "hovermode": "closest",
          "mapbox": {
           "style": "light"
          },
          "paper_bgcolor": "white",
          "plot_bgcolor": "#E5ECF6",
          "polar": {
           "angularaxis": {
            "gridcolor": "white",
            "linecolor": "white",
            "ticks": ""
           },
           "bgcolor": "#E5ECF6",
           "radialaxis": {
            "gridcolor": "white",
            "linecolor": "white",
            "ticks": ""
           }
          },
          "scene": {
           "xaxis": {
            "backgroundcolor": "#E5ECF6",
            "gridcolor": "white",
            "gridwidth": 2,
            "linecolor": "white",
            "showbackground": true,
            "ticks": "",
            "zerolinecolor": "white"
           },
           "yaxis": {
            "backgroundcolor": "#E5ECF6",
            "gridcolor": "white",
            "gridwidth": 2,
            "linecolor": "white",
            "showbackground": true,
            "ticks": "",
            "zerolinecolor": "white"
           },
           "zaxis": {
            "backgroundcolor": "#E5ECF6",
            "gridcolor": "white",
            "gridwidth": 2,
            "linecolor": "white",
            "showbackground": true,
            "ticks": "",
            "zerolinecolor": "white"
           }
          },
          "shapedefaults": {
           "line": {
            "color": "#2a3f5f"
           }
          },
          "ternary": {
           "aaxis": {
            "gridcolor": "white",
            "linecolor": "white",
            "ticks": ""
           },
           "baxis": {
            "gridcolor": "white",
            "linecolor": "white",
            "ticks": ""
           },
           "bgcolor": "#E5ECF6",
           "caxis": {
            "gridcolor": "white",
            "linecolor": "white",
            "ticks": ""
           }
          },
          "title": {
           "x": 0.05
          },
          "xaxis": {
           "automargin": true,
           "gridcolor": "white",
           "linecolor": "white",
           "ticks": "",
           "title": {
            "standoff": 15
           },
           "zerolinecolor": "white",
           "zerolinewidth": 2
          },
          "yaxis": {
           "automargin": true,
           "gridcolor": "white",
           "linecolor": "white",
           "ticks": "",
           "title": {
            "standoff": 15
           },
           "zerolinecolor": "white",
           "zerolinewidth": 2
          }
         }
        },
        "title": {
         "text": "Percentage of NYT Recipes Written by Each Author"
        }
       }
      },
      "text/html": [
       "<div>\n",
       "        \n",
       "        \n",
       "            <div id=\"fe738433-2c19-4e00-8eb3-d70a9fc80b79\" class=\"plotly-graph-div\" style=\"height:525px; width:100%;\"></div>\n",
       "            <script type=\"text/javascript\">\n",
       "                require([\"plotly\"], function(Plotly) {\n",
       "                    window.PLOTLYENV=window.PLOTLYENV || {};\n",
       "                    \n",
       "                if (document.getElementById(\"fe738433-2c19-4e00-8eb3-d70a9fc80b79\")) {\n",
       "                    Plotly.newPlot(\n",
       "                        'fe738433-2c19-4e00-8eb3-d70a9fc80b79',\n",
       "                        [{\"domain\": {\"x\": [0.0, 1.0], \"y\": [0.0, 1.0]}, \"hoverlabel\": {\"namelength\": 0}, \"hovertemplate\": \"Recipe Author=%{label}<br>Counts=%{value}\", \"labels\": [\"Alexa Weibel\", \"Ali Slagle\", \"Alison Roman\", \"Angela Dimayuga\", \"Other Authors\", \"Other Authors\", \"Clare de Boer\", \"Colu Henry\", \"Daniela Galarza\", \"David Tanis\", \"Dawn Perry\", \"Dorie Greenspan\", \"Other Authors\", \"Erin Jeanne McDowell\", \"Florence Fabricant\", \"Gabrielle Hamilton\", \"Gena Hamshaw\", \"Hannah Kirshner\", \"Other Authors\", \"J. Kenji L\\u00f3pez-Alt\", \"Jerrelle Guy\", \"Joan Nathan\", \"Julia Moskin\", \"Julia Sherman\", \"Kay Chun\", \"Kiera Wright-Ruiz\", \"Kim Severson\", \"Krysten Chambrot\", \"Lidey Heuck\", \"Margaux Laskey\", \"Melissa Clark\", \"Other Authors\", \"Priya Krishna\", \"Rebekah Peppler\", \"Rick A. Martinez\", \"Robert Simonson\", \"Sam Sifton\", \"Samantha Seneviratne\", \"Other Authors\", \"Other Authors\", \"Sarah DiGregorio\", \"Sean Sherman\", \"Sue Li\", \"Susan Spungen\", \"Tejal Rao\", \"The New York Times\", \"Yewande Komolafe\", \"Yossy Arefi\", \"Yotam Ottolenghi\"], \"legendgroup\": \"\", \"name\": \"\", \"showlegend\": true, \"type\": \"pie\", \"values\": [32, 38, 26, 10, 1, 1, 4, 9, 5, 21, 3, 6, 1, 14, 5, 5, 2, 3, 1, 10, 2, 2, 6, 3, 3, 6, 2, 2, 21, 8, 61, 1, 2, 5, 2, 3, 8, 4, 1, 1, 22, 10, 6, 18, 17, 2, 8, 2, 7]}],\n",
       "                        {\"legend\": {\"tracegroupgap\": 0}, \"template\": {\"data\": {\"bar\": [{\"error_x\": {\"color\": \"#2a3f5f\"}, \"error_y\": {\"color\": \"#2a3f5f\"}, \"marker\": {\"line\": {\"color\": \"#E5ECF6\", \"width\": 0.5}}, \"type\": \"bar\"}], \"barpolar\": [{\"marker\": {\"line\": {\"color\": \"#E5ECF6\", \"width\": 0.5}}, \"type\": \"barpolar\"}], \"carpet\": [{\"aaxis\": {\"endlinecolor\": \"#2a3f5f\", \"gridcolor\": \"white\", \"linecolor\": \"white\", \"minorgridcolor\": \"white\", \"startlinecolor\": \"#2a3f5f\"}, \"baxis\": {\"endlinecolor\": \"#2a3f5f\", \"gridcolor\": \"white\", \"linecolor\": \"white\", \"minorgridcolor\": \"white\", \"startlinecolor\": \"#2a3f5f\"}, \"type\": \"carpet\"}], \"choropleth\": [{\"colorbar\": {\"outlinewidth\": 0, \"ticks\": \"\"}, \"type\": \"choropleth\"}], \"contour\": [{\"colorbar\": {\"outlinewidth\": 0, \"ticks\": \"\"}, \"colorscale\": [[0.0, \"#0d0887\"], [0.1111111111111111, \"#46039f\"], [0.2222222222222222, \"#7201a8\"], [0.3333333333333333, \"#9c179e\"], [0.4444444444444444, \"#bd3786\"], [0.5555555555555556, \"#d8576b\"], [0.6666666666666666, \"#ed7953\"], [0.7777777777777778, \"#fb9f3a\"], [0.8888888888888888, \"#fdca26\"], [1.0, \"#f0f921\"]], \"type\": \"contour\"}], \"contourcarpet\": [{\"colorbar\": {\"outlinewidth\": 0, \"ticks\": \"\"}, \"type\": \"contourcarpet\"}], \"heatmap\": [{\"colorbar\": {\"outlinewidth\": 0, \"ticks\": \"\"}, \"colorscale\": [[0.0, \"#0d0887\"], [0.1111111111111111, \"#46039f\"], [0.2222222222222222, \"#7201a8\"], [0.3333333333333333, \"#9c179e\"], [0.4444444444444444, \"#bd3786\"], [0.5555555555555556, \"#d8576b\"], [0.6666666666666666, \"#ed7953\"], [0.7777777777777778, \"#fb9f3a\"], [0.8888888888888888, \"#fdca26\"], [1.0, \"#f0f921\"]], \"type\": \"heatmap\"}], \"heatmapgl\": [{\"colorbar\": {\"outlinewidth\": 0, \"ticks\": \"\"}, \"colorscale\": [[0.0, \"#0d0887\"], [0.1111111111111111, \"#46039f\"], [0.2222222222222222, \"#7201a8\"], [0.3333333333333333, \"#9c179e\"], [0.4444444444444444, \"#bd3786\"], [0.5555555555555556, \"#d8576b\"], [0.6666666666666666, \"#ed7953\"], [0.7777777777777778, \"#fb9f3a\"], [0.8888888888888888, \"#fdca26\"], [1.0, \"#f0f921\"]], \"type\": \"heatmapgl\"}], \"histogram\": [{\"marker\": {\"colorbar\": {\"outlinewidth\": 0, \"ticks\": \"\"}}, \"type\": \"histogram\"}], \"histogram2d\": [{\"colorbar\": {\"outlinewidth\": 0, \"ticks\": \"\"}, \"colorscale\": [[0.0, \"#0d0887\"], [0.1111111111111111, \"#46039f\"], [0.2222222222222222, \"#7201a8\"], [0.3333333333333333, \"#9c179e\"], [0.4444444444444444, \"#bd3786\"], [0.5555555555555556, \"#d8576b\"], [0.6666666666666666, \"#ed7953\"], [0.7777777777777778, \"#fb9f3a\"], [0.8888888888888888, \"#fdca26\"], [1.0, \"#f0f921\"]], \"type\": \"histogram2d\"}], \"histogram2dcontour\": [{\"colorbar\": {\"outlinewidth\": 0, \"ticks\": \"\"}, \"colorscale\": [[0.0, \"#0d0887\"], [0.1111111111111111, \"#46039f\"], [0.2222222222222222, \"#7201a8\"], [0.3333333333333333, \"#9c179e\"], [0.4444444444444444, \"#bd3786\"], [0.5555555555555556, \"#d8576b\"], [0.6666666666666666, \"#ed7953\"], [0.7777777777777778, \"#fb9f3a\"], [0.8888888888888888, \"#fdca26\"], [1.0, \"#f0f921\"]], \"type\": \"histogram2dcontour\"}], \"mesh3d\": [{\"colorbar\": {\"outlinewidth\": 0, \"ticks\": \"\"}, \"type\": \"mesh3d\"}], \"parcoords\": [{\"line\": {\"colorbar\": {\"outlinewidth\": 0, \"ticks\": \"\"}}, \"type\": \"parcoords\"}], \"pie\": [{\"automargin\": true, \"type\": \"pie\"}], \"scatter\": [{\"marker\": {\"colorbar\": {\"outlinewidth\": 0, \"ticks\": \"\"}}, \"type\": \"scatter\"}], \"scatter3d\": [{\"line\": {\"colorbar\": {\"outlinewidth\": 0, \"ticks\": \"\"}}, \"marker\": {\"colorbar\": {\"outlinewidth\": 0, \"ticks\": \"\"}}, \"type\": \"scatter3d\"}], \"scattercarpet\": [{\"marker\": {\"colorbar\": {\"outlinewidth\": 0, \"ticks\": \"\"}}, \"type\": \"scattercarpet\"}], \"scattergeo\": [{\"marker\": {\"colorbar\": {\"outlinewidth\": 0, \"ticks\": \"\"}}, \"type\": \"scattergeo\"}], \"scattergl\": [{\"marker\": {\"colorbar\": {\"outlinewidth\": 0, \"ticks\": \"\"}}, \"type\": \"scattergl\"}], \"scattermapbox\": [{\"marker\": {\"colorbar\": {\"outlinewidth\": 0, \"ticks\": \"\"}}, \"type\": \"scattermapbox\"}], \"scatterpolar\": [{\"marker\": {\"colorbar\": {\"outlinewidth\": 0, \"ticks\": \"\"}}, \"type\": \"scatterpolar\"}], \"scatterpolargl\": [{\"marker\": {\"colorbar\": {\"outlinewidth\": 0, \"ticks\": \"\"}}, \"type\": \"scatterpolargl\"}], \"scatterternary\": [{\"marker\": {\"colorbar\": {\"outlinewidth\": 0, \"ticks\": \"\"}}, \"type\": \"scatterternary\"}], \"surface\": [{\"colorbar\": {\"outlinewidth\": 0, \"ticks\": \"\"}, \"colorscale\": [[0.0, \"#0d0887\"], [0.1111111111111111, \"#46039f\"], [0.2222222222222222, \"#7201a8\"], [0.3333333333333333, \"#9c179e\"], [0.4444444444444444, \"#bd3786\"], [0.5555555555555556, \"#d8576b\"], [0.6666666666666666, \"#ed7953\"], [0.7777777777777778, \"#fb9f3a\"], [0.8888888888888888, \"#fdca26\"], [1.0, \"#f0f921\"]], \"type\": \"surface\"}], \"table\": [{\"cells\": {\"fill\": {\"color\": \"#EBF0F8\"}, \"line\": {\"color\": \"white\"}}, \"header\": {\"fill\": {\"color\": \"#C8D4E3\"}, \"line\": {\"color\": \"white\"}}, \"type\": \"table\"}]}, \"layout\": {\"annotationdefaults\": {\"arrowcolor\": \"#2a3f5f\", \"arrowhead\": 0, \"arrowwidth\": 1}, \"coloraxis\": {\"colorbar\": {\"outlinewidth\": 0, \"ticks\": \"\"}}, \"colorscale\": {\"diverging\": [[0, \"#8e0152\"], [0.1, \"#c51b7d\"], [0.2, \"#de77ae\"], [0.3, \"#f1b6da\"], [0.4, \"#fde0ef\"], [0.5, \"#f7f7f7\"], [0.6, \"#e6f5d0\"], [0.7, \"#b8e186\"], [0.8, \"#7fbc41\"], [0.9, \"#4d9221\"], [1, \"#276419\"]], \"sequential\": [[0.0, \"#0d0887\"], [0.1111111111111111, \"#46039f\"], [0.2222222222222222, \"#7201a8\"], [0.3333333333333333, \"#9c179e\"], [0.4444444444444444, \"#bd3786\"], [0.5555555555555556, \"#d8576b\"], [0.6666666666666666, \"#ed7953\"], [0.7777777777777778, \"#fb9f3a\"], [0.8888888888888888, \"#fdca26\"], [1.0, \"#f0f921\"]], \"sequentialminus\": [[0.0, \"#0d0887\"], [0.1111111111111111, \"#46039f\"], [0.2222222222222222, \"#7201a8\"], [0.3333333333333333, \"#9c179e\"], [0.4444444444444444, \"#bd3786\"], [0.5555555555555556, \"#d8576b\"], [0.6666666666666666, \"#ed7953\"], [0.7777777777777778, \"#fb9f3a\"], [0.8888888888888888, \"#fdca26\"], [1.0, \"#f0f921\"]]}, \"colorway\": [\"#636efa\", \"#EF553B\", \"#00cc96\", \"#ab63fa\", \"#FFA15A\", \"#19d3f3\", \"#FF6692\", \"#B6E880\", \"#FF97FF\", \"#FECB52\"], \"font\": {\"color\": \"#2a3f5f\"}, \"geo\": {\"bgcolor\": \"white\", \"lakecolor\": \"white\", \"landcolor\": \"#E5ECF6\", \"showlakes\": true, \"showland\": true, \"subunitcolor\": \"white\"}, \"hoverlabel\": {\"align\": \"left\"}, \"hovermode\": \"closest\", \"mapbox\": {\"style\": \"light\"}, \"paper_bgcolor\": \"white\", \"plot_bgcolor\": \"#E5ECF6\", \"polar\": {\"angularaxis\": {\"gridcolor\": \"white\", \"linecolor\": \"white\", \"ticks\": \"\"}, \"bgcolor\": \"#E5ECF6\", \"radialaxis\": {\"gridcolor\": \"white\", \"linecolor\": \"white\", \"ticks\": \"\"}}, \"scene\": {\"xaxis\": {\"backgroundcolor\": \"#E5ECF6\", \"gridcolor\": \"white\", \"gridwidth\": 2, \"linecolor\": \"white\", \"showbackground\": true, \"ticks\": \"\", \"zerolinecolor\": \"white\"}, \"yaxis\": {\"backgroundcolor\": \"#E5ECF6\", \"gridcolor\": \"white\", \"gridwidth\": 2, \"linecolor\": \"white\", \"showbackground\": true, \"ticks\": \"\", \"zerolinecolor\": \"white\"}, \"zaxis\": {\"backgroundcolor\": \"#E5ECF6\", \"gridcolor\": \"white\", \"gridwidth\": 2, \"linecolor\": \"white\", \"showbackground\": true, \"ticks\": \"\", \"zerolinecolor\": \"white\"}}, \"shapedefaults\": {\"line\": {\"color\": \"#2a3f5f\"}}, \"ternary\": {\"aaxis\": {\"gridcolor\": \"white\", \"linecolor\": \"white\", \"ticks\": \"\"}, \"baxis\": {\"gridcolor\": \"white\", \"linecolor\": \"white\", \"ticks\": \"\"}, \"bgcolor\": \"#E5ECF6\", \"caxis\": {\"gridcolor\": \"white\", \"linecolor\": \"white\", \"ticks\": \"\"}}, \"title\": {\"x\": 0.05}, \"xaxis\": {\"automargin\": true, \"gridcolor\": \"white\", \"linecolor\": \"white\", \"ticks\": \"\", \"title\": {\"standoff\": 15}, \"zerolinecolor\": \"white\", \"zerolinewidth\": 2}, \"yaxis\": {\"automargin\": true, \"gridcolor\": \"white\", \"linecolor\": \"white\", \"ticks\": \"\", \"title\": {\"standoff\": 15}, \"zerolinecolor\": \"white\", \"zerolinewidth\": 2}}}, \"title\": {\"text\": \"Percentage of NYT Recipes Written by Each Author\"}},\n",
       "                        {\"responsive\": true}\n",
       "                    ).then(function(){\n",
       "                            \n",
       "var gd = document.getElementById('fe738433-2c19-4e00-8eb3-d70a9fc80b79');\n",
       "var x = new MutationObserver(function (mutations, observer) {{\n",
       "        var display = window.getComputedStyle(gd).display;\n",
       "        if (!display || display === 'none') {{\n",
       "            console.log([gd, 'removed!']);\n",
       "            Plotly.purge(gd);\n",
       "            observer.disconnect();\n",
       "        }}\n",
       "}});\n",
       "\n",
       "// Listen for the removal of the full notebook cells\n",
       "var notebookContainer = gd.closest('#notebook-container');\n",
       "if (notebookContainer) {{\n",
       "    x.observe(notebookContainer, {childList: true});\n",
       "}}\n",
       "\n",
       "// Listen for the clearing of the current output cell\n",
       "var outputEl = gd.closest('.output');\n",
       "if (outputEl) {{\n",
       "    x.observe(outputEl, {childList: true});\n",
       "}}\n",
       "\n",
       "                        })\n",
       "                };\n",
       "                });\n",
       "            </script>\n",
       "        </div>"
      ]
     },
     "metadata": {},
     "output_type": "display_data"
    }
   ],
   "source": [
    "recipe_information_count.loc[recipe_information_count['Counts'] < 2, 'Recipe Author'] = 'Other Authors' # Represent only large authors\n",
    "fig = px.pie(recipe_information_count, values='Counts', names='Recipe Author', title='Percentage of NYT Recipes Written by Each Author')\n",
    "fig.show()"
   ]
  },
  {
   "cell_type": "markdown",
   "metadata": {},
   "source": [
    "Great work, Tejal! I love your Indian food recipes. Now I want to see what the most popular recipes on the site are. I'm going to sort first by rating (i.e., 5-star recipes first) and then by the number of reviews."
   ]
  },
  {
   "cell_type": "code",
   "execution_count": 88,
   "metadata": {},
   "outputs": [
    {
     "data": {
      "text/html": [
       "<div>\n",
       "<style scoped>\n",
       "    .dataframe tbody tr th:only-of-type {\n",
       "        vertical-align: middle;\n",
       "    }\n",
       "\n",
       "    .dataframe tbody tr th {\n",
       "        vertical-align: top;\n",
       "    }\n",
       "\n",
       "    .dataframe thead th {\n",
       "        text-align: right;\n",
       "    }\n",
       "</style>\n",
       "<table border=\"1\" class=\"dataframe\">\n",
       "  <thead>\n",
       "    <tr style=\"text-align: right;\">\n",
       "      <th></th>\n",
       "      <th>Unnamed: 0</th>\n",
       "      <th>Recipe Name</th>\n",
       "      <th>Recipe Author</th>\n",
       "      <th>Recipe Rating</th>\n",
       "      <th>Recipe Review Count</th>\n",
       "    </tr>\n",
       "  </thead>\n",
       "  <tbody>\n",
       "    <tr>\n",
       "      <th>102</th>\n",
       "      <td>102</td>\n",
       "      <td>Caramelized Shallot Pasta</td>\n",
       "      <td>Alison Roman</td>\n",
       "      <td>5</td>\n",
       "      <td>3766</td>\n",
       "    </tr>\n",
       "    <tr>\n",
       "      <th>162</th>\n",
       "      <td>162</td>\n",
       "      <td>Spicy White Bean Stew With Broccoli Rabe</td>\n",
       "      <td>Alison Roman</td>\n",
       "      <td>5</td>\n",
       "      <td>3168</td>\n",
       "    </tr>\n",
       "    <tr>\n",
       "      <th>284</th>\n",
       "      <td>284</td>\n",
       "      <td>Thai-Inspired Chicken Meatball Soup</td>\n",
       "      <td>Ali Slagle</td>\n",
       "      <td>5</td>\n",
       "      <td>2598</td>\n",
       "    </tr>\n",
       "    <tr>\n",
       "      <th>151</th>\n",
       "      <td>151</td>\n",
       "      <td>Red Curry Lentils With Sweet Potatoes and Spinach</td>\n",
       "      <td>Lidey Heuck</td>\n",
       "      <td>5</td>\n",
       "      <td>2499</td>\n",
       "    </tr>\n",
       "    <tr>\n",
       "      <th>210</th>\n",
       "      <td>210</td>\n",
       "      <td>Via Carota’s Insalata Verde</td>\n",
       "      <td>Samin Nosrat</td>\n",
       "      <td>5</td>\n",
       "      <td>2375</td>\n",
       "    </tr>\n",
       "    <tr>\n",
       "      <th>414</th>\n",
       "      <td>414</td>\n",
       "      <td>Coconut Curry Chickpeas With Pumpkin and Lime</td>\n",
       "      <td>Melissa Clark</td>\n",
       "      <td>5</td>\n",
       "      <td>1483</td>\n",
       "    </tr>\n",
       "    <tr>\n",
       "      <th>112</th>\n",
       "      <td>112</td>\n",
       "      <td>Lemony Shrimp and Bean Stew</td>\n",
       "      <td>Sue Li</td>\n",
       "      <td>5</td>\n",
       "      <td>1311</td>\n",
       "    </tr>\n",
       "    <tr>\n",
       "      <th>128</th>\n",
       "      <td>128</td>\n",
       "      <td>Cheesy Baked Pasta With Sausage and Ricotta</td>\n",
       "      <td>Melissa Clark</td>\n",
       "      <td>5</td>\n",
       "      <td>1290</td>\n",
       "    </tr>\n",
       "    <tr>\n",
       "      <th>375</th>\n",
       "      <td>375</td>\n",
       "      <td>Coconut Milk Chicken Adobo</td>\n",
       "      <td>Angela Dimayuga</td>\n",
       "      <td>5</td>\n",
       "      <td>1175</td>\n",
       "    </tr>\n",
       "    <tr>\n",
       "      <th>159</th>\n",
       "      <td>159</td>\n",
       "      <td>Indian Butter Chickpeas</td>\n",
       "      <td>Melissa Clark</td>\n",
       "      <td>5</td>\n",
       "      <td>952</td>\n",
       "    </tr>\n",
       "    <tr>\n",
       "      <th>17</th>\n",
       "      <td>17</td>\n",
       "      <td>Pork Noodle Soup With Ginger and Toasted Garlic</td>\n",
       "      <td>Alison Roman</td>\n",
       "      <td>5</td>\n",
       "      <td>856</td>\n",
       "    </tr>\n",
       "    <tr>\n",
       "      <th>351</th>\n",
       "      <td>351</td>\n",
       "      <td>Roasted Sausages With Grapes and Onions</td>\n",
       "      <td>Melissa Clark</td>\n",
       "      <td>5</td>\n",
       "      <td>712</td>\n",
       "    </tr>\n",
       "    <tr>\n",
       "      <th>376</th>\n",
       "      <td>376</td>\n",
       "      <td>Labneh Dip With Sizzled Scallions and Chile</td>\n",
       "      <td>Alison Roman</td>\n",
       "      <td>5</td>\n",
       "      <td>597</td>\n",
       "    </tr>\n",
       "    <tr>\n",
       "      <th>238</th>\n",
       "      <td>238</td>\n",
       "      <td>Gingery Brownie Crinkle Cookies</td>\n",
       "      <td>Susan Spungen</td>\n",
       "      <td>5</td>\n",
       "      <td>586</td>\n",
       "    </tr>\n",
       "    <tr>\n",
       "      <th>359</th>\n",
       "      <td>359</td>\n",
       "      <td>Coconut-Lime Shrimp</td>\n",
       "      <td>Melissa Clark</td>\n",
       "      <td>5</td>\n",
       "      <td>545</td>\n",
       "    </tr>\n",
       "    <tr>\n",
       "      <th>50</th>\n",
       "      <td>50</td>\n",
       "      <td>Chicken and Rice Soup With Celery, Parsley and...</td>\n",
       "      <td>Ali Slagle</td>\n",
       "      <td>5</td>\n",
       "      <td>533</td>\n",
       "    </tr>\n",
       "    <tr>\n",
       "      <th>241</th>\n",
       "      <td>241</td>\n",
       "      <td>Basic Sugar Cookies</td>\n",
       "      <td>Susan Spungen</td>\n",
       "      <td>5</td>\n",
       "      <td>463</td>\n",
       "    </tr>\n",
       "    <tr>\n",
       "      <th>111</th>\n",
       "      <td>111</td>\n",
       "      <td>Sheet-Pan Gochujang Chicken and Roasted Vegeta...</td>\n",
       "      <td>Yewande Komolafe</td>\n",
       "      <td>5</td>\n",
       "      <td>453</td>\n",
       "    </tr>\n",
       "    <tr>\n",
       "      <th>58</th>\n",
       "      <td>58</td>\n",
       "      <td>Gluten-Free Chocolate Chip Cookies</td>\n",
       "      <td>Erin Jeanne McDowell</td>\n",
       "      <td>5</td>\n",
       "      <td>412</td>\n",
       "    </tr>\n",
       "    <tr>\n",
       "      <th>221</th>\n",
       "      <td>221</td>\n",
       "      <td>Spicy and Saucy Cherry Tomato Pasta</td>\n",
       "      <td>Alexa Weibel</td>\n",
       "      <td>5</td>\n",
       "      <td>390</td>\n",
       "    </tr>\n",
       "    <tr>\n",
       "      <th>49</th>\n",
       "      <td>49</td>\n",
       "      <td>Chocolate-Chip Banana Bread</td>\n",
       "      <td>Erin Jeanne McDowell</td>\n",
       "      <td>5</td>\n",
       "      <td>365</td>\n",
       "    </tr>\n",
       "    <tr>\n",
       "      <th>406</th>\n",
       "      <td>406</td>\n",
       "      <td>Sardine Toasts With Tomato and Sweet Onion</td>\n",
       "      <td>Melissa Clark</td>\n",
       "      <td>5</td>\n",
       "      <td>328</td>\n",
       "    </tr>\n",
       "    <tr>\n",
       "      <th>217</th>\n",
       "      <td>217</td>\n",
       "      <td>Sugar Cookie Bars</td>\n",
       "      <td>Margaux Laskey</td>\n",
       "      <td>5</td>\n",
       "      <td>305</td>\n",
       "    </tr>\n",
       "    <tr>\n",
       "      <th>258</th>\n",
       "      <td>258</td>\n",
       "      <td>Pressure Cooker Salsa Verde Chicken</td>\n",
       "      <td>Sarah DiGregorio</td>\n",
       "      <td>5</td>\n",
       "      <td>290</td>\n",
       "    </tr>\n",
       "    <tr>\n",
       "      <th>372</th>\n",
       "      <td>372</td>\n",
       "      <td>Lemony White Beans With Anchovy and Parmesan</td>\n",
       "      <td>Alison Roman</td>\n",
       "      <td>5</td>\n",
       "      <td>287</td>\n",
       "    </tr>\n",
       "    <tr>\n",
       "      <th>321</th>\n",
       "      <td>321</td>\n",
       "      <td>Pumpkin Maple Cornbread</td>\n",
       "      <td>Samantha Seneviratne</td>\n",
       "      <td>5</td>\n",
       "      <td>270</td>\n",
       "    </tr>\n",
       "    <tr>\n",
       "      <th>132</th>\n",
       "      <td>132</td>\n",
       "      <td>Seared Salmon With Citrus and Arugula Salad</td>\n",
       "      <td>Lidey Heuck</td>\n",
       "      <td>5</td>\n",
       "      <td>244</td>\n",
       "    </tr>\n",
       "    <tr>\n",
       "      <th>99</th>\n",
       "      <td>99</td>\n",
       "      <td>Jalapeño Poppers</td>\n",
       "      <td>Alexa Weibel</td>\n",
       "      <td>5</td>\n",
       "      <td>234</td>\n",
       "    </tr>\n",
       "    <tr>\n",
       "      <th>293</th>\n",
       "      <td>293</td>\n",
       "      <td>Leafy Herb Salad</td>\n",
       "      <td>Alison Roman</td>\n",
       "      <td>5</td>\n",
       "      <td>223</td>\n",
       "    </tr>\n",
       "    <tr>\n",
       "      <th>342</th>\n",
       "      <td>342</td>\n",
       "      <td>Roasted and Raw Brussels Sprouts Salad</td>\n",
       "      <td>Susan Spungen</td>\n",
       "      <td>5</td>\n",
       "      <td>207</td>\n",
       "    </tr>\n",
       "    <tr>\n",
       "      <th>420</th>\n",
       "      <td>420</td>\n",
       "      <td>Pressure Cooker BBQ Pulled Pork</td>\n",
       "      <td>Sarah DiGregorio</td>\n",
       "      <td>5</td>\n",
       "      <td>102</td>\n",
       "    </tr>\n",
       "    <tr>\n",
       "      <th>374</th>\n",
       "      <td>374</td>\n",
       "      <td>Arroz Caldo With Collards and Soy-Cured Egg Yolks</td>\n",
       "      <td>Angela Dimayuga</td>\n",
       "      <td>5</td>\n",
       "      <td>77</td>\n",
       "    </tr>\n",
       "    <tr>\n",
       "      <th>324</th>\n",
       "      <td>324</td>\n",
       "      <td>Skillet Caramel-Apple Crisp</td>\n",
       "      <td>Yossy Arefi</td>\n",
       "      <td>5</td>\n",
       "      <td>69</td>\n",
       "    </tr>\n",
       "    <tr>\n",
       "      <th>215</th>\n",
       "      <td>215</td>\n",
       "      <td>Peppermint Brownies</td>\n",
       "      <td>Erin Jeanne McDowell</td>\n",
       "      <td>5</td>\n",
       "      <td>57</td>\n",
       "    </tr>\n",
       "    <tr>\n",
       "      <th>62</th>\n",
       "      <td>62</td>\n",
       "      <td>Chicken Potpie With Cornbread Biscuits</td>\n",
       "      <td>Lidey Heuck</td>\n",
       "      <td>5</td>\n",
       "      <td>45</td>\n",
       "    </tr>\n",
       "    <tr>\n",
       "      <th>312</th>\n",
       "      <td>312</td>\n",
       "      <td>Salmon With Crushed Blackberries and Seaweed</td>\n",
       "      <td>Sean Sherman</td>\n",
       "      <td>5</td>\n",
       "      <td>36</td>\n",
       "    </tr>\n",
       "    <tr>\n",
       "      <th>34</th>\n",
       "      <td>34</td>\n",
       "      <td>Vegan Turkish Kebabs With Sumac Onions and Gar...</td>\n",
       "      <td>J. Kenji López-Alt</td>\n",
       "      <td>5</td>\n",
       "      <td>35</td>\n",
       "    </tr>\n",
       "    <tr>\n",
       "      <th>315</th>\n",
       "      <td>315</td>\n",
       "      <td>Wild Rice and Berries With Popped Rice</td>\n",
       "      <td>Sean Sherman</td>\n",
       "      <td>5</td>\n",
       "      <td>31</td>\n",
       "    </tr>\n",
       "    <tr>\n",
       "      <th>331</th>\n",
       "      <td>331</td>\n",
       "      <td>Mashed Sweet Potatoes With Maple and Brown Butter</td>\n",
       "      <td>Lidey Heuck</td>\n",
       "      <td>5</td>\n",
       "      <td>30</td>\n",
       "    </tr>\n",
       "    <tr>\n",
       "      <th>116</th>\n",
       "      <td>116</td>\n",
       "      <td>Vegan Pressure Cooker Red Beans and Rice</td>\n",
       "      <td>Sarah DiGregorio</td>\n",
       "      <td>5</td>\n",
       "      <td>20</td>\n",
       "    </tr>\n",
       "    <tr>\n",
       "      <th>168</th>\n",
       "      <td>168</td>\n",
       "      <td>Ozoni (Mochi Soup)</td>\n",
       "      <td>Hannah Kirshner</td>\n",
       "      <td>5</td>\n",
       "      <td>14</td>\n",
       "    </tr>\n",
       "    <tr>\n",
       "      <th>226</th>\n",
       "      <td>226</td>\n",
       "      <td>Spicy Steak and Watercress on a Roll</td>\n",
       "      <td>David Tanis</td>\n",
       "      <td>5</td>\n",
       "      <td>12</td>\n",
       "    </tr>\n",
       "    <tr>\n",
       "      <th>176</th>\n",
       "      <td>176</td>\n",
       "      <td>Mexican-Style Atole</td>\n",
       "      <td>Kiera Wright-Ruiz</td>\n",
       "      <td>5</td>\n",
       "      <td>11</td>\n",
       "    </tr>\n",
       "    <tr>\n",
       "      <th>72</th>\n",
       "      <td>72</td>\n",
       "      <td>Sherry Margarita</td>\n",
       "      <td>Rebekah Peppler</td>\n",
       "      <td>5</td>\n",
       "      <td>10</td>\n",
       "    </tr>\n",
       "    <tr>\n",
       "      <th>35</th>\n",
       "      <td>35</td>\n",
       "      <td>Steamed Clams With Garlic-Parsley Butter and L...</td>\n",
       "      <td>David Tanis</td>\n",
       "      <td>5</td>\n",
       "      <td>9</td>\n",
       "    </tr>\n",
       "    <tr>\n",
       "      <th>5</th>\n",
       "      <td>5</td>\n",
       "      <td>Braised Fennel With White Bean Purée</td>\n",
       "      <td>Julia Sherman</td>\n",
       "      <td>5</td>\n",
       "      <td>5</td>\n",
       "    </tr>\n",
       "    <tr>\n",
       "      <th>307</th>\n",
       "      <td>307</td>\n",
       "      <td>Crawfish and Shrimp Pot With Spiced Sweet Pota...</td>\n",
       "      <td>Sean Sherman</td>\n",
       "      <td>5</td>\n",
       "      <td>5</td>\n",
       "    </tr>\n",
       "    <tr>\n",
       "      <th>208</th>\n",
       "      <td>208</td>\n",
       "      <td>Vinegar Chicken With Crushed Olive Dressing</td>\n",
       "      <td>Alison Roman</td>\n",
       "      <td>4</td>\n",
       "      <td>5909</td>\n",
       "    </tr>\n",
       "    <tr>\n",
       "      <th>183</th>\n",
       "      <td>183</td>\n",
       "      <td>Spicy Sesame Noodles With Chicken and Peanuts</td>\n",
       "      <td>Ali Slagle</td>\n",
       "      <td>4</td>\n",
       "      <td>2648</td>\n",
       "    </tr>\n",
       "    <tr>\n",
       "      <th>157</th>\n",
       "      <td>157</td>\n",
       "      <td>Mushroom Bourguignon</td>\n",
       "      <td>Melissa Clark</td>\n",
       "      <td>4</td>\n",
       "      <td>2561</td>\n",
       "    </tr>\n",
       "  </tbody>\n",
       "</table>\n",
       "</div>"
      ],
      "text/plain": [
       "     Unnamed: 0                                        Recipe Name  \\\n",
       "102         102                          Caramelized Shallot Pasta   \n",
       "162         162           Spicy White Bean Stew With Broccoli Rabe   \n",
       "284         284                Thai-Inspired Chicken Meatball Soup   \n",
       "151         151  Red Curry Lentils With Sweet Potatoes and Spinach   \n",
       "210         210                        Via Carota’s Insalata Verde   \n",
       "414         414      Coconut Curry Chickpeas With Pumpkin and Lime   \n",
       "112         112                        Lemony Shrimp and Bean Stew   \n",
       "128         128        Cheesy Baked Pasta With Sausage and Ricotta   \n",
       "375         375                         Coconut Milk Chicken Adobo   \n",
       "159         159                            Indian Butter Chickpeas   \n",
       "17           17    Pork Noodle Soup With Ginger and Toasted Garlic   \n",
       "351         351            Roasted Sausages With Grapes and Onions   \n",
       "376         376        Labneh Dip With Sizzled Scallions and Chile   \n",
       "238         238                    Gingery Brownie Crinkle Cookies   \n",
       "359         359                                Coconut-Lime Shrimp   \n",
       "50           50  Chicken and Rice Soup With Celery, Parsley and...   \n",
       "241         241                                Basic Sugar Cookies   \n",
       "111         111  Sheet-Pan Gochujang Chicken and Roasted Vegeta...   \n",
       "58           58                 Gluten-Free Chocolate Chip Cookies   \n",
       "221         221                Spicy and Saucy Cherry Tomato Pasta   \n",
       "49           49                        Chocolate-Chip Banana Bread   \n",
       "406         406         Sardine Toasts With Tomato and Sweet Onion   \n",
       "217         217                                  Sugar Cookie Bars   \n",
       "258         258                Pressure Cooker Salsa Verde Chicken   \n",
       "372         372       Lemony White Beans With Anchovy and Parmesan   \n",
       "321         321                            Pumpkin Maple Cornbread   \n",
       "132         132        Seared Salmon With Citrus and Arugula Salad   \n",
       "99           99                                   Jalapeño Poppers   \n",
       "293         293                                   Leafy Herb Salad   \n",
       "342         342             Roasted and Raw Brussels Sprouts Salad   \n",
       "420         420                    Pressure Cooker BBQ Pulled Pork   \n",
       "374         374  Arroz Caldo With Collards and Soy-Cured Egg Yolks   \n",
       "324         324                        Skillet Caramel-Apple Crisp   \n",
       "215         215                                Peppermint Brownies   \n",
       "62           62             Chicken Potpie With Cornbread Biscuits   \n",
       "312         312       Salmon With Crushed Blackberries and Seaweed   \n",
       "34           34  Vegan Turkish Kebabs With Sumac Onions and Gar...   \n",
       "315         315             Wild Rice and Berries With Popped Rice   \n",
       "331         331  Mashed Sweet Potatoes With Maple and Brown Butter   \n",
       "116         116           Vegan Pressure Cooker Red Beans and Rice   \n",
       "168         168                                 Ozoni (Mochi Soup)   \n",
       "226         226               Spicy Steak and Watercress on a Roll   \n",
       "176         176                                Mexican-Style Atole   \n",
       "72           72                                   Sherry Margarita   \n",
       "35           35  Steamed Clams With Garlic-Parsley Butter and L...   \n",
       "5             5               Braised Fennel With White Bean Purée   \n",
       "307         307  Crawfish and Shrimp Pot With Spiced Sweet Pota...   \n",
       "208         208        Vinegar Chicken With Crushed Olive Dressing   \n",
       "183         183      Spicy Sesame Noodles With Chicken and Peanuts   \n",
       "157         157                               Mushroom Bourguignon   \n",
       "\n",
       "            Recipe Author  Recipe Rating  Recipe Review Count  \n",
       "102          Alison Roman              5                 3766  \n",
       "162          Alison Roman              5                 3168  \n",
       "284            Ali Slagle              5                 2598  \n",
       "151           Lidey Heuck              5                 2499  \n",
       "210          Samin Nosrat              5                 2375  \n",
       "414         Melissa Clark              5                 1483  \n",
       "112                Sue Li              5                 1311  \n",
       "128         Melissa Clark              5                 1290  \n",
       "375       Angela Dimayuga              5                 1175  \n",
       "159         Melissa Clark              5                  952  \n",
       "17           Alison Roman              5                  856  \n",
       "351         Melissa Clark              5                  712  \n",
       "376          Alison Roman              5                  597  \n",
       "238         Susan Spungen              5                  586  \n",
       "359         Melissa Clark              5                  545  \n",
       "50             Ali Slagle              5                  533  \n",
       "241         Susan Spungen              5                  463  \n",
       "111      Yewande Komolafe              5                  453  \n",
       "58   Erin Jeanne McDowell              5                  412  \n",
       "221          Alexa Weibel              5                  390  \n",
       "49   Erin Jeanne McDowell              5                  365  \n",
       "406         Melissa Clark              5                  328  \n",
       "217        Margaux Laskey              5                  305  \n",
       "258      Sarah DiGregorio              5                  290  \n",
       "372          Alison Roman              5                  287  \n",
       "321  Samantha Seneviratne              5                  270  \n",
       "132           Lidey Heuck              5                  244  \n",
       "99           Alexa Weibel              5                  234  \n",
       "293          Alison Roman              5                  223  \n",
       "342         Susan Spungen              5                  207  \n",
       "420      Sarah DiGregorio              5                  102  \n",
       "374       Angela Dimayuga              5                   77  \n",
       "324           Yossy Arefi              5                   69  \n",
       "215  Erin Jeanne McDowell              5                   57  \n",
       "62            Lidey Heuck              5                   45  \n",
       "312          Sean Sherman              5                   36  \n",
       "34     J. Kenji López-Alt              5                   35  \n",
       "315          Sean Sherman              5                   31  \n",
       "331           Lidey Heuck              5                   30  \n",
       "116      Sarah DiGregorio              5                   20  \n",
       "168       Hannah Kirshner              5                   14  \n",
       "226           David Tanis              5                   12  \n",
       "176     Kiera Wright-Ruiz              5                   11  \n",
       "72        Rebekah Peppler              5                   10  \n",
       "35            David Tanis              5                    9  \n",
       "5           Julia Sherman              5                    5  \n",
       "307          Sean Sherman              5                    5  \n",
       "208          Alison Roman              4                 5909  \n",
       "183            Ali Slagle              4                 2648  \n",
       "157         Melissa Clark              4                 2561  "
      ]
     },
     "metadata": {},
     "output_type": "display_data"
    }
   ],
   "source": [
    "sorted_recipe_information = recipe_information.sort_values(['Recipe Rating', 'Recipe Review Count'], ascending = False)\n",
    "\n",
    "display (sorted_recipe_information.head(50))"
   ]
  },
  {
   "cell_type": "markdown",
   "metadata": {},
   "source": [
    "Great job, Alison! I can confirm that your Pork Noodle Soup is quite delicious!\n",
    "\n",
    "Now let's take a look at which authors create the biggest percentage of 5-star recipes."
   ]
  },
  {
   "cell_type": "code",
   "execution_count": 89,
   "metadata": {},
   "outputs": [
    {
     "data": {
      "text/html": [
       "<div>\n",
       "<style scoped>\n",
       "    .dataframe tbody tr th:only-of-type {\n",
       "        vertical-align: middle;\n",
       "    }\n",
       "\n",
       "    .dataframe tbody tr th {\n",
       "        vertical-align: top;\n",
       "    }\n",
       "\n",
       "    .dataframe thead th {\n",
       "        text-align: right;\n",
       "    }\n",
       "</style>\n",
       "<table border=\"1\" class=\"dataframe\">\n",
       "  <thead>\n",
       "    <tr style=\"text-align: right;\">\n",
       "      <th></th>\n",
       "      <th>Recipe Name</th>\n",
       "      <th>Recipe Author</th>\n",
       "      <th>Recipe Rating</th>\n",
       "      <th>Recipe Review Count</th>\n",
       "    </tr>\n",
       "  </thead>\n",
       "  <tbody>\n",
       "    <tr>\n",
       "      <th>5</th>\n",
       "      <td>Braised Fennel With White Bean Purée</td>\n",
       "      <td>Julia Sherman</td>\n",
       "      <td>5</td>\n",
       "      <td>5</td>\n",
       "    </tr>\n",
       "    <tr>\n",
       "      <th>17</th>\n",
       "      <td>Pork Noodle Soup With Ginger and Toasted Garlic</td>\n",
       "      <td>Alison Roman</td>\n",
       "      <td>5</td>\n",
       "      <td>856</td>\n",
       "    </tr>\n",
       "    <tr>\n",
       "      <th>34</th>\n",
       "      <td>Vegan Turkish Kebabs With Sumac Onions and Gar...</td>\n",
       "      <td>J. Kenji López-Alt</td>\n",
       "      <td>5</td>\n",
       "      <td>35</td>\n",
       "    </tr>\n",
       "    <tr>\n",
       "      <th>35</th>\n",
       "      <td>Steamed Clams With Garlic-Parsley Butter and L...</td>\n",
       "      <td>David Tanis</td>\n",
       "      <td>5</td>\n",
       "      <td>9</td>\n",
       "    </tr>\n",
       "    <tr>\n",
       "      <th>49</th>\n",
       "      <td>Chocolate-Chip Banana Bread</td>\n",
       "      <td>Erin Jeanne McDowell</td>\n",
       "      <td>5</td>\n",
       "      <td>365</td>\n",
       "    </tr>\n",
       "    <tr>\n",
       "      <th>50</th>\n",
       "      <td>Chicken and Rice Soup With Celery, Parsley and...</td>\n",
       "      <td>Ali Slagle</td>\n",
       "      <td>5</td>\n",
       "      <td>533</td>\n",
       "    </tr>\n",
       "    <tr>\n",
       "      <th>58</th>\n",
       "      <td>Gluten-Free Chocolate Chip Cookies</td>\n",
       "      <td>Erin Jeanne McDowell</td>\n",
       "      <td>5</td>\n",
       "      <td>412</td>\n",
       "    </tr>\n",
       "    <tr>\n",
       "      <th>62</th>\n",
       "      <td>Chicken Potpie With Cornbread Biscuits</td>\n",
       "      <td>Lidey Heuck</td>\n",
       "      <td>5</td>\n",
       "      <td>45</td>\n",
       "    </tr>\n",
       "    <tr>\n",
       "      <th>72</th>\n",
       "      <td>Sherry Margarita</td>\n",
       "      <td>Rebekah Peppler</td>\n",
       "      <td>5</td>\n",
       "      <td>10</td>\n",
       "    </tr>\n",
       "    <tr>\n",
       "      <th>99</th>\n",
       "      <td>Jalapeño Poppers</td>\n",
       "      <td>Alexa Weibel</td>\n",
       "      <td>5</td>\n",
       "      <td>234</td>\n",
       "    </tr>\n",
       "    <tr>\n",
       "      <th>102</th>\n",
       "      <td>Caramelized Shallot Pasta</td>\n",
       "      <td>Alison Roman</td>\n",
       "      <td>5</td>\n",
       "      <td>3766</td>\n",
       "    </tr>\n",
       "    <tr>\n",
       "      <th>111</th>\n",
       "      <td>Sheet-Pan Gochujang Chicken and Roasted Vegeta...</td>\n",
       "      <td>Yewande Komolafe</td>\n",
       "      <td>5</td>\n",
       "      <td>453</td>\n",
       "    </tr>\n",
       "    <tr>\n",
       "      <th>112</th>\n",
       "      <td>Lemony Shrimp and Bean Stew</td>\n",
       "      <td>Sue Li</td>\n",
       "      <td>5</td>\n",
       "      <td>1311</td>\n",
       "    </tr>\n",
       "    <tr>\n",
       "      <th>116</th>\n",
       "      <td>Vegan Pressure Cooker Red Beans and Rice</td>\n",
       "      <td>Sarah DiGregorio</td>\n",
       "      <td>5</td>\n",
       "      <td>20</td>\n",
       "    </tr>\n",
       "    <tr>\n",
       "      <th>128</th>\n",
       "      <td>Cheesy Baked Pasta With Sausage and Ricotta</td>\n",
       "      <td>Melissa Clark</td>\n",
       "      <td>5</td>\n",
       "      <td>1290</td>\n",
       "    </tr>\n",
       "    <tr>\n",
       "      <th>132</th>\n",
       "      <td>Seared Salmon With Citrus and Arugula Salad</td>\n",
       "      <td>Lidey Heuck</td>\n",
       "      <td>5</td>\n",
       "      <td>244</td>\n",
       "    </tr>\n",
       "    <tr>\n",
       "      <th>151</th>\n",
       "      <td>Red Curry Lentils With Sweet Potatoes and Spinach</td>\n",
       "      <td>Lidey Heuck</td>\n",
       "      <td>5</td>\n",
       "      <td>2499</td>\n",
       "    </tr>\n",
       "    <tr>\n",
       "      <th>159</th>\n",
       "      <td>Indian Butter Chickpeas</td>\n",
       "      <td>Melissa Clark</td>\n",
       "      <td>5</td>\n",
       "      <td>952</td>\n",
       "    </tr>\n",
       "    <tr>\n",
       "      <th>162</th>\n",
       "      <td>Spicy White Bean Stew With Broccoli Rabe</td>\n",
       "      <td>Alison Roman</td>\n",
       "      <td>5</td>\n",
       "      <td>3168</td>\n",
       "    </tr>\n",
       "    <tr>\n",
       "      <th>168</th>\n",
       "      <td>Ozoni (Mochi Soup)</td>\n",
       "      <td>Hannah Kirshner</td>\n",
       "      <td>5</td>\n",
       "      <td>14</td>\n",
       "    </tr>\n",
       "    <tr>\n",
       "      <th>176</th>\n",
       "      <td>Mexican-Style Atole</td>\n",
       "      <td>Kiera Wright-Ruiz</td>\n",
       "      <td>5</td>\n",
       "      <td>11</td>\n",
       "    </tr>\n",
       "    <tr>\n",
       "      <th>210</th>\n",
       "      <td>Via Carota’s Insalata Verde</td>\n",
       "      <td>Samin Nosrat</td>\n",
       "      <td>5</td>\n",
       "      <td>2375</td>\n",
       "    </tr>\n",
       "    <tr>\n",
       "      <th>215</th>\n",
       "      <td>Peppermint Brownies</td>\n",
       "      <td>Erin Jeanne McDowell</td>\n",
       "      <td>5</td>\n",
       "      <td>57</td>\n",
       "    </tr>\n",
       "    <tr>\n",
       "      <th>217</th>\n",
       "      <td>Sugar Cookie Bars</td>\n",
       "      <td>Margaux Laskey</td>\n",
       "      <td>5</td>\n",
       "      <td>305</td>\n",
       "    </tr>\n",
       "    <tr>\n",
       "      <th>221</th>\n",
       "      <td>Spicy and Saucy Cherry Tomato Pasta</td>\n",
       "      <td>Alexa Weibel</td>\n",
       "      <td>5</td>\n",
       "      <td>390</td>\n",
       "    </tr>\n",
       "    <tr>\n",
       "      <th>226</th>\n",
       "      <td>Spicy Steak and Watercress on a Roll</td>\n",
       "      <td>David Tanis</td>\n",
       "      <td>5</td>\n",
       "      <td>12</td>\n",
       "    </tr>\n",
       "    <tr>\n",
       "      <th>238</th>\n",
       "      <td>Gingery Brownie Crinkle Cookies</td>\n",
       "      <td>Susan Spungen</td>\n",
       "      <td>5</td>\n",
       "      <td>586</td>\n",
       "    </tr>\n",
       "    <tr>\n",
       "      <th>241</th>\n",
       "      <td>Basic Sugar Cookies</td>\n",
       "      <td>Susan Spungen</td>\n",
       "      <td>5</td>\n",
       "      <td>463</td>\n",
       "    </tr>\n",
       "    <tr>\n",
       "      <th>258</th>\n",
       "      <td>Pressure Cooker Salsa Verde Chicken</td>\n",
       "      <td>Sarah DiGregorio</td>\n",
       "      <td>5</td>\n",
       "      <td>290</td>\n",
       "    </tr>\n",
       "    <tr>\n",
       "      <th>284</th>\n",
       "      <td>Thai-Inspired Chicken Meatball Soup</td>\n",
       "      <td>Ali Slagle</td>\n",
       "      <td>5</td>\n",
       "      <td>2598</td>\n",
       "    </tr>\n",
       "    <tr>\n",
       "      <th>293</th>\n",
       "      <td>Leafy Herb Salad</td>\n",
       "      <td>Alison Roman</td>\n",
       "      <td>5</td>\n",
       "      <td>223</td>\n",
       "    </tr>\n",
       "    <tr>\n",
       "      <th>307</th>\n",
       "      <td>Crawfish and Shrimp Pot With Spiced Sweet Pota...</td>\n",
       "      <td>Sean Sherman</td>\n",
       "      <td>5</td>\n",
       "      <td>5</td>\n",
       "    </tr>\n",
       "    <tr>\n",
       "      <th>312</th>\n",
       "      <td>Salmon With Crushed Blackberries and Seaweed</td>\n",
       "      <td>Sean Sherman</td>\n",
       "      <td>5</td>\n",
       "      <td>36</td>\n",
       "    </tr>\n",
       "    <tr>\n",
       "      <th>315</th>\n",
       "      <td>Wild Rice and Berries With Popped Rice</td>\n",
       "      <td>Sean Sherman</td>\n",
       "      <td>5</td>\n",
       "      <td>31</td>\n",
       "    </tr>\n",
       "    <tr>\n",
       "      <th>321</th>\n",
       "      <td>Pumpkin Maple Cornbread</td>\n",
       "      <td>Samantha Seneviratne</td>\n",
       "      <td>5</td>\n",
       "      <td>270</td>\n",
       "    </tr>\n",
       "    <tr>\n",
       "      <th>324</th>\n",
       "      <td>Skillet Caramel-Apple Crisp</td>\n",
       "      <td>Yossy Arefi</td>\n",
       "      <td>5</td>\n",
       "      <td>69</td>\n",
       "    </tr>\n",
       "    <tr>\n",
       "      <th>331</th>\n",
       "      <td>Mashed Sweet Potatoes With Maple and Brown Butter</td>\n",
       "      <td>Lidey Heuck</td>\n",
       "      <td>5</td>\n",
       "      <td>30</td>\n",
       "    </tr>\n",
       "    <tr>\n",
       "      <th>342</th>\n",
       "      <td>Roasted and Raw Brussels Sprouts Salad</td>\n",
       "      <td>Susan Spungen</td>\n",
       "      <td>5</td>\n",
       "      <td>207</td>\n",
       "    </tr>\n",
       "    <tr>\n",
       "      <th>351</th>\n",
       "      <td>Roasted Sausages With Grapes and Onions</td>\n",
       "      <td>Melissa Clark</td>\n",
       "      <td>5</td>\n",
       "      <td>712</td>\n",
       "    </tr>\n",
       "    <tr>\n",
       "      <th>359</th>\n",
       "      <td>Coconut-Lime Shrimp</td>\n",
       "      <td>Melissa Clark</td>\n",
       "      <td>5</td>\n",
       "      <td>545</td>\n",
       "    </tr>\n",
       "    <tr>\n",
       "      <th>372</th>\n",
       "      <td>Lemony White Beans With Anchovy and Parmesan</td>\n",
       "      <td>Alison Roman</td>\n",
       "      <td>5</td>\n",
       "      <td>287</td>\n",
       "    </tr>\n",
       "    <tr>\n",
       "      <th>374</th>\n",
       "      <td>Arroz Caldo With Collards and Soy-Cured Egg Yolks</td>\n",
       "      <td>Angela Dimayuga</td>\n",
       "      <td>5</td>\n",
       "      <td>77</td>\n",
       "    </tr>\n",
       "    <tr>\n",
       "      <th>375</th>\n",
       "      <td>Coconut Milk Chicken Adobo</td>\n",
       "      <td>Angela Dimayuga</td>\n",
       "      <td>5</td>\n",
       "      <td>1175</td>\n",
       "    </tr>\n",
       "    <tr>\n",
       "      <th>376</th>\n",
       "      <td>Labneh Dip With Sizzled Scallions and Chile</td>\n",
       "      <td>Alison Roman</td>\n",
       "      <td>5</td>\n",
       "      <td>597</td>\n",
       "    </tr>\n",
       "    <tr>\n",
       "      <th>406</th>\n",
       "      <td>Sardine Toasts With Tomato and Sweet Onion</td>\n",
       "      <td>Melissa Clark</td>\n",
       "      <td>5</td>\n",
       "      <td>328</td>\n",
       "    </tr>\n",
       "    <tr>\n",
       "      <th>414</th>\n",
       "      <td>Coconut Curry Chickpeas With Pumpkin and Lime</td>\n",
       "      <td>Melissa Clark</td>\n",
       "      <td>5</td>\n",
       "      <td>1483</td>\n",
       "    </tr>\n",
       "    <tr>\n",
       "      <th>420</th>\n",
       "      <td>Pressure Cooker BBQ Pulled Pork</td>\n",
       "      <td>Sarah DiGregorio</td>\n",
       "      <td>5</td>\n",
       "      <td>102</td>\n",
       "    </tr>\n",
       "  </tbody>\n",
       "</table>\n",
       "</div>"
      ],
      "text/plain": [
       "                                           Recipe Name         Recipe Author  \\\n",
       "5                 Braised Fennel With White Bean Purée         Julia Sherman   \n",
       "17     Pork Noodle Soup With Ginger and Toasted Garlic          Alison Roman   \n",
       "34   Vegan Turkish Kebabs With Sumac Onions and Gar...    J. Kenji López-Alt   \n",
       "35   Steamed Clams With Garlic-Parsley Butter and L...           David Tanis   \n",
       "49                         Chocolate-Chip Banana Bread  Erin Jeanne McDowell   \n",
       "50   Chicken and Rice Soup With Celery, Parsley and...            Ali Slagle   \n",
       "58                  Gluten-Free Chocolate Chip Cookies  Erin Jeanne McDowell   \n",
       "62              Chicken Potpie With Cornbread Biscuits           Lidey Heuck   \n",
       "72                                    Sherry Margarita       Rebekah Peppler   \n",
       "99                                    Jalapeño Poppers          Alexa Weibel   \n",
       "102                          Caramelized Shallot Pasta          Alison Roman   \n",
       "111  Sheet-Pan Gochujang Chicken and Roasted Vegeta...      Yewande Komolafe   \n",
       "112                        Lemony Shrimp and Bean Stew                Sue Li   \n",
       "116           Vegan Pressure Cooker Red Beans and Rice      Sarah DiGregorio   \n",
       "128        Cheesy Baked Pasta With Sausage and Ricotta         Melissa Clark   \n",
       "132        Seared Salmon With Citrus and Arugula Salad           Lidey Heuck   \n",
       "151  Red Curry Lentils With Sweet Potatoes and Spinach           Lidey Heuck   \n",
       "159                            Indian Butter Chickpeas         Melissa Clark   \n",
       "162           Spicy White Bean Stew With Broccoli Rabe          Alison Roman   \n",
       "168                                 Ozoni (Mochi Soup)       Hannah Kirshner   \n",
       "176                                Mexican-Style Atole     Kiera Wright-Ruiz   \n",
       "210                        Via Carota’s Insalata Verde          Samin Nosrat   \n",
       "215                                Peppermint Brownies  Erin Jeanne McDowell   \n",
       "217                                  Sugar Cookie Bars        Margaux Laskey   \n",
       "221                Spicy and Saucy Cherry Tomato Pasta          Alexa Weibel   \n",
       "226               Spicy Steak and Watercress on a Roll           David Tanis   \n",
       "238                    Gingery Brownie Crinkle Cookies         Susan Spungen   \n",
       "241                                Basic Sugar Cookies         Susan Spungen   \n",
       "258                Pressure Cooker Salsa Verde Chicken      Sarah DiGregorio   \n",
       "284                Thai-Inspired Chicken Meatball Soup            Ali Slagle   \n",
       "293                                   Leafy Herb Salad          Alison Roman   \n",
       "307  Crawfish and Shrimp Pot With Spiced Sweet Pota...          Sean Sherman   \n",
       "312       Salmon With Crushed Blackberries and Seaweed          Sean Sherman   \n",
       "315             Wild Rice and Berries With Popped Rice          Sean Sherman   \n",
       "321                            Pumpkin Maple Cornbread  Samantha Seneviratne   \n",
       "324                        Skillet Caramel-Apple Crisp           Yossy Arefi   \n",
       "331  Mashed Sweet Potatoes With Maple and Brown Butter           Lidey Heuck   \n",
       "342             Roasted and Raw Brussels Sprouts Salad         Susan Spungen   \n",
       "351            Roasted Sausages With Grapes and Onions         Melissa Clark   \n",
       "359                                Coconut-Lime Shrimp         Melissa Clark   \n",
       "372       Lemony White Beans With Anchovy and Parmesan          Alison Roman   \n",
       "374  Arroz Caldo With Collards and Soy-Cured Egg Yolks       Angela Dimayuga   \n",
       "375                         Coconut Milk Chicken Adobo       Angela Dimayuga   \n",
       "376        Labneh Dip With Sizzled Scallions and Chile          Alison Roman   \n",
       "406         Sardine Toasts With Tomato and Sweet Onion         Melissa Clark   \n",
       "414      Coconut Curry Chickpeas With Pumpkin and Lime         Melissa Clark   \n",
       "420                    Pressure Cooker BBQ Pulled Pork      Sarah DiGregorio   \n",
       "\n",
       "     Recipe Rating  Recipe Review Count  \n",
       "5                5                    5  \n",
       "17               5                  856  \n",
       "34               5                   35  \n",
       "35               5                    9  \n",
       "49               5                  365  \n",
       "50               5                  533  \n",
       "58               5                  412  \n",
       "62               5                   45  \n",
       "72               5                   10  \n",
       "99               5                  234  \n",
       "102              5                 3766  \n",
       "111              5                  453  \n",
       "112              5                 1311  \n",
       "116              5                   20  \n",
       "128              5                 1290  \n",
       "132              5                  244  \n",
       "151              5                 2499  \n",
       "159              5                  952  \n",
       "162              5                 3168  \n",
       "168              5                   14  \n",
       "176              5                   11  \n",
       "210              5                 2375  \n",
       "215              5                   57  \n",
       "217              5                  305  \n",
       "221              5                  390  \n",
       "226              5                   12  \n",
       "238              5                  586  \n",
       "241              5                  463  \n",
       "258              5                  290  \n",
       "284              5                 2598  \n",
       "293              5                  223  \n",
       "307              5                    5  \n",
       "312              5                   36  \n",
       "315              5                   31  \n",
       "321              5                  270  \n",
       "324              5                   69  \n",
       "331              5                   30  \n",
       "342              5                  207  \n",
       "351              5                  712  \n",
       "359              5                  545  \n",
       "372              5                  287  \n",
       "374              5                   77  \n",
       "375              5                 1175  \n",
       "376              5                  597  \n",
       "406              5                  328  \n",
       "414              5                 1483  \n",
       "420              5                  102  "
      ]
     },
     "metadata": {},
     "output_type": "display_data"
    }
   ],
   "source": [
    "recipe_information_five_star = recipe_information.loc[recipe_information['Recipe Rating'] == 5].iloc[:, 1::]\n",
    "display (recipe_information_five_star)"
   ]
  },
  {
   "cell_type": "code",
   "execution_count": 90,
   "metadata": {},
   "outputs": [
    {
     "data": {
      "application/vnd.plotly.v1+json": {
       "config": {
        "plotlyServerURL": "https://plot.ly"
       },
       "data": [
        {
         "domain": {
          "x": [
           0,
           1
          ],
          "y": [
           0,
           1
          ]
         },
         "hoverlabel": {
          "namelength": 0
         },
         "hovertemplate": "Recipe Author=%{label}<br>Counts=%{value}",
         "labels": [
          "Alexa Weibel",
          "Ali Slagle",
          "Alison Roman",
          "Angela Dimayuga",
          "David Tanis",
          "Erin Jeanne McDowell",
          "Hannah Kirshner",
          "J. Kenji López-Alt",
          "Julia Sherman",
          "Kiera Wright-Ruiz",
          "Lidey Heuck",
          "Margaux Laskey",
          "Melissa Clark",
          "Rebekah Peppler",
          "Samantha Seneviratne",
          "Samin Nosrat",
          "Sarah DiGregorio",
          "Sean Sherman",
          "Sue Li",
          "Susan Spungen",
          "Yewande Komolafe",
          "Yossy Arefi"
         ],
         "legendgroup": "",
         "name": "",
         "showlegend": true,
         "type": "pie",
         "values": [
          2,
          2,
          6,
          2,
          2,
          3,
          1,
          1,
          1,
          1,
          4,
          1,
          6,
          1,
          1,
          1,
          3,
          3,
          1,
          3,
          1,
          1
         ]
        }
       ],
       "layout": {
        "legend": {
         "tracegroupgap": 0
        },
        "template": {
         "data": {
          "bar": [
           {
            "error_x": {
             "color": "#2a3f5f"
            },
            "error_y": {
             "color": "#2a3f5f"
            },
            "marker": {
             "line": {
              "color": "#E5ECF6",
              "width": 0.5
             }
            },
            "type": "bar"
           }
          ],
          "barpolar": [
           {
            "marker": {
             "line": {
              "color": "#E5ECF6",
              "width": 0.5
             }
            },
            "type": "barpolar"
           }
          ],
          "carpet": [
           {
            "aaxis": {
             "endlinecolor": "#2a3f5f",
             "gridcolor": "white",
             "linecolor": "white",
             "minorgridcolor": "white",
             "startlinecolor": "#2a3f5f"
            },
            "baxis": {
             "endlinecolor": "#2a3f5f",
             "gridcolor": "white",
             "linecolor": "white",
             "minorgridcolor": "white",
             "startlinecolor": "#2a3f5f"
            },
            "type": "carpet"
           }
          ],
          "choropleth": [
           {
            "colorbar": {
             "outlinewidth": 0,
             "ticks": ""
            },
            "type": "choropleth"
           }
          ],
          "contour": [
           {
            "colorbar": {
             "outlinewidth": 0,
             "ticks": ""
            },
            "colorscale": [
             [
              0,
              "#0d0887"
             ],
             [
              0.1111111111111111,
              "#46039f"
             ],
             [
              0.2222222222222222,
              "#7201a8"
             ],
             [
              0.3333333333333333,
              "#9c179e"
             ],
             [
              0.4444444444444444,
              "#bd3786"
             ],
             [
              0.5555555555555556,
              "#d8576b"
             ],
             [
              0.6666666666666666,
              "#ed7953"
             ],
             [
              0.7777777777777778,
              "#fb9f3a"
             ],
             [
              0.8888888888888888,
              "#fdca26"
             ],
             [
              1,
              "#f0f921"
             ]
            ],
            "type": "contour"
           }
          ],
          "contourcarpet": [
           {
            "colorbar": {
             "outlinewidth": 0,
             "ticks": ""
            },
            "type": "contourcarpet"
           }
          ],
          "heatmap": [
           {
            "colorbar": {
             "outlinewidth": 0,
             "ticks": ""
            },
            "colorscale": [
             [
              0,
              "#0d0887"
             ],
             [
              0.1111111111111111,
              "#46039f"
             ],
             [
              0.2222222222222222,
              "#7201a8"
             ],
             [
              0.3333333333333333,
              "#9c179e"
             ],
             [
              0.4444444444444444,
              "#bd3786"
             ],
             [
              0.5555555555555556,
              "#d8576b"
             ],
             [
              0.6666666666666666,
              "#ed7953"
             ],
             [
              0.7777777777777778,
              "#fb9f3a"
             ],
             [
              0.8888888888888888,
              "#fdca26"
             ],
             [
              1,
              "#f0f921"
             ]
            ],
            "type": "heatmap"
           }
          ],
          "heatmapgl": [
           {
            "colorbar": {
             "outlinewidth": 0,
             "ticks": ""
            },
            "colorscale": [
             [
              0,
              "#0d0887"
             ],
             [
              0.1111111111111111,
              "#46039f"
             ],
             [
              0.2222222222222222,
              "#7201a8"
             ],
             [
              0.3333333333333333,
              "#9c179e"
             ],
             [
              0.4444444444444444,
              "#bd3786"
             ],
             [
              0.5555555555555556,
              "#d8576b"
             ],
             [
              0.6666666666666666,
              "#ed7953"
             ],
             [
              0.7777777777777778,
              "#fb9f3a"
             ],
             [
              0.8888888888888888,
              "#fdca26"
             ],
             [
              1,
              "#f0f921"
             ]
            ],
            "type": "heatmapgl"
           }
          ],
          "histogram": [
           {
            "marker": {
             "colorbar": {
              "outlinewidth": 0,
              "ticks": ""
             }
            },
            "type": "histogram"
           }
          ],
          "histogram2d": [
           {
            "colorbar": {
             "outlinewidth": 0,
             "ticks": ""
            },
            "colorscale": [
             [
              0,
              "#0d0887"
             ],
             [
              0.1111111111111111,
              "#46039f"
             ],
             [
              0.2222222222222222,
              "#7201a8"
             ],
             [
              0.3333333333333333,
              "#9c179e"
             ],
             [
              0.4444444444444444,
              "#bd3786"
             ],
             [
              0.5555555555555556,
              "#d8576b"
             ],
             [
              0.6666666666666666,
              "#ed7953"
             ],
             [
              0.7777777777777778,
              "#fb9f3a"
             ],
             [
              0.8888888888888888,
              "#fdca26"
             ],
             [
              1,
              "#f0f921"
             ]
            ],
            "type": "histogram2d"
           }
          ],
          "histogram2dcontour": [
           {
            "colorbar": {
             "outlinewidth": 0,
             "ticks": ""
            },
            "colorscale": [
             [
              0,
              "#0d0887"
             ],
             [
              0.1111111111111111,
              "#46039f"
             ],
             [
              0.2222222222222222,
              "#7201a8"
             ],
             [
              0.3333333333333333,
              "#9c179e"
             ],
             [
              0.4444444444444444,
              "#bd3786"
             ],
             [
              0.5555555555555556,
              "#d8576b"
             ],
             [
              0.6666666666666666,
              "#ed7953"
             ],
             [
              0.7777777777777778,
              "#fb9f3a"
             ],
             [
              0.8888888888888888,
              "#fdca26"
             ],
             [
              1,
              "#f0f921"
             ]
            ],
            "type": "histogram2dcontour"
           }
          ],
          "mesh3d": [
           {
            "colorbar": {
             "outlinewidth": 0,
             "ticks": ""
            },
            "type": "mesh3d"
           }
          ],
          "parcoords": [
           {
            "line": {
             "colorbar": {
              "outlinewidth": 0,
              "ticks": ""
             }
            },
            "type": "parcoords"
           }
          ],
          "pie": [
           {
            "automargin": true,
            "type": "pie"
           }
          ],
          "scatter": [
           {
            "marker": {
             "colorbar": {
              "outlinewidth": 0,
              "ticks": ""
             }
            },
            "type": "scatter"
           }
          ],
          "scatter3d": [
           {
            "line": {
             "colorbar": {
              "outlinewidth": 0,
              "ticks": ""
             }
            },
            "marker": {
             "colorbar": {
              "outlinewidth": 0,
              "ticks": ""
             }
            },
            "type": "scatter3d"
           }
          ],
          "scattercarpet": [
           {
            "marker": {
             "colorbar": {
              "outlinewidth": 0,
              "ticks": ""
             }
            },
            "type": "scattercarpet"
           }
          ],
          "scattergeo": [
           {
            "marker": {
             "colorbar": {
              "outlinewidth": 0,
              "ticks": ""
             }
            },
            "type": "scattergeo"
           }
          ],
          "scattergl": [
           {
            "marker": {
             "colorbar": {
              "outlinewidth": 0,
              "ticks": ""
             }
            },
            "type": "scattergl"
           }
          ],
          "scattermapbox": [
           {
            "marker": {
             "colorbar": {
              "outlinewidth": 0,
              "ticks": ""
             }
            },
            "type": "scattermapbox"
           }
          ],
          "scatterpolar": [
           {
            "marker": {
             "colorbar": {
              "outlinewidth": 0,
              "ticks": ""
             }
            },
            "type": "scatterpolar"
           }
          ],
          "scatterpolargl": [
           {
            "marker": {
             "colorbar": {
              "outlinewidth": 0,
              "ticks": ""
             }
            },
            "type": "scatterpolargl"
           }
          ],
          "scatterternary": [
           {
            "marker": {
             "colorbar": {
              "outlinewidth": 0,
              "ticks": ""
             }
            },
            "type": "scatterternary"
           }
          ],
          "surface": [
           {
            "colorbar": {
             "outlinewidth": 0,
             "ticks": ""
            },
            "colorscale": [
             [
              0,
              "#0d0887"
             ],
             [
              0.1111111111111111,
              "#46039f"
             ],
             [
              0.2222222222222222,
              "#7201a8"
             ],
             [
              0.3333333333333333,
              "#9c179e"
             ],
             [
              0.4444444444444444,
              "#bd3786"
             ],
             [
              0.5555555555555556,
              "#d8576b"
             ],
             [
              0.6666666666666666,
              "#ed7953"
             ],
             [
              0.7777777777777778,
              "#fb9f3a"
             ],
             [
              0.8888888888888888,
              "#fdca26"
             ],
             [
              1,
              "#f0f921"
             ]
            ],
            "type": "surface"
           }
          ],
          "table": [
           {
            "cells": {
             "fill": {
              "color": "#EBF0F8"
             },
             "line": {
              "color": "white"
             }
            },
            "header": {
             "fill": {
              "color": "#C8D4E3"
             },
             "line": {
              "color": "white"
             }
            },
            "type": "table"
           }
          ]
         },
         "layout": {
          "annotationdefaults": {
           "arrowcolor": "#2a3f5f",
           "arrowhead": 0,
           "arrowwidth": 1
          },
          "coloraxis": {
           "colorbar": {
            "outlinewidth": 0,
            "ticks": ""
           }
          },
          "colorscale": {
           "diverging": [
            [
             0,
             "#8e0152"
            ],
            [
             0.1,
             "#c51b7d"
            ],
            [
             0.2,
             "#de77ae"
            ],
            [
             0.3,
             "#f1b6da"
            ],
            [
             0.4,
             "#fde0ef"
            ],
            [
             0.5,
             "#f7f7f7"
            ],
            [
             0.6,
             "#e6f5d0"
            ],
            [
             0.7,
             "#b8e186"
            ],
            [
             0.8,
             "#7fbc41"
            ],
            [
             0.9,
             "#4d9221"
            ],
            [
             1,
             "#276419"
            ]
           ],
           "sequential": [
            [
             0,
             "#0d0887"
            ],
            [
             0.1111111111111111,
             "#46039f"
            ],
            [
             0.2222222222222222,
             "#7201a8"
            ],
            [
             0.3333333333333333,
             "#9c179e"
            ],
            [
             0.4444444444444444,
             "#bd3786"
            ],
            [
             0.5555555555555556,
             "#d8576b"
            ],
            [
             0.6666666666666666,
             "#ed7953"
            ],
            [
             0.7777777777777778,
             "#fb9f3a"
            ],
            [
             0.8888888888888888,
             "#fdca26"
            ],
            [
             1,
             "#f0f921"
            ]
           ],
           "sequentialminus": [
            [
             0,
             "#0d0887"
            ],
            [
             0.1111111111111111,
             "#46039f"
            ],
            [
             0.2222222222222222,
             "#7201a8"
            ],
            [
             0.3333333333333333,
             "#9c179e"
            ],
            [
             0.4444444444444444,
             "#bd3786"
            ],
            [
             0.5555555555555556,
             "#d8576b"
            ],
            [
             0.6666666666666666,
             "#ed7953"
            ],
            [
             0.7777777777777778,
             "#fb9f3a"
            ],
            [
             0.8888888888888888,
             "#fdca26"
            ],
            [
             1,
             "#f0f921"
            ]
           ]
          },
          "colorway": [
           "#636efa",
           "#EF553B",
           "#00cc96",
           "#ab63fa",
           "#FFA15A",
           "#19d3f3",
           "#FF6692",
           "#B6E880",
           "#FF97FF",
           "#FECB52"
          ],
          "font": {
           "color": "#2a3f5f"
          },
          "geo": {
           "bgcolor": "white",
           "lakecolor": "white",
           "landcolor": "#E5ECF6",
           "showlakes": true,
           "showland": true,
           "subunitcolor": "white"
          },
          "hoverlabel": {
           "align": "left"
          },
          "hovermode": "closest",
          "mapbox": {
           "style": "light"
          },
          "paper_bgcolor": "white",
          "plot_bgcolor": "#E5ECF6",
          "polar": {
           "angularaxis": {
            "gridcolor": "white",
            "linecolor": "white",
            "ticks": ""
           },
           "bgcolor": "#E5ECF6",
           "radialaxis": {
            "gridcolor": "white",
            "linecolor": "white",
            "ticks": ""
           }
          },
          "scene": {
           "xaxis": {
            "backgroundcolor": "#E5ECF6",
            "gridcolor": "white",
            "gridwidth": 2,
            "linecolor": "white",
            "showbackground": true,
            "ticks": "",
            "zerolinecolor": "white"
           },
           "yaxis": {
            "backgroundcolor": "#E5ECF6",
            "gridcolor": "white",
            "gridwidth": 2,
            "linecolor": "white",
            "showbackground": true,
            "ticks": "",
            "zerolinecolor": "white"
           },
           "zaxis": {
            "backgroundcolor": "#E5ECF6",
            "gridcolor": "white",
            "gridwidth": 2,
            "linecolor": "white",
            "showbackground": true,
            "ticks": "",
            "zerolinecolor": "white"
           }
          },
          "shapedefaults": {
           "line": {
            "color": "#2a3f5f"
           }
          },
          "ternary": {
           "aaxis": {
            "gridcolor": "white",
            "linecolor": "white",
            "ticks": ""
           },
           "baxis": {
            "gridcolor": "white",
            "linecolor": "white",
            "ticks": ""
           },
           "bgcolor": "#E5ECF6",
           "caxis": {
            "gridcolor": "white",
            "linecolor": "white",
            "ticks": ""
           }
          },
          "title": {
           "x": 0.05
          },
          "xaxis": {
           "automargin": true,
           "gridcolor": "white",
           "linecolor": "white",
           "ticks": "",
           "title": {
            "standoff": 15
           },
           "zerolinecolor": "white",
           "zerolinewidth": 2
          },
          "yaxis": {
           "automargin": true,
           "gridcolor": "white",
           "linecolor": "white",
           "ticks": "",
           "title": {
            "standoff": 15
           },
           "zerolinecolor": "white",
           "zerolinewidth": 2
          }
         }
        },
        "title": {
         "text": "Percentage of NYT Recipes Written by Each Author"
        }
       }
      },
      "text/html": [
       "<div>\n",
       "        \n",
       "        \n",
       "            <div id=\"20922e08-acb1-4fc2-a244-5792566b9bea\" class=\"plotly-graph-div\" style=\"height:525px; width:100%;\"></div>\n",
       "            <script type=\"text/javascript\">\n",
       "                require([\"plotly\"], function(Plotly) {\n",
       "                    window.PLOTLYENV=window.PLOTLYENV || {};\n",
       "                    \n",
       "                if (document.getElementById(\"20922e08-acb1-4fc2-a244-5792566b9bea\")) {\n",
       "                    Plotly.newPlot(\n",
       "                        '20922e08-acb1-4fc2-a244-5792566b9bea',\n",
       "                        [{\"domain\": {\"x\": [0.0, 1.0], \"y\": [0.0, 1.0]}, \"hoverlabel\": {\"namelength\": 0}, \"hovertemplate\": \"Recipe Author=%{label}<br>Counts=%{value}\", \"labels\": [\"Alexa Weibel\", \"Ali Slagle\", \"Alison Roman\", \"Angela Dimayuga\", \"David Tanis\", \"Erin Jeanne McDowell\", \"Hannah Kirshner\", \"J. Kenji L\\u00f3pez-Alt\", \"Julia Sherman\", \"Kiera Wright-Ruiz\", \"Lidey Heuck\", \"Margaux Laskey\", \"Melissa Clark\", \"Rebekah Peppler\", \"Samantha Seneviratne\", \"Samin Nosrat\", \"Sarah DiGregorio\", \"Sean Sherman\", \"Sue Li\", \"Susan Spungen\", \"Yewande Komolafe\", \"Yossy Arefi\"], \"legendgroup\": \"\", \"name\": \"\", \"showlegend\": true, \"type\": \"pie\", \"values\": [2, 2, 6, 2, 2, 3, 1, 1, 1, 1, 4, 1, 6, 1, 1, 1, 3, 3, 1, 3, 1, 1]}],\n",
       "                        {\"legend\": {\"tracegroupgap\": 0}, \"template\": {\"data\": {\"bar\": [{\"error_x\": {\"color\": \"#2a3f5f\"}, \"error_y\": {\"color\": \"#2a3f5f\"}, \"marker\": {\"line\": {\"color\": \"#E5ECF6\", \"width\": 0.5}}, \"type\": \"bar\"}], \"barpolar\": [{\"marker\": {\"line\": {\"color\": \"#E5ECF6\", \"width\": 0.5}}, \"type\": \"barpolar\"}], \"carpet\": [{\"aaxis\": {\"endlinecolor\": \"#2a3f5f\", \"gridcolor\": \"white\", \"linecolor\": \"white\", \"minorgridcolor\": \"white\", \"startlinecolor\": \"#2a3f5f\"}, \"baxis\": {\"endlinecolor\": \"#2a3f5f\", \"gridcolor\": \"white\", \"linecolor\": \"white\", \"minorgridcolor\": \"white\", \"startlinecolor\": \"#2a3f5f\"}, \"type\": \"carpet\"}], \"choropleth\": [{\"colorbar\": {\"outlinewidth\": 0, \"ticks\": \"\"}, \"type\": \"choropleth\"}], \"contour\": [{\"colorbar\": {\"outlinewidth\": 0, \"ticks\": \"\"}, \"colorscale\": [[0.0, \"#0d0887\"], [0.1111111111111111, \"#46039f\"], [0.2222222222222222, \"#7201a8\"], [0.3333333333333333, \"#9c179e\"], [0.4444444444444444, \"#bd3786\"], [0.5555555555555556, \"#d8576b\"], [0.6666666666666666, \"#ed7953\"], [0.7777777777777778, \"#fb9f3a\"], [0.8888888888888888, \"#fdca26\"], [1.0, \"#f0f921\"]], \"type\": \"contour\"}], \"contourcarpet\": [{\"colorbar\": {\"outlinewidth\": 0, \"ticks\": \"\"}, \"type\": \"contourcarpet\"}], \"heatmap\": [{\"colorbar\": {\"outlinewidth\": 0, \"ticks\": \"\"}, \"colorscale\": [[0.0, \"#0d0887\"], [0.1111111111111111, \"#46039f\"], [0.2222222222222222, \"#7201a8\"], [0.3333333333333333, \"#9c179e\"], [0.4444444444444444, \"#bd3786\"], [0.5555555555555556, \"#d8576b\"], [0.6666666666666666, \"#ed7953\"], [0.7777777777777778, \"#fb9f3a\"], [0.8888888888888888, \"#fdca26\"], [1.0, \"#f0f921\"]], \"type\": \"heatmap\"}], \"heatmapgl\": [{\"colorbar\": {\"outlinewidth\": 0, \"ticks\": \"\"}, \"colorscale\": [[0.0, \"#0d0887\"], [0.1111111111111111, \"#46039f\"], [0.2222222222222222, \"#7201a8\"], [0.3333333333333333, \"#9c179e\"], [0.4444444444444444, \"#bd3786\"], [0.5555555555555556, \"#d8576b\"], [0.6666666666666666, \"#ed7953\"], [0.7777777777777778, \"#fb9f3a\"], [0.8888888888888888, \"#fdca26\"], [1.0, \"#f0f921\"]], \"type\": \"heatmapgl\"}], \"histogram\": [{\"marker\": {\"colorbar\": {\"outlinewidth\": 0, \"ticks\": \"\"}}, \"type\": \"histogram\"}], \"histogram2d\": [{\"colorbar\": {\"outlinewidth\": 0, \"ticks\": \"\"}, \"colorscale\": [[0.0, \"#0d0887\"], [0.1111111111111111, \"#46039f\"], [0.2222222222222222, \"#7201a8\"], [0.3333333333333333, \"#9c179e\"], [0.4444444444444444, \"#bd3786\"], [0.5555555555555556, \"#d8576b\"], [0.6666666666666666, \"#ed7953\"], [0.7777777777777778, \"#fb9f3a\"], [0.8888888888888888, \"#fdca26\"], [1.0, \"#f0f921\"]], \"type\": \"histogram2d\"}], \"histogram2dcontour\": [{\"colorbar\": {\"outlinewidth\": 0, \"ticks\": \"\"}, \"colorscale\": [[0.0, \"#0d0887\"], [0.1111111111111111, \"#46039f\"], [0.2222222222222222, \"#7201a8\"], [0.3333333333333333, \"#9c179e\"], [0.4444444444444444, \"#bd3786\"], [0.5555555555555556, \"#d8576b\"], [0.6666666666666666, \"#ed7953\"], [0.7777777777777778, \"#fb9f3a\"], [0.8888888888888888, \"#fdca26\"], [1.0, \"#f0f921\"]], \"type\": \"histogram2dcontour\"}], \"mesh3d\": [{\"colorbar\": {\"outlinewidth\": 0, \"ticks\": \"\"}, \"type\": \"mesh3d\"}], \"parcoords\": [{\"line\": {\"colorbar\": {\"outlinewidth\": 0, \"ticks\": \"\"}}, \"type\": \"parcoords\"}], \"pie\": [{\"automargin\": true, \"type\": \"pie\"}], \"scatter\": [{\"marker\": {\"colorbar\": {\"outlinewidth\": 0, \"ticks\": \"\"}}, \"type\": \"scatter\"}], \"scatter3d\": [{\"line\": {\"colorbar\": {\"outlinewidth\": 0, \"ticks\": \"\"}}, \"marker\": {\"colorbar\": {\"outlinewidth\": 0, \"ticks\": \"\"}}, \"type\": \"scatter3d\"}], \"scattercarpet\": [{\"marker\": {\"colorbar\": {\"outlinewidth\": 0, \"ticks\": \"\"}}, \"type\": \"scattercarpet\"}], \"scattergeo\": [{\"marker\": {\"colorbar\": {\"outlinewidth\": 0, \"ticks\": \"\"}}, \"type\": \"scattergeo\"}], \"scattergl\": [{\"marker\": {\"colorbar\": {\"outlinewidth\": 0, \"ticks\": \"\"}}, \"type\": \"scattergl\"}], \"scattermapbox\": [{\"marker\": {\"colorbar\": {\"outlinewidth\": 0, \"ticks\": \"\"}}, \"type\": \"scattermapbox\"}], \"scatterpolar\": [{\"marker\": {\"colorbar\": {\"outlinewidth\": 0, \"ticks\": \"\"}}, \"type\": \"scatterpolar\"}], \"scatterpolargl\": [{\"marker\": {\"colorbar\": {\"outlinewidth\": 0, \"ticks\": \"\"}}, \"type\": \"scatterpolargl\"}], \"scatterternary\": [{\"marker\": {\"colorbar\": {\"outlinewidth\": 0, \"ticks\": \"\"}}, \"type\": \"scatterternary\"}], \"surface\": [{\"colorbar\": {\"outlinewidth\": 0, \"ticks\": \"\"}, \"colorscale\": [[0.0, \"#0d0887\"], [0.1111111111111111, \"#46039f\"], [0.2222222222222222, \"#7201a8\"], [0.3333333333333333, \"#9c179e\"], [0.4444444444444444, \"#bd3786\"], [0.5555555555555556, \"#d8576b\"], [0.6666666666666666, \"#ed7953\"], [0.7777777777777778, \"#fb9f3a\"], [0.8888888888888888, \"#fdca26\"], [1.0, \"#f0f921\"]], \"type\": \"surface\"}], \"table\": [{\"cells\": {\"fill\": {\"color\": \"#EBF0F8\"}, \"line\": {\"color\": \"white\"}}, \"header\": {\"fill\": {\"color\": \"#C8D4E3\"}, \"line\": {\"color\": \"white\"}}, \"type\": \"table\"}]}, \"layout\": {\"annotationdefaults\": {\"arrowcolor\": \"#2a3f5f\", \"arrowhead\": 0, \"arrowwidth\": 1}, \"coloraxis\": {\"colorbar\": {\"outlinewidth\": 0, \"ticks\": \"\"}}, \"colorscale\": {\"diverging\": [[0, \"#8e0152\"], [0.1, \"#c51b7d\"], [0.2, \"#de77ae\"], [0.3, \"#f1b6da\"], [0.4, \"#fde0ef\"], [0.5, \"#f7f7f7\"], [0.6, \"#e6f5d0\"], [0.7, \"#b8e186\"], [0.8, \"#7fbc41\"], [0.9, \"#4d9221\"], [1, \"#276419\"]], \"sequential\": [[0.0, \"#0d0887\"], [0.1111111111111111, \"#46039f\"], [0.2222222222222222, \"#7201a8\"], [0.3333333333333333, \"#9c179e\"], [0.4444444444444444, \"#bd3786\"], [0.5555555555555556, \"#d8576b\"], [0.6666666666666666, \"#ed7953\"], [0.7777777777777778, \"#fb9f3a\"], [0.8888888888888888, \"#fdca26\"], [1.0, \"#f0f921\"]], \"sequentialminus\": [[0.0, \"#0d0887\"], [0.1111111111111111, \"#46039f\"], [0.2222222222222222, \"#7201a8\"], [0.3333333333333333, \"#9c179e\"], [0.4444444444444444, \"#bd3786\"], [0.5555555555555556, \"#d8576b\"], [0.6666666666666666, \"#ed7953\"], [0.7777777777777778, \"#fb9f3a\"], [0.8888888888888888, \"#fdca26\"], [1.0, \"#f0f921\"]]}, \"colorway\": [\"#636efa\", \"#EF553B\", \"#00cc96\", \"#ab63fa\", \"#FFA15A\", \"#19d3f3\", \"#FF6692\", \"#B6E880\", \"#FF97FF\", \"#FECB52\"], \"font\": {\"color\": \"#2a3f5f\"}, \"geo\": {\"bgcolor\": \"white\", \"lakecolor\": \"white\", \"landcolor\": \"#E5ECF6\", \"showlakes\": true, \"showland\": true, \"subunitcolor\": \"white\"}, \"hoverlabel\": {\"align\": \"left\"}, \"hovermode\": \"closest\", \"mapbox\": {\"style\": \"light\"}, \"paper_bgcolor\": \"white\", \"plot_bgcolor\": \"#E5ECF6\", \"polar\": {\"angularaxis\": {\"gridcolor\": \"white\", \"linecolor\": \"white\", \"ticks\": \"\"}, \"bgcolor\": \"#E5ECF6\", \"radialaxis\": {\"gridcolor\": \"white\", \"linecolor\": \"white\", \"ticks\": \"\"}}, \"scene\": {\"xaxis\": {\"backgroundcolor\": \"#E5ECF6\", \"gridcolor\": \"white\", \"gridwidth\": 2, \"linecolor\": \"white\", \"showbackground\": true, \"ticks\": \"\", \"zerolinecolor\": \"white\"}, \"yaxis\": {\"backgroundcolor\": \"#E5ECF6\", \"gridcolor\": \"white\", \"gridwidth\": 2, \"linecolor\": \"white\", \"showbackground\": true, \"ticks\": \"\", \"zerolinecolor\": \"white\"}, \"zaxis\": {\"backgroundcolor\": \"#E5ECF6\", \"gridcolor\": \"white\", \"gridwidth\": 2, \"linecolor\": \"white\", \"showbackground\": true, \"ticks\": \"\", \"zerolinecolor\": \"white\"}}, \"shapedefaults\": {\"line\": {\"color\": \"#2a3f5f\"}}, \"ternary\": {\"aaxis\": {\"gridcolor\": \"white\", \"linecolor\": \"white\", \"ticks\": \"\"}, \"baxis\": {\"gridcolor\": \"white\", \"linecolor\": \"white\", \"ticks\": \"\"}, \"bgcolor\": \"#E5ECF6\", \"caxis\": {\"gridcolor\": \"white\", \"linecolor\": \"white\", \"ticks\": \"\"}}, \"title\": {\"x\": 0.05}, \"xaxis\": {\"automargin\": true, \"gridcolor\": \"white\", \"linecolor\": \"white\", \"ticks\": \"\", \"title\": {\"standoff\": 15}, \"zerolinecolor\": \"white\", \"zerolinewidth\": 2}, \"yaxis\": {\"automargin\": true, \"gridcolor\": \"white\", \"linecolor\": \"white\", \"ticks\": \"\", \"title\": {\"standoff\": 15}, \"zerolinecolor\": \"white\", \"zerolinewidth\": 2}}}, \"title\": {\"text\": \"Percentage of NYT Recipes Written by Each Author\"}},\n",
       "                        {\"responsive\": true}\n",
       "                    ).then(function(){\n",
       "                            \n",
       "var gd = document.getElementById('20922e08-acb1-4fc2-a244-5792566b9bea');\n",
       "var x = new MutationObserver(function (mutations, observer) {{\n",
       "        var display = window.getComputedStyle(gd).display;\n",
       "        if (!display || display === 'none') {{\n",
       "            console.log([gd, 'removed!']);\n",
       "            Plotly.purge(gd);\n",
       "            observer.disconnect();\n",
       "        }}\n",
       "}});\n",
       "\n",
       "// Listen for the removal of the full notebook cells\n",
       "var notebookContainer = gd.closest('#notebook-container');\n",
       "if (notebookContainer) {{\n",
       "    x.observe(notebookContainer, {childList: true});\n",
       "}}\n",
       "\n",
       "// Listen for the clearing of the current output cell\n",
       "var outputEl = gd.closest('.output');\n",
       "if (outputEl) {{\n",
       "    x.observe(outputEl, {childList: true});\n",
       "}}\n",
       "\n",
       "                        })\n",
       "                };\n",
       "                });\n",
       "            </script>\n",
       "        </div>"
      ]
     },
     "metadata": {},
     "output_type": "display_data"
    }
   ],
   "source": [
    "recipe_information_five_star_count = recipe_information_five_star.groupby('Recipe Author').size().reset_index(name='Counts')\n",
    "# recipe_information_five_star_count.loc[recipe_information_five_star_count['Counts'] < 2, 'Recipe Author'] = 'Other Authors' # Represent only large authors\n",
    "fig2 = px.pie(recipe_information_five_star_count, values='Counts', names='Recipe Author', title='Percentage of NYT Recipes Written by Each Author')\n",
    "fig2.show()"
   ]
  }
 ],
 "metadata": {
  "kernelspec": {
   "display_name": "Python 3",
   "language": "python",
   "name": "python3"
  },
  "language_info": {
   "codemirror_mode": {
    "name": "ipython",
    "version": 3
   },
   "file_extension": ".py",
   "mimetype": "text/x-python",
   "name": "python",
   "nbconvert_exporter": "python",
   "pygments_lexer": "ipython3",
   "version": "3.7.6"
  },
  "widgets": {
   "application/vnd.jupyter.widget-state+json": {
    "state": {},
    "version_major": 2,
    "version_minor": 0
   }
  }
 },
 "nbformat": 4,
 "nbformat_minor": 4
}
