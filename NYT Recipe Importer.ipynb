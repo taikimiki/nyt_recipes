{
 "cells": [
  {
   "cell_type": "markdown",
   "metadata": {},
   "source": [
    "This file scrapes all recipes on the NYT Cooking website and saves the data into a CSV file. It iterates through search results (with zero input). This does not require log-in on the website."
   ]
  },
  {
   "cell_type": "code",
   "execution_count": null,
   "metadata": {},
   "outputs": [],
   "source": [
    "import pandas as pd\n",
    "from bs4 import BeautifulSoup\n",
    "import re\n",
    "import requests\n",
    "\n",
    "# Lists to store data in\n",
    "recipe_name = []\n",
    "recipe_author = []\n",
    "recipe_rating = []\n",
    "recipe_review_count = []\n",
    "recipe_links = []\n",
    "\n",
    "# Number of pages to parse through; this is under the current state of the site, where there are 421 pages of search results\n",
    "pages_url = [str(i) for i in range(1, 422)] \n",
    "\n",
    "# For every page in the search interval\n",
    "for page in pages_url:\n",
    "    response = requests.get('https://cooking.nytimes.com/search?q=&page=' + page)\n",
    "    html = response.text\n",
    "    soup = BeautifulSoup(html)\n",
    "    \n",
    "    for link in soup.find_all('a', attrs={'href': re.compile('^/recipes')}):\n",
    "        recipe_links.append('https://cooking.nytimes.com' + link.get('href'))\n",
    "\n",
    "# Remove duplicates recipe links\n",
    "recipe_links = list(dict.fromkeys(recipe_links))\n",
    "\n",
    "# Iterates through each recipes link to pull recipe title, author, rating, and number of reviews\n",
    "for recipe in recipe_links:\n",
    "    response_recipe = requests.get(recipe)\n",
    "    html_recipe = response_recipe.text\n",
    "    soup_recipe = BeautifulSoup(html_recipe, 'html.parser')\n",
    "    \n",
    "    # Adds title of recipe; if recipe title isn't available, recipe title is set as 'None'\n",
    "    try:\n",
    "        recipe_name.append(soup_recipe.title.string)\n",
    "    except:\n",
    "        recipe_name.append('none')\n",
    "    \n",
    "    # Adds author of recipe; if recipe author isn't available, recipe author is set as 'None'\n",
    "    try: \n",
    "        recipe_author.append(soup_recipe.find('span', {'class': 'byline-name', 'itemprop': 'author'}).text)\n",
    "    except:\n",
    "        recipe_author.append('None')\n",
    "\n",
    "    # Adds average rating and number of reviews of recipe; if they aren't available, they are set as '0'\n",
    "    pattern = '\\=\\s(\\d+)' # Pattern for obtaining the recipe rating and number of reviews\n",
    "    value = re.findall(pattern, str(soup_recipe.find(text=re.compile(\"bootstrap.recipe.avg_rating\"))))\n",
    "    try:\n",
    "        recipe_rating.append(value[0])\n",
    "    except:\n",
    "        recipe_rating.append('0')\n",
    "    try:\n",
    "        recipe_review_count.append(value[1])\n",
    "    except:\n",
    "        recipe_review_count.append('0')        \n",
    "\n",
    "# Creates a DataFrame for recipe information\n",
    "recipe_information = pd.DataFrame({\n",
    "    'Recipe Name': recipe_name,\n",
    "    'Recipe Author': recipe_author,\n",
    "    'Recipe Rating': recipe_rating,\n",
    "    'Recipe Review Count': recipe_review_count\n",
    "})\n",
    "\n",
    "# Writes the recipe dataframe to a CSV file\n",
    "recipe_information.to_csv('recipe_information.csv')"
   ]
  }
 ],
 "metadata": {
  "kernelspec": {
   "display_name": "Python 3",
   "language": "python",
   "name": "python3"
  },
  "language_info": {
   "codemirror_mode": {
    "name": "ipython",
    "version": 3
   },
   "file_extension": ".py",
   "mimetype": "text/x-python",
   "name": "python",
   "nbconvert_exporter": "python",
   "pygments_lexer": "ipython3",
   "version": "3.7.6"
  }
 },
 "nbformat": 4,
 "nbformat_minor": 4
}
