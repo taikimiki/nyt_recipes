{
 "cells": [
  {
   "cell_type": "markdown",
   "metadata": {},
   "source": [
    "# NY Times Food Best Recipes"
   ]
  },
  {
   "cell_type": "markdown",
   "metadata": {},
   "source": [
    "This notebook describes the steps I took to visualize the data on the New York Times cooking website. My intention was to analyze which chefs are the most prolific and which recipes are the most popular on the website.\n",
    "\n",
    "Note that the CSV file is excluded from the repository because it contains recipes that are protected behind a paywall -- if you want to check these recipes out, please become a subscriber of the NY Times and support the wonderful chefs."
   ]
  },
  {
   "cell_type": "code",
   "execution_count": 45,
   "metadata": {},
   "outputs": [],
   "source": [
    "import pandas as pd\n",
    "import re\n",
    "import plotly.express as px\n",
    "\n",
    "\n",
    "# Reads the CSV file created by NYT Recipe Importer.py\n",
    "recipe_information= pd.read_csv('recipe_information.csv').iloc[:, 1::]"
   ]
  },
  {
   "cell_type": "markdown",
   "metadata": {},
   "source": [
    "The following represents a snapshot of the DataFrame, excluding tags, ingredients, and instructions."
   ]
  },
  {
   "cell_type": "code",
   "execution_count": 46,
   "metadata": {},
   "outputs": [
    {
     "data": {
      "text/html": [
       "<div>\n",
       "<style scoped>\n",
       "    .dataframe tbody tr th:only-of-type {\n",
       "        vertical-align: middle;\n",
       "    }\n",
       "\n",
       "    .dataframe tbody tr th {\n",
       "        vertical-align: top;\n",
       "    }\n",
       "\n",
       "    .dataframe thead th {\n",
       "        text-align: right;\n",
       "    }\n",
       "</style>\n",
       "<table border=\"1\" class=\"dataframe\">\n",
       "  <thead>\n",
       "    <tr style=\"text-align: right;\">\n",
       "      <th></th>\n",
       "      <th>Recipe Name</th>\n",
       "      <th>Recipe Author</th>\n",
       "      <th>Recipe Rating</th>\n",
       "      <th>Recipe Review Count</th>\n",
       "    </tr>\n",
       "  </thead>\n",
       "  <tbody>\n",
       "    <tr>\n",
       "      <th>0</th>\n",
       "      <td>Mushroom-Farro Soup With Parmesan Broth Recipe...</td>\n",
       "      <td>Julia Sherman</td>\n",
       "      <td>4</td>\n",
       "      <td>108</td>\n",
       "    </tr>\n",
       "    <tr>\n",
       "      <th>1</th>\n",
       "      <td>Beans and Garlic Toast in Broth Recipe - NYT C...</td>\n",
       "      <td>Tejal Rao</td>\n",
       "      <td>4</td>\n",
       "      <td>488</td>\n",
       "    </tr>\n",
       "    <tr>\n",
       "      <th>2</th>\n",
       "      <td>Easiest Lentil Soup Recipe - NYT Cooking</td>\n",
       "      <td>Melissa Clark</td>\n",
       "      <td>4</td>\n",
       "      <td>895</td>\n",
       "    </tr>\n",
       "    <tr>\n",
       "      <th>3</th>\n",
       "      <td>Parmesan Broth Recipe - NYT Cooking</td>\n",
       "      <td>Julia Sherman</td>\n",
       "      <td>4</td>\n",
       "      <td>71</td>\n",
       "    </tr>\n",
       "    <tr>\n",
       "      <th>4</th>\n",
       "      <td>Potato Gratin With Swiss Chard and Sumac Onion...</td>\n",
       "      <td>Yotam Ottolenghi</td>\n",
       "      <td>4</td>\n",
       "      <td>34</td>\n",
       "    </tr>\n",
       "  </tbody>\n",
       "</table>\n",
       "</div>"
      ],
      "text/plain": [
       "                                         Recipe Name     Recipe Author  \\\n",
       "0  Mushroom-Farro Soup With Parmesan Broth Recipe...     Julia Sherman   \n",
       "1  Beans and Garlic Toast in Broth Recipe - NYT C...         Tejal Rao   \n",
       "2           Easiest Lentil Soup Recipe - NYT Cooking     Melissa Clark   \n",
       "3                Parmesan Broth Recipe - NYT Cooking     Julia Sherman   \n",
       "4  Potato Gratin With Swiss Chard and Sumac Onion...  Yotam Ottolenghi   \n",
       "\n",
       "   Recipe Rating  Recipe Review Count  \n",
       "0              4                  108  \n",
       "1              4                  488  \n",
       "2              4                  895  \n",
       "3              4                   71  \n",
       "4              4                   34  "
      ]
     },
     "metadata": {},
     "output_type": "display_data"
    },
    {
     "name": "stdout",
     "output_type": "stream",
     "text": [
      "<class 'pandas.core.frame.DataFrame'>\n",
      "RangeIndex: 20194 entries, 0 to 20193\n",
      "Data columns (total 7 columns):\n",
      " #   Column               Non-Null Count  Dtype \n",
      "---  ------               --------------  ----- \n",
      " 0   Recipe Name          20194 non-null  object\n",
      " 1   Recipe Author        20194 non-null  object\n",
      " 2   Recipe Rating        20194 non-null  int64 \n",
      " 3   Recipe Review Count  20194 non-null  int64 \n",
      " 4   Recipe Tags          20194 non-null  object\n",
      " 5   Recipe Ingredients   20194 non-null  object\n",
      " 6   Recipe instructions  20194 non-null  object\n",
      "dtypes: int64(2), object(5)\n",
      "memory usage: 1.1+ MB\n"
     ]
    }
   ],
   "source": [
    "display (recipe_information.iloc[:, 0:4].head())\n",
    "recipe_information.info()"
   ]
  },
  {
   "cell_type": "markdown",
   "metadata": {},
   "source": [
    "Currently, the data in the rating and review count columns are objects, rather than integers. In addition, we want to remove the \"- New York Times\" from the recipe titles to clean up display.\n",
    "\n",
    "I then check to make sure that the changes have been made and are successful."
   ]
  },
  {
   "cell_type": "code",
   "execution_count": 47,
   "metadata": {},
   "outputs": [
    {
     "data": {
      "text/html": [
       "<div>\n",
       "<style scoped>\n",
       "    .dataframe tbody tr th:only-of-type {\n",
       "        vertical-align: middle;\n",
       "    }\n",
       "\n",
       "    .dataframe tbody tr th {\n",
       "        vertical-align: top;\n",
       "    }\n",
       "\n",
       "    .dataframe thead th {\n",
       "        text-align: right;\n",
       "    }\n",
       "</style>\n",
       "<table border=\"1\" class=\"dataframe\">\n",
       "  <thead>\n",
       "    <tr style=\"text-align: right;\">\n",
       "      <th></th>\n",
       "      <th>Recipe Name</th>\n",
       "      <th>Recipe Author</th>\n",
       "      <th>Recipe Rating</th>\n",
       "      <th>Recipe Review Count</th>\n",
       "    </tr>\n",
       "  </thead>\n",
       "  <tbody>\n",
       "    <tr>\n",
       "      <th>0</th>\n",
       "      <td>Mushroom-Farro Soup With Parmesan Broth</td>\n",
       "      <td>Julia Sherman</td>\n",
       "      <td>4</td>\n",
       "      <td>108</td>\n",
       "    </tr>\n",
       "    <tr>\n",
       "      <th>1</th>\n",
       "      <td>Beans and Garlic Toast in Broth</td>\n",
       "      <td>Tejal Rao</td>\n",
       "      <td>4</td>\n",
       "      <td>488</td>\n",
       "    </tr>\n",
       "    <tr>\n",
       "      <th>2</th>\n",
       "      <td>Easiest Lentil Soup</td>\n",
       "      <td>Melissa Clark</td>\n",
       "      <td>4</td>\n",
       "      <td>895</td>\n",
       "    </tr>\n",
       "    <tr>\n",
       "      <th>3</th>\n",
       "      <td>Parmesan Broth</td>\n",
       "      <td>Julia Sherman</td>\n",
       "      <td>4</td>\n",
       "      <td>71</td>\n",
       "    </tr>\n",
       "    <tr>\n",
       "      <th>4</th>\n",
       "      <td>Potato Gratin With Swiss Chard and Sumac Onions</td>\n",
       "      <td>Yotam Ottolenghi</td>\n",
       "      <td>4</td>\n",
       "      <td>34</td>\n",
       "    </tr>\n",
       "  </tbody>\n",
       "</table>\n",
       "</div>"
      ],
      "text/plain": [
       "                                       Recipe Name     Recipe Author  \\\n",
       "0          Mushroom-Farro Soup With Parmesan Broth     Julia Sherman   \n",
       "1                  Beans and Garlic Toast in Broth         Tejal Rao   \n",
       "2                              Easiest Lentil Soup     Melissa Clark   \n",
       "3                                   Parmesan Broth     Julia Sherman   \n",
       "4  Potato Gratin With Swiss Chard and Sumac Onions  Yotam Ottolenghi   \n",
       "\n",
       "   Recipe Rating  Recipe Review Count  \n",
       "0              4                  108  \n",
       "1              4                  488  \n",
       "2              4                  895  \n",
       "3              4                   71  \n",
       "4              4                   34  "
      ]
     },
     "metadata": {},
     "output_type": "display_data"
    },
    {
     "name": "stdout",
     "output_type": "stream",
     "text": [
      "<class 'pandas.core.frame.DataFrame'>\n",
      "RangeIndex: 20194 entries, 0 to 20193\n",
      "Data columns (total 7 columns):\n",
      " #   Column               Non-Null Count  Dtype \n",
      "---  ------               --------------  ----- \n",
      " 0   Recipe Name          20185 non-null  object\n",
      " 1   Recipe Author        20194 non-null  object\n",
      " 2   Recipe Rating        20194 non-null  int64 \n",
      " 3   Recipe Review Count  20194 non-null  int64 \n",
      " 4   Recipe Tags          20194 non-null  object\n",
      " 5   Recipe Ingredients   20194 non-null  object\n",
      " 6   Recipe instructions  20194 non-null  object\n",
      "dtypes: int64(2), object(5)\n",
      "memory usage: 1.1+ MB\n"
     ]
    }
   ],
   "source": [
    "# Clean up recipe name\n",
    "recipe_information['Recipe Name'] = recipe_information['Recipe Name'].str.extract('(.*)\\sRecipe')\n",
    "\n",
    "# Convert rating and review count columns to integers\n",
    "recipe_information['Recipe Rating'] = pd.to_numeric(recipe_information['Recipe Rating'])\n",
    "recipe_information['Recipe Review Count'] = pd.to_numeric(recipe_information['Recipe Review Count'])\n",
    "\n",
    "display (recipe_information.iloc[:, 0:4].head())\n",
    "recipe_information.info()"
   ]
  },
  {
   "cell_type": "markdown",
   "metadata": {},
   "source": [
    "In order to create visualizations of the data, we are going to create a dataframe that includes the count of recipes by each author."
   ]
  },
  {
   "cell_type": "code",
   "execution_count": 64,
   "metadata": {},
   "outputs": [
    {
     "name": "stdout",
     "output_type": "stream",
     "text": [
      "          Recipe Author  Recipes\n",
      "0      Aaron Hutcherson        3\n",
      "1          Abdul Tabini        1\n",
      "2         Abigail Gullo        1\n",
      "3  Abigail Gullo, Sobou        1\n",
      "4        Adam Nagourney        4\n",
      "            Recipe Author  Count  Avg. Rating\n",
      "0        Aaron Hutcherson      3     4.000000\n",
      "1            Abdul Tabini      1     5.000000\n",
      "2           Abigail Gullo      1     5.000000\n",
      "3    Abigail Gullo, Sobou      1     5.000000\n",
      "4          Adam Nagourney      4     4.500000\n",
      "..                    ...    ...          ...\n",
      "529      Yanick Rice Lamb      4     2.000000\n",
      "530      Yewande Komolafe     25     4.040000\n",
      "531           Yossy Arefi     35     4.457143\n",
      "532      Yotam Ottolenghi     54     4.018519\n",
      "533       Zarela Martinez      2     0.000000\n",
      "\n",
      "[534 rows x 3 columns]\n"
     ]
    }
   ],
   "source": [
    "recipe_information_count = recipe_information.groupby('Recipe Author').size().reset_index(name='Recipes')\n",
    "recipe_by_author = recipe_information.groupby('Recipe Author').agg({'Recipe Name':'count', 'Recipe Rating': 'mean'}).reset_index().rename(columns={'Recipe Name':'Count', 'Recipe Rating':'Avg. Rating'})\n",
    "print (recipe_information_count.head())\n",
    "print (recipe_by_author)"
   ]
  },
  {
   "cell_type": "markdown",
   "metadata": {},
   "source": [
    "We are going to use Plotly to create a pie chart representing the proportion of recipes made by each author. We are grouping together authors who have published less than 200 recipes."
   ]
  },
  {
   "cell_type": "code",
   "execution_count": 66,
   "metadata": {},
   "outputs": [
    {
     "data": {
      "application/vnd.plotly.v1+json": {
       "config": {
        "plotlyServerURL": "https://plot.ly"
       },
       "data": [
        {
         "domain": {
          "x": [
           0,
           1
          ],
          "y": [
           0,
           1
          ]
         },
         "hoverlabel": {
          "namelength": 0
         },
         "hovertemplate": "Recipe Author=%{label}<br>Count=%{value}",
         "labels": [
          "Other Authors",
          "Other Authors",
          "Other Authors",
          "Other Authors",
          "Other Authors",
          "Other Authors",
          "Other Authors",
          "Other Authors",
          "Other Authors",
          "Other Authors",
          "Other Authors",
          "Other Authors",
          "Other Authors",
          "Other Authors",
          "Other Authors",
          "Other Authors",
          "Other Authors",
          "Other Authors",
          "Other Authors",
          "Other Authors",
          "Other Authors",
          "Amanda Hesser",
          "Other Authors",
          "Other Authors",
          "Other Authors",
          "Other Authors",
          "Other Authors",
          "Other Authors",
          "Other Authors",
          "Other Authors",
          "Other Authors",
          "Other Authors",
          "Other Authors",
          "Other Authors",
          "Other Authors",
          "Other Authors",
          "Other Authors",
          "Other Authors",
          "Other Authors",
          "Other Authors",
          "Other Authors",
          "Other Authors",
          "Other Authors",
          "Other Authors",
          "Other Authors",
          "Other Authors",
          "Other Authors",
          "Other Authors",
          "Other Authors",
          "Barbara Kafka",
          "Other Authors",
          "Other Authors",
          "Other Authors",
          "Other Authors",
          "Other Authors",
          "Other Authors",
          "Other Authors",
          "Other Authors",
          "Other Authors",
          "Other Authors",
          "Other Authors",
          "Other Authors",
          "Other Authors",
          "Other Authors",
          "Other Authors",
          "Other Authors",
          "Other Authors",
          "Other Authors",
          "Other Authors",
          "Other Authors",
          "Other Authors",
          "Other Authors",
          "Other Authors",
          "Other Authors",
          "Other Authors",
          "Other Authors",
          "Other Authors",
          "Other Authors",
          "Other Authors",
          "Other Authors",
          "Other Authors",
          "Other Authors",
          "Other Authors",
          "Other Authors",
          "Other Authors",
          "Other Authors",
          "Other Authors",
          "Other Authors",
          "Other Authors",
          "Other Authors",
          "Craig Claiborne",
          "Craig Claiborne And Pierre Franey",
          "Other Authors",
          "Other Authors",
          "Other Authors",
          "Other Authors",
          "Other Authors",
          "Other Authors",
          "Other Authors",
          "Other Authors",
          "Other Authors",
          "Other Authors",
          "Other Authors",
          "Other Authors",
          "Other Authors",
          "Other Authors",
          "Other Authors",
          "Other Authors",
          "Other Authors",
          "Other Authors",
          "Other Authors",
          "Other Authors",
          "Other Authors",
          "Other Authors",
          "Other Authors",
          "David Tanis",
          "Other Authors",
          "Other Authors",
          "Other Authors",
          "Other Authors",
          "Other Authors",
          "Other Authors",
          "Other Authors",
          "Other Authors",
          "Other Authors",
          "Other Authors",
          "Other Authors",
          "Other Authors",
          "Other Authors",
          "Other Authors",
          "Other Authors",
          "Other Authors",
          "Other Authors",
          "Other Authors",
          "Other Authors",
          "Other Authors",
          "Other Authors",
          "Other Authors",
          "Other Authors",
          "Other Authors",
          "Other Authors",
          "Other Authors",
          "Other Authors",
          "Other Authors",
          "Other Authors",
          "Other Authors",
          "Other Authors",
          "Other Authors",
          "Other Authors",
          "Other Authors",
          "Other Authors",
          "Other Authors",
          "Florence Fabricant",
          "Other Authors",
          "Other Authors",
          "Other Authors",
          "Other Authors",
          "Other Authors",
          "Other Authors",
          "Other Authors",
          "Other Authors",
          "Other Authors",
          "Other Authors",
          "Other Authors",
          "Other Authors",
          "Other Authors",
          "Other Authors",
          "Other Authors",
          "Other Authors",
          "Other Authors",
          "Other Authors",
          "Other Authors",
          "Other Authors",
          "Other Authors",
          "Other Authors",
          "Other Authors",
          "Other Authors",
          "Other Authors",
          "Other Authors",
          "Other Authors",
          "Other Authors",
          "Other Authors",
          "Other Authors",
          "Other Authors",
          "Other Authors",
          "Other Authors",
          "Other Authors",
          "Other Authors",
          "Other Authors",
          "Other Authors",
          "Other Authors",
          "Other Authors",
          "Other Authors",
          "Other Authors",
          "Other Authors",
          "Other Authors",
          "Other Authors",
          "Other Authors",
          "Other Authors",
          "Other Authors",
          "Other Authors",
          "Other Authors",
          "Other Authors",
          "Other Authors",
          "Other Authors",
          "Other Authors",
          "Jacques Pepin",
          "Other Authors",
          "Other Authors",
          "Other Authors",
          "Other Authors",
          "Other Authors",
          "Other Authors",
          "Other Authors",
          "Other Authors",
          "Other Authors",
          "Other Authors",
          "Other Authors",
          "Other Authors",
          "Other Authors",
          "Other Authors",
          "Other Authors",
          "Other Authors",
          "Other Authors",
          "Other Authors",
          "Other Authors",
          "Other Authors",
          "Other Authors",
          "Other Authors",
          "Other Authors",
          "Other Authors",
          "Other Authors",
          "Other Authors",
          "Other Authors",
          "Other Authors",
          "Other Authors",
          "Other Authors",
          "Other Authors",
          "Other Authors",
          "Other Authors",
          "Other Authors",
          "Other Authors",
          "Other Authors",
          "Other Authors",
          "Other Authors",
          "Other Authors",
          "Other Authors",
          "Other Authors",
          "Other Authors",
          "Other Authors",
          "Other Authors",
          "Other Authors",
          "Other Authors",
          "Other Authors",
          "Other Authors",
          "Other Authors",
          "Other Authors",
          "Other Authors",
          "Jonathan Reynolds",
          "Other Authors",
          "Other Authors",
          "Other Authors",
          "Other Authors",
          "Other Authors",
          "Other Authors",
          "Other Authors",
          "Other Authors",
          "Other Authors",
          "Other Authors",
          "Julia Moskin",
          "Other Authors",
          "Other Authors",
          "Other Authors",
          "Other Authors",
          "Other Authors",
          "Other Authors",
          "Other Authors",
          "Other Authors",
          "Other Authors",
          "Other Authors",
          "Other Authors",
          "Other Authors",
          "Other Authors",
          "Other Authors",
          "Other Authors",
          "Other Authors",
          "Other Authors",
          "Other Authors",
          "Other Authors",
          "Other Authors",
          "Other Authors",
          "Other Authors",
          "Other Authors",
          "Other Authors",
          "Other Authors",
          "Other Authors",
          "Other Authors",
          "Other Authors",
          "Other Authors",
          "Other Authors",
          "Other Authors",
          "Other Authors",
          "Other Authors",
          "Other Authors",
          "Other Authors",
          "Other Authors",
          "Other Authors",
          "Other Authors",
          "Other Authors",
          "Other Authors",
          "Other Authors",
          "Other Authors",
          "Other Authors",
          "Other Authors",
          "Other Authors",
          "Other Authors",
          "Other Authors",
          "Other Authors",
          "Other Authors",
          "Other Authors",
          "Other Authors",
          "Other Authors",
          "Other Authors",
          "Other Authors",
          "Other Authors",
          "Other Authors",
          "Other Authors",
          "Other Authors",
          "Other Authors",
          "Other Authors",
          "Other Authors",
          "Other Authors",
          "Other Authors",
          "Other Authors",
          "Marian Burros",
          "Other Authors",
          "Other Authors",
          "Other Authors",
          "Mark Bittman",
          "Other Authors",
          "Other Authors",
          "Other Authors",
          "Other Authors",
          "Other Authors",
          "Other Authors",
          "Other Authors",
          "Other Authors",
          "Martha Rose Shulman",
          "Other Authors",
          "Other Authors",
          "Other Authors",
          "Other Authors",
          "Other Authors",
          "Other Authors",
          "Other Authors",
          "Melissa Clark",
          "Other Authors",
          "Other Authors",
          "Other Authors",
          "Other Authors",
          "Other Authors",
          "Other Authors",
          "Other Authors",
          "Other Authors",
          "Other Authors",
          "Other Authors",
          "Other Authors",
          "Other Authors",
          "Other Authors",
          "Other Authors",
          "Other Authors",
          "Other Authors",
          "Other Authors",
          "Other Authors",
          "Other Authors",
          "Other Authors",
          "Other Authors",
          "Other Authors",
          "Other Authors",
          "Moira Hodgson",
          "Molly O'Neill",
          "Other Authors",
          "Other Authors",
          "Other Authors",
          "Other Authors",
          "Other Authors",
          "Other Authors",
          "Other Authors",
          "Other Authors",
          "Nancy Harmon Jenkins",
          "Other Authors",
          "Other Authors",
          "Other Authors",
          "Other Authors",
          "Other Authors",
          "Other Authors",
          "Other Authors",
          "Other Authors",
          "Other Authors",
          "Other Authors",
          "Other Authors",
          "Other Authors",
          "Other Authors",
          "Other Authors",
          "Other Authors",
          "Other Authors",
          "Other Authors",
          "Other Authors",
          "Other Authors",
          "Other Authors",
          "Other Authors",
          "Other Authors",
          "Other Authors",
          "Other Authors",
          "Other Authors",
          "Other Authors",
          "Other Authors",
          "Other Authors",
          "Other Authors",
          "Other Authors",
          "Other Authors",
          "Other Authors",
          "Other Authors",
          "Other Authors",
          "Other Authors",
          "Pierre Franey",
          "Other Authors",
          "Other Authors",
          "Other Authors",
          "Other Authors",
          "Other Authors",
          "Other Authors",
          "Other Authors",
          "Other Authors",
          "Other Authors",
          "Other Authors",
          "Other Authors",
          "Other Authors",
          "Other Authors",
          "Other Authors",
          "Other Authors",
          "Other Authors",
          "Other Authors",
          "Other Authors",
          "Other Authors",
          "Other Authors",
          "Other Authors",
          "Other Authors",
          "Other Authors",
          "Other Authors",
          "Other Authors",
          "Other Authors",
          "Other Authors",
          "Other Authors",
          "Other Authors",
          "Other Authors",
          "Other Authors",
          "Other Authors",
          "Other Authors",
          "Other Authors",
          "Other Authors",
          "Other Authors",
          "Other Authors",
          "Other Authors",
          "Sam Sifton",
          "Other Authors",
          "Other Authors",
          "Other Authors",
          "Other Authors",
          "Other Authors",
          "Other Authors",
          "Other Authors",
          "Other Authors",
          "Other Authors",
          "Other Authors",
          "Other Authors",
          "Other Authors",
          "Other Authors",
          "Other Authors",
          "Other Authors",
          "Other Authors",
          "Other Authors",
          "Other Authors",
          "Other Authors",
          "Other Authors",
          "Other Authors",
          "Other Authors",
          "Other Authors",
          "Other Authors",
          "Other Authors",
          "Other Authors",
          "Other Authors",
          "Other Authors",
          "Other Authors",
          "Other Authors",
          "Other Authors",
          "Other Authors",
          "Other Authors",
          "Other Authors",
          "Other Authors",
          "Other Authors",
          "Other Authors",
          "Other Authors",
          "Other Authors",
          "Other Authors",
          "Other Authors",
          "Other Authors",
          "Other Authors",
          "Other Authors",
          "Other Authors",
          "Other Authors",
          "Other Authors",
          "Other Authors",
          "Other Authors",
          "Other Authors",
          "Other Authors",
          "Other Authors",
          "Other Authors",
          "Other Authors",
          "Other Authors",
          "Other Authors",
          "Other Authors",
          "Other Authors",
          "Other Authors",
          "Other Authors",
          "Other Authors",
          "Other Authors",
          "Other Authors",
          "Other Authors",
          "Other Authors",
          "Other Authors",
          "Other Authors",
          "Other Authors",
          "Other Authors"
         ],
         "legendgroup": "",
         "name": "",
         "showlegend": true,
         "type": "pie",
         "values": [
          3,
          1,
          1,
          1,
          4,
          5,
          5,
          4,
          1,
          13,
          67,
          49,
          1,
          1,
          103,
          11,
          2,
          134,
          2,
          5,
          4,
          467,
          4,
          2,
          1,
          1,
          2,
          6,
          1,
          1,
          1,
          10,
          5,
          10,
          1,
          1,
          1,
          1,
          4,
          2,
          1,
          3,
          1,
          5,
          2,
          2,
          2,
          1,
          3,
          266,
          1,
          2,
          1,
          1,
          3,
          19,
          2,
          7,
          3,
          6,
          1,
          3,
          4,
          160,
          49,
          1,
          2,
          2,
          18,
          4,
          14,
          1,
          1,
          5,
          7,
          2,
          2,
          1,
          1,
          80,
          36,
          8,
          2,
          1,
          1,
          14,
          63,
          1,
          11,
          4,
          444,
          391,
          16,
          7,
          4,
          1,
          16,
          13,
          2,
          21,
          8,
          2,
          4,
          1,
          1,
          4,
          2,
          1,
          1,
          2,
          13,
          5,
          2,
          1,
          1,
          574,
          1,
          6,
          3,
          1,
          2,
          2,
          34,
          7,
          4,
          2,
          1,
          8,
          47,
          1,
          1,
          2,
          1,
          0,
          12,
          1,
          164,
          11,
          1,
          2,
          4,
          1,
          6,
          39,
          10,
          36,
          2,
          5,
          54,
          1,
          7,
          1,
          1570,
          1,
          1,
          7,
          44,
          1,
          1,
          17,
          1,
          9,
          3,
          14,
          3,
          2,
          1,
          3,
          60,
          1,
          2,
          2,
          28,
          4,
          1,
          1,
          2,
          3,
          15,
          1,
          1,
          1,
          1,
          3,
          2,
          2,
          7,
          1,
          14,
          2,
          1,
          4,
          2,
          1,
          1,
          7,
          1,
          1,
          5,
          5,
          1,
          3,
          1,
          6,
          1,
          10,
          236,
          1,
          1,
          1,
          1,
          1,
          7,
          6,
          4,
          1,
          20,
          10,
          1,
          49,
          4,
          7,
          10,
          63,
          10,
          1,
          1,
          1,
          3,
          1,
          38,
          6,
          1,
          1,
          8,
          1,
          3,
          1,
          2,
          1,
          12,
          23,
          1,
          5,
          2,
          172,
          38,
          3,
          1,
          2,
          2,
          8,
          46,
          19,
          5,
          1,
          3,
          33,
          211,
          1,
          1,
          0,
          2,
          4,
          1,
          1,
          3,
          1,
          3,
          403,
          3,
          4,
          2,
          106,
          3,
          1,
          7,
          15,
          1,
          1,
          9,
          3,
          4,
          1,
          1,
          7,
          49,
          28,
          4,
          3,
          10,
          1,
          2,
          1,
          15,
          164,
          4,
          1,
          1,
          3,
          3,
          1,
          1,
          6,
          6,
          2,
          1,
          2,
          4,
          29,
          32,
          1,
          17,
          4,
          45,
          6,
          5,
          7,
          6,
          1,
          1,
          3,
          3,
          3,
          2,
          1,
          1,
          1,
          5,
          1,
          30,
          1,
          3,
          40,
          1193,
          1,
          1,
          1,
          1247,
          1,
          17,
          1,
          1,
          5,
          3,
          1,
          1,
          1650,
          1,
          76,
          1,
          10,
          1,
          6,
          1,
          1172,
          2,
          4,
          5,
          11,
          1,
          4,
          1,
          1,
          1,
          1,
          4,
          2,
          1,
          7,
          4,
          3,
          1,
          2,
          3,
          1,
          23,
          1,
          4,
          775,
          1947,
          1,
          10,
          1,
          1,
          1,
          2,
          10,
          2,
          230,
          2,
          1,
          2,
          1,
          4,
          3,
          2,
          157,
          16,
          5,
          20,
          1,
          4,
          24,
          13,
          2,
          3,
          2,
          3,
          4,
          56,
          1,
          3,
          5,
          3,
          2,
          9,
          59,
          1,
          3,
          5,
          5,
          1,
          1,
          1,
          963,
          6,
          18,
          1,
          32,
          1,
          2,
          4,
          3,
          1,
          10,
          75,
          11,
          7,
          4,
          4,
          3,
          2,
          4,
          146,
          1,
          2,
          108,
          3,
          11,
          1,
          1,
          2,
          4,
          1,
          153,
          1,
          3,
          14,
          1,
          1,
          1,
          1,
          1,
          408,
          1,
          68,
          1,
          70,
          5,
          3,
          29,
          15,
          12,
          9,
          35,
          56,
          2,
          18,
          10,
          4,
          2,
          1,
          3,
          1,
          1,
          52,
          17,
          1,
          16,
          2,
          3,
          1,
          3,
          13,
          26,
          2,
          58,
          9,
          2,
          1,
          1,
          22,
          162,
          104,
          1,
          143,
          3,
          1,
          1,
          3,
          30,
          1,
          2,
          5,
          1,
          1,
          1,
          60,
          1,
          1,
          3,
          58,
          60,
          5,
          35,
          2,
          1,
          4,
          4,
          25,
          35,
          54,
          2
         ]
        }
       ],
       "layout": {
        "legend": {
         "tracegroupgap": 0
        },
        "template": {
         "data": {
          "bar": [
           {
            "error_x": {
             "color": "#2a3f5f"
            },
            "error_y": {
             "color": "#2a3f5f"
            },
            "marker": {
             "line": {
              "color": "#E5ECF6",
              "width": 0.5
             }
            },
            "type": "bar"
           }
          ],
          "barpolar": [
           {
            "marker": {
             "line": {
              "color": "#E5ECF6",
              "width": 0.5
             }
            },
            "type": "barpolar"
           }
          ],
          "carpet": [
           {
            "aaxis": {
             "endlinecolor": "#2a3f5f",
             "gridcolor": "white",
             "linecolor": "white",
             "minorgridcolor": "white",
             "startlinecolor": "#2a3f5f"
            },
            "baxis": {
             "endlinecolor": "#2a3f5f",
             "gridcolor": "white",
             "linecolor": "white",
             "minorgridcolor": "white",
             "startlinecolor": "#2a3f5f"
            },
            "type": "carpet"
           }
          ],
          "choropleth": [
           {
            "colorbar": {
             "outlinewidth": 0,
             "ticks": ""
            },
            "type": "choropleth"
           }
          ],
          "contour": [
           {
            "colorbar": {
             "outlinewidth": 0,
             "ticks": ""
            },
            "colorscale": [
             [
              0,
              "#0d0887"
             ],
             [
              0.1111111111111111,
              "#46039f"
             ],
             [
              0.2222222222222222,
              "#7201a8"
             ],
             [
              0.3333333333333333,
              "#9c179e"
             ],
             [
              0.4444444444444444,
              "#bd3786"
             ],
             [
              0.5555555555555556,
              "#d8576b"
             ],
             [
              0.6666666666666666,
              "#ed7953"
             ],
             [
              0.7777777777777778,
              "#fb9f3a"
             ],
             [
              0.8888888888888888,
              "#fdca26"
             ],
             [
              1,
              "#f0f921"
             ]
            ],
            "type": "contour"
           }
          ],
          "contourcarpet": [
           {
            "colorbar": {
             "outlinewidth": 0,
             "ticks": ""
            },
            "type": "contourcarpet"
           }
          ],
          "heatmap": [
           {
            "colorbar": {
             "outlinewidth": 0,
             "ticks": ""
            },
            "colorscale": [
             [
              0,
              "#0d0887"
             ],
             [
              0.1111111111111111,
              "#46039f"
             ],
             [
              0.2222222222222222,
              "#7201a8"
             ],
             [
              0.3333333333333333,
              "#9c179e"
             ],
             [
              0.4444444444444444,
              "#bd3786"
             ],
             [
              0.5555555555555556,
              "#d8576b"
             ],
             [
              0.6666666666666666,
              "#ed7953"
             ],
             [
              0.7777777777777778,
              "#fb9f3a"
             ],
             [
              0.8888888888888888,
              "#fdca26"
             ],
             [
              1,
              "#f0f921"
             ]
            ],
            "type": "heatmap"
           }
          ],
          "heatmapgl": [
           {
            "colorbar": {
             "outlinewidth": 0,
             "ticks": ""
            },
            "colorscale": [
             [
              0,
              "#0d0887"
             ],
             [
              0.1111111111111111,
              "#46039f"
             ],
             [
              0.2222222222222222,
              "#7201a8"
             ],
             [
              0.3333333333333333,
              "#9c179e"
             ],
             [
              0.4444444444444444,
              "#bd3786"
             ],
             [
              0.5555555555555556,
              "#d8576b"
             ],
             [
              0.6666666666666666,
              "#ed7953"
             ],
             [
              0.7777777777777778,
              "#fb9f3a"
             ],
             [
              0.8888888888888888,
              "#fdca26"
             ],
             [
              1,
              "#f0f921"
             ]
            ],
            "type": "heatmapgl"
           }
          ],
          "histogram": [
           {
            "marker": {
             "colorbar": {
              "outlinewidth": 0,
              "ticks": ""
             }
            },
            "type": "histogram"
           }
          ],
          "histogram2d": [
           {
            "colorbar": {
             "outlinewidth": 0,
             "ticks": ""
            },
            "colorscale": [
             [
              0,
              "#0d0887"
             ],
             [
              0.1111111111111111,
              "#46039f"
             ],
             [
              0.2222222222222222,
              "#7201a8"
             ],
             [
              0.3333333333333333,
              "#9c179e"
             ],
             [
              0.4444444444444444,
              "#bd3786"
             ],
             [
              0.5555555555555556,
              "#d8576b"
             ],
             [
              0.6666666666666666,
              "#ed7953"
             ],
             [
              0.7777777777777778,
              "#fb9f3a"
             ],
             [
              0.8888888888888888,
              "#fdca26"
             ],
             [
              1,
              "#f0f921"
             ]
            ],
            "type": "histogram2d"
           }
          ],
          "histogram2dcontour": [
           {
            "colorbar": {
             "outlinewidth": 0,
             "ticks": ""
            },
            "colorscale": [
             [
              0,
              "#0d0887"
             ],
             [
              0.1111111111111111,
              "#46039f"
             ],
             [
              0.2222222222222222,
              "#7201a8"
             ],
             [
              0.3333333333333333,
              "#9c179e"
             ],
             [
              0.4444444444444444,
              "#bd3786"
             ],
             [
              0.5555555555555556,
              "#d8576b"
             ],
             [
              0.6666666666666666,
              "#ed7953"
             ],
             [
              0.7777777777777778,
              "#fb9f3a"
             ],
             [
              0.8888888888888888,
              "#fdca26"
             ],
             [
              1,
              "#f0f921"
             ]
            ],
            "type": "histogram2dcontour"
           }
          ],
          "mesh3d": [
           {
            "colorbar": {
             "outlinewidth": 0,
             "ticks": ""
            },
            "type": "mesh3d"
           }
          ],
          "parcoords": [
           {
            "line": {
             "colorbar": {
              "outlinewidth": 0,
              "ticks": ""
             }
            },
            "type": "parcoords"
           }
          ],
          "pie": [
           {
            "automargin": true,
            "type": "pie"
           }
          ],
          "scatter": [
           {
            "marker": {
             "colorbar": {
              "outlinewidth": 0,
              "ticks": ""
             }
            },
            "type": "scatter"
           }
          ],
          "scatter3d": [
           {
            "line": {
             "colorbar": {
              "outlinewidth": 0,
              "ticks": ""
             }
            },
            "marker": {
             "colorbar": {
              "outlinewidth": 0,
              "ticks": ""
             }
            },
            "type": "scatter3d"
           }
          ],
          "scattercarpet": [
           {
            "marker": {
             "colorbar": {
              "outlinewidth": 0,
              "ticks": ""
             }
            },
            "type": "scattercarpet"
           }
          ],
          "scattergeo": [
           {
            "marker": {
             "colorbar": {
              "outlinewidth": 0,
              "ticks": ""
             }
            },
            "type": "scattergeo"
           }
          ],
          "scattergl": [
           {
            "marker": {
             "colorbar": {
              "outlinewidth": 0,
              "ticks": ""
             }
            },
            "type": "scattergl"
           }
          ],
          "scattermapbox": [
           {
            "marker": {
             "colorbar": {
              "outlinewidth": 0,
              "ticks": ""
             }
            },
            "type": "scattermapbox"
           }
          ],
          "scatterpolar": [
           {
            "marker": {
             "colorbar": {
              "outlinewidth": 0,
              "ticks": ""
             }
            },
            "type": "scatterpolar"
           }
          ],
          "scatterpolargl": [
           {
            "marker": {
             "colorbar": {
              "outlinewidth": 0,
              "ticks": ""
             }
            },
            "type": "scatterpolargl"
           }
          ],
          "scatterternary": [
           {
            "marker": {
             "colorbar": {
              "outlinewidth": 0,
              "ticks": ""
             }
            },
            "type": "scatterternary"
           }
          ],
          "surface": [
           {
            "colorbar": {
             "outlinewidth": 0,
             "ticks": ""
            },
            "colorscale": [
             [
              0,
              "#0d0887"
             ],
             [
              0.1111111111111111,
              "#46039f"
             ],
             [
              0.2222222222222222,
              "#7201a8"
             ],
             [
              0.3333333333333333,
              "#9c179e"
             ],
             [
              0.4444444444444444,
              "#bd3786"
             ],
             [
              0.5555555555555556,
              "#d8576b"
             ],
             [
              0.6666666666666666,
              "#ed7953"
             ],
             [
              0.7777777777777778,
              "#fb9f3a"
             ],
             [
              0.8888888888888888,
              "#fdca26"
             ],
             [
              1,
              "#f0f921"
             ]
            ],
            "type": "surface"
           }
          ],
          "table": [
           {
            "cells": {
             "fill": {
              "color": "#EBF0F8"
             },
             "line": {
              "color": "white"
             }
            },
            "header": {
             "fill": {
              "color": "#C8D4E3"
             },
             "line": {
              "color": "white"
             }
            },
            "type": "table"
           }
          ]
         },
         "layout": {
          "annotationdefaults": {
           "arrowcolor": "#2a3f5f",
           "arrowhead": 0,
           "arrowwidth": 1
          },
          "coloraxis": {
           "colorbar": {
            "outlinewidth": 0,
            "ticks": ""
           }
          },
          "colorscale": {
           "diverging": [
            [
             0,
             "#8e0152"
            ],
            [
             0.1,
             "#c51b7d"
            ],
            [
             0.2,
             "#de77ae"
            ],
            [
             0.3,
             "#f1b6da"
            ],
            [
             0.4,
             "#fde0ef"
            ],
            [
             0.5,
             "#f7f7f7"
            ],
            [
             0.6,
             "#e6f5d0"
            ],
            [
             0.7,
             "#b8e186"
            ],
            [
             0.8,
             "#7fbc41"
            ],
            [
             0.9,
             "#4d9221"
            ],
            [
             1,
             "#276419"
            ]
           ],
           "sequential": [
            [
             0,
             "#0d0887"
            ],
            [
             0.1111111111111111,
             "#46039f"
            ],
            [
             0.2222222222222222,
             "#7201a8"
            ],
            [
             0.3333333333333333,
             "#9c179e"
            ],
            [
             0.4444444444444444,
             "#bd3786"
            ],
            [
             0.5555555555555556,
             "#d8576b"
            ],
            [
             0.6666666666666666,
             "#ed7953"
            ],
            [
             0.7777777777777778,
             "#fb9f3a"
            ],
            [
             0.8888888888888888,
             "#fdca26"
            ],
            [
             1,
             "#f0f921"
            ]
           ],
           "sequentialminus": [
            [
             0,
             "#0d0887"
            ],
            [
             0.1111111111111111,
             "#46039f"
            ],
            [
             0.2222222222222222,
             "#7201a8"
            ],
            [
             0.3333333333333333,
             "#9c179e"
            ],
            [
             0.4444444444444444,
             "#bd3786"
            ],
            [
             0.5555555555555556,
             "#d8576b"
            ],
            [
             0.6666666666666666,
             "#ed7953"
            ],
            [
             0.7777777777777778,
             "#fb9f3a"
            ],
            [
             0.8888888888888888,
             "#fdca26"
            ],
            [
             1,
             "#f0f921"
            ]
           ]
          },
          "colorway": [
           "#636efa",
           "#EF553B",
           "#00cc96",
           "#ab63fa",
           "#FFA15A",
           "#19d3f3",
           "#FF6692",
           "#B6E880",
           "#FF97FF",
           "#FECB52"
          ],
          "font": {
           "color": "#2a3f5f"
          },
          "geo": {
           "bgcolor": "white",
           "lakecolor": "white",
           "landcolor": "#E5ECF6",
           "showlakes": true,
           "showland": true,
           "subunitcolor": "white"
          },
          "hoverlabel": {
           "align": "left"
          },
          "hovermode": "closest",
          "mapbox": {
           "style": "light"
          },
          "paper_bgcolor": "white",
          "plot_bgcolor": "#E5ECF6",
          "polar": {
           "angularaxis": {
            "gridcolor": "white",
            "linecolor": "white",
            "ticks": ""
           },
           "bgcolor": "#E5ECF6",
           "radialaxis": {
            "gridcolor": "white",
            "linecolor": "white",
            "ticks": ""
           }
          },
          "scene": {
           "xaxis": {
            "backgroundcolor": "#E5ECF6",
            "gridcolor": "white",
            "gridwidth": 2,
            "linecolor": "white",
            "showbackground": true,
            "ticks": "",
            "zerolinecolor": "white"
           },
           "yaxis": {
            "backgroundcolor": "#E5ECF6",
            "gridcolor": "white",
            "gridwidth": 2,
            "linecolor": "white",
            "showbackground": true,
            "ticks": "",
            "zerolinecolor": "white"
           },
           "zaxis": {
            "backgroundcolor": "#E5ECF6",
            "gridcolor": "white",
            "gridwidth": 2,
            "linecolor": "white",
            "showbackground": true,
            "ticks": "",
            "zerolinecolor": "white"
           }
          },
          "shapedefaults": {
           "line": {
            "color": "#2a3f5f"
           }
          },
          "ternary": {
           "aaxis": {
            "gridcolor": "white",
            "linecolor": "white",
            "ticks": ""
           },
           "baxis": {
            "gridcolor": "white",
            "linecolor": "white",
            "ticks": ""
           },
           "bgcolor": "#E5ECF6",
           "caxis": {
            "gridcolor": "white",
            "linecolor": "white",
            "ticks": ""
           }
          },
          "title": {
           "x": 0.05
          },
          "xaxis": {
           "automargin": true,
           "gridcolor": "white",
           "linecolor": "white",
           "ticks": "",
           "title": {
            "standoff": 15
           },
           "zerolinecolor": "white",
           "zerolinewidth": 2
          },
          "yaxis": {
           "automargin": true,
           "gridcolor": "white",
           "linecolor": "white",
           "ticks": "",
           "title": {
            "standoff": 15
           },
           "zerolinecolor": "white",
           "zerolinewidth": 2
          }
         }
        },
        "title": {
         "text": "Percentage of NYT Recipes Written by Each Author"
        }
       }
      },
      "text/html": [
       "<div>\n",
       "        \n",
       "        \n",
       "            <div id=\"65e62515-fece-4652-a660-450bae98c972\" class=\"plotly-graph-div\" style=\"height:525px; width:100%;\"></div>\n",
       "            <script type=\"text/javascript\">\n",
       "                require([\"plotly\"], function(Plotly) {\n",
       "                    window.PLOTLYENV=window.PLOTLYENV || {};\n",
       "                    \n",
       "                if (document.getElementById(\"65e62515-fece-4652-a660-450bae98c972\")) {\n",
       "                    Plotly.newPlot(\n",
       "                        '65e62515-fece-4652-a660-450bae98c972',\n",
       "                        [{\"domain\": {\"x\": [0.0, 1.0], \"y\": [0.0, 1.0]}, \"hoverlabel\": {\"namelength\": 0}, \"hovertemplate\": \"Recipe Author=%{label}<br>Count=%{value}\", \"labels\": [\"Other Authors\", \"Other Authors\", \"Other Authors\", \"Other Authors\", \"Other Authors\", \"Other Authors\", \"Other Authors\", \"Other Authors\", \"Other Authors\", \"Other Authors\", \"Other Authors\", \"Other Authors\", \"Other Authors\", \"Other Authors\", \"Other Authors\", \"Other Authors\", \"Other Authors\", \"Other Authors\", \"Other Authors\", \"Other Authors\", \"Other Authors\", \"Amanda Hesser\", \"Other Authors\", \"Other Authors\", \"Other Authors\", \"Other Authors\", \"Other Authors\", \"Other Authors\", \"Other Authors\", \"Other Authors\", \"Other Authors\", \"Other Authors\", \"Other Authors\", \"Other Authors\", \"Other Authors\", \"Other Authors\", \"Other Authors\", \"Other Authors\", \"Other Authors\", \"Other Authors\", \"Other Authors\", \"Other Authors\", \"Other Authors\", \"Other Authors\", \"Other Authors\", \"Other Authors\", \"Other Authors\", \"Other Authors\", \"Other Authors\", \"Barbara Kafka\", \"Other Authors\", \"Other Authors\", \"Other Authors\", \"Other Authors\", \"Other Authors\", \"Other Authors\", \"Other Authors\", \"Other Authors\", \"Other Authors\", \"Other Authors\", \"Other Authors\", \"Other Authors\", \"Other Authors\", \"Other Authors\", \"Other Authors\", \"Other Authors\", \"Other Authors\", \"Other Authors\", \"Other Authors\", \"Other Authors\", \"Other Authors\", \"Other Authors\", \"Other Authors\", \"Other Authors\", \"Other Authors\", \"Other Authors\", \"Other Authors\", \"Other Authors\", \"Other Authors\", \"Other Authors\", \"Other Authors\", \"Other Authors\", \"Other Authors\", \"Other Authors\", \"Other Authors\", \"Other Authors\", \"Other Authors\", \"Other Authors\", \"Other Authors\", \"Other Authors\", \"Craig Claiborne\", \"Craig Claiborne And Pierre Franey\", \"Other Authors\", \"Other Authors\", \"Other Authors\", \"Other Authors\", \"Other Authors\", \"Other Authors\", \"Other Authors\", \"Other Authors\", \"Other Authors\", \"Other Authors\", \"Other Authors\", \"Other Authors\", \"Other Authors\", \"Other Authors\", \"Other Authors\", \"Other Authors\", \"Other Authors\", \"Other Authors\", \"Other Authors\", \"Other Authors\", \"Other Authors\", \"Other Authors\", \"Other Authors\", \"David Tanis\", \"Other Authors\", \"Other Authors\", \"Other Authors\", \"Other Authors\", \"Other Authors\", \"Other Authors\", \"Other Authors\", \"Other Authors\", \"Other Authors\", \"Other Authors\", \"Other Authors\", \"Other Authors\", \"Other Authors\", \"Other Authors\", \"Other Authors\", \"Other Authors\", \"Other Authors\", \"Other Authors\", \"Other Authors\", \"Other Authors\", \"Other Authors\", \"Other Authors\", \"Other Authors\", \"Other Authors\", \"Other Authors\", \"Other Authors\", \"Other Authors\", \"Other Authors\", \"Other Authors\", \"Other Authors\", \"Other Authors\", \"Other Authors\", \"Other Authors\", \"Other Authors\", \"Other Authors\", \"Other Authors\", \"Florence Fabricant\", \"Other Authors\", \"Other Authors\", \"Other Authors\", \"Other Authors\", \"Other Authors\", \"Other Authors\", \"Other Authors\", \"Other Authors\", \"Other Authors\", \"Other Authors\", \"Other Authors\", \"Other Authors\", \"Other Authors\", \"Other Authors\", \"Other Authors\", \"Other Authors\", \"Other Authors\", \"Other Authors\", \"Other Authors\", \"Other Authors\", \"Other Authors\", \"Other Authors\", \"Other Authors\", \"Other Authors\", \"Other Authors\", \"Other Authors\", \"Other Authors\", \"Other Authors\", \"Other Authors\", \"Other Authors\", \"Other Authors\", \"Other Authors\", \"Other Authors\", \"Other Authors\", \"Other Authors\", \"Other Authors\", \"Other Authors\", \"Other Authors\", \"Other Authors\", \"Other Authors\", \"Other Authors\", \"Other Authors\", \"Other Authors\", \"Other Authors\", \"Other Authors\", \"Other Authors\", \"Other Authors\", \"Other Authors\", \"Other Authors\", \"Other Authors\", \"Other Authors\", \"Other Authors\", \"Other Authors\", \"Jacques Pepin\", \"Other Authors\", \"Other Authors\", \"Other Authors\", \"Other Authors\", \"Other Authors\", \"Other Authors\", \"Other Authors\", \"Other Authors\", \"Other Authors\", \"Other Authors\", \"Other Authors\", \"Other Authors\", \"Other Authors\", \"Other Authors\", \"Other Authors\", \"Other Authors\", \"Other Authors\", \"Other Authors\", \"Other Authors\", \"Other Authors\", \"Other Authors\", \"Other Authors\", \"Other Authors\", \"Other Authors\", \"Other Authors\", \"Other Authors\", \"Other Authors\", \"Other Authors\", \"Other Authors\", \"Other Authors\", \"Other Authors\", \"Other Authors\", \"Other Authors\", \"Other Authors\", \"Other Authors\", \"Other Authors\", \"Other Authors\", \"Other Authors\", \"Other Authors\", \"Other Authors\", \"Other Authors\", \"Other Authors\", \"Other Authors\", \"Other Authors\", \"Other Authors\", \"Other Authors\", \"Other Authors\", \"Other Authors\", \"Other Authors\", \"Other Authors\", \"Other Authors\", \"Jonathan Reynolds\", \"Other Authors\", \"Other Authors\", \"Other Authors\", \"Other Authors\", \"Other Authors\", \"Other Authors\", \"Other Authors\", \"Other Authors\", \"Other Authors\", \"Other Authors\", \"Julia Moskin\", \"Other Authors\", \"Other Authors\", \"Other Authors\", \"Other Authors\", \"Other Authors\", \"Other Authors\", \"Other Authors\", \"Other Authors\", \"Other Authors\", \"Other Authors\", \"Other Authors\", \"Other Authors\", \"Other Authors\", \"Other Authors\", \"Other Authors\", \"Other Authors\", \"Other Authors\", \"Other Authors\", \"Other Authors\", \"Other Authors\", \"Other Authors\", \"Other Authors\", \"Other Authors\", \"Other Authors\", \"Other Authors\", \"Other Authors\", \"Other Authors\", \"Other Authors\", \"Other Authors\", \"Other Authors\", \"Other Authors\", \"Other Authors\", \"Other Authors\", \"Other Authors\", \"Other Authors\", \"Other Authors\", \"Other Authors\", \"Other Authors\", \"Other Authors\", \"Other Authors\", \"Other Authors\", \"Other Authors\", \"Other Authors\", \"Other Authors\", \"Other Authors\", \"Other Authors\", \"Other Authors\", \"Other Authors\", \"Other Authors\", \"Other Authors\", \"Other Authors\", \"Other Authors\", \"Other Authors\", \"Other Authors\", \"Other Authors\", \"Other Authors\", \"Other Authors\", \"Other Authors\", \"Other Authors\", \"Other Authors\", \"Other Authors\", \"Other Authors\", \"Other Authors\", \"Other Authors\", \"Marian Burros\", \"Other Authors\", \"Other Authors\", \"Other Authors\", \"Mark Bittman\", \"Other Authors\", \"Other Authors\", \"Other Authors\", \"Other Authors\", \"Other Authors\", \"Other Authors\", \"Other Authors\", \"Other Authors\", \"Martha Rose Shulman\", \"Other Authors\", \"Other Authors\", \"Other Authors\", \"Other Authors\", \"Other Authors\", \"Other Authors\", \"Other Authors\", \"Melissa Clark\", \"Other Authors\", \"Other Authors\", \"Other Authors\", \"Other Authors\", \"Other Authors\", \"Other Authors\", \"Other Authors\", \"Other Authors\", \"Other Authors\", \"Other Authors\", \"Other Authors\", \"Other Authors\", \"Other Authors\", \"Other Authors\", \"Other Authors\", \"Other Authors\", \"Other Authors\", \"Other Authors\", \"Other Authors\", \"Other Authors\", \"Other Authors\", \"Other Authors\", \"Other Authors\", \"Moira Hodgson\", \"Molly O'Neill\", \"Other Authors\", \"Other Authors\", \"Other Authors\", \"Other Authors\", \"Other Authors\", \"Other Authors\", \"Other Authors\", \"Other Authors\", \"Nancy Harmon Jenkins\", \"Other Authors\", \"Other Authors\", \"Other Authors\", \"Other Authors\", \"Other Authors\", \"Other Authors\", \"Other Authors\", \"Other Authors\", \"Other Authors\", \"Other Authors\", \"Other Authors\", \"Other Authors\", \"Other Authors\", \"Other Authors\", \"Other Authors\", \"Other Authors\", \"Other Authors\", \"Other Authors\", \"Other Authors\", \"Other Authors\", \"Other Authors\", \"Other Authors\", \"Other Authors\", \"Other Authors\", \"Other Authors\", \"Other Authors\", \"Other Authors\", \"Other Authors\", \"Other Authors\", \"Other Authors\", \"Other Authors\", \"Other Authors\", \"Other Authors\", \"Other Authors\", \"Other Authors\", \"Pierre Franey\", \"Other Authors\", \"Other Authors\", \"Other Authors\", \"Other Authors\", \"Other Authors\", \"Other Authors\", \"Other Authors\", \"Other Authors\", \"Other Authors\", \"Other Authors\", \"Other Authors\", \"Other Authors\", \"Other Authors\", \"Other Authors\", \"Other Authors\", \"Other Authors\", \"Other Authors\", \"Other Authors\", \"Other Authors\", \"Other Authors\", \"Other Authors\", \"Other Authors\", \"Other Authors\", \"Other Authors\", \"Other Authors\", \"Other Authors\", \"Other Authors\", \"Other Authors\", \"Other Authors\", \"Other Authors\", \"Other Authors\", \"Other Authors\", \"Other Authors\", \"Other Authors\", \"Other Authors\", \"Other Authors\", \"Other Authors\", \"Other Authors\", \"Sam Sifton\", \"Other Authors\", \"Other Authors\", \"Other Authors\", \"Other Authors\", \"Other Authors\", \"Other Authors\", \"Other Authors\", \"Other Authors\", \"Other Authors\", \"Other Authors\", \"Other Authors\", \"Other Authors\", \"Other Authors\", \"Other Authors\", \"Other Authors\", \"Other Authors\", \"Other Authors\", \"Other Authors\", \"Other Authors\", \"Other Authors\", \"Other Authors\", \"Other Authors\", \"Other Authors\", \"Other Authors\", \"Other Authors\", \"Other Authors\", \"Other Authors\", \"Other Authors\", \"Other Authors\", \"Other Authors\", \"Other Authors\", \"Other Authors\", \"Other Authors\", \"Other Authors\", \"Other Authors\", \"Other Authors\", \"Other Authors\", \"Other Authors\", \"Other Authors\", \"Other Authors\", \"Other Authors\", \"Other Authors\", \"Other Authors\", \"Other Authors\", \"Other Authors\", \"Other Authors\", \"Other Authors\", \"Other Authors\", \"Other Authors\", \"Other Authors\", \"Other Authors\", \"Other Authors\", \"Other Authors\", \"Other Authors\", \"Other Authors\", \"Other Authors\", \"Other Authors\", \"Other Authors\", \"Other Authors\", \"Other Authors\", \"Other Authors\", \"Other Authors\", \"Other Authors\", \"Other Authors\", \"Other Authors\", \"Other Authors\", \"Other Authors\", \"Other Authors\", \"Other Authors\"], \"legendgroup\": \"\", \"name\": \"\", \"showlegend\": true, \"type\": \"pie\", \"values\": [3, 1, 1, 1, 4, 5, 5, 4, 1, 13, 67, 49, 1, 1, 103, 11, 2, 134, 2, 5, 4, 467, 4, 2, 1, 1, 2, 6, 1, 1, 1, 10, 5, 10, 1, 1, 1, 1, 4, 2, 1, 3, 1, 5, 2, 2, 2, 1, 3, 266, 1, 2, 1, 1, 3, 19, 2, 7, 3, 6, 1, 3, 4, 160, 49, 1, 2, 2, 18, 4, 14, 1, 1, 5, 7, 2, 2, 1, 1, 80, 36, 8, 2, 1, 1, 14, 63, 1, 11, 4, 444, 391, 16, 7, 4, 1, 16, 13, 2, 21, 8, 2, 4, 1, 1, 4, 2, 1, 1, 2, 13, 5, 2, 1, 1, 574, 1, 6, 3, 1, 2, 2, 34, 7, 4, 2, 1, 8, 47, 1, 1, 2, 1, 0, 12, 1, 164, 11, 1, 2, 4, 1, 6, 39, 10, 36, 2, 5, 54, 1, 7, 1, 1570, 1, 1, 7, 44, 1, 1, 17, 1, 9, 3, 14, 3, 2, 1, 3, 60, 1, 2, 2, 28, 4, 1, 1, 2, 3, 15, 1, 1, 1, 1, 3, 2, 2, 7, 1, 14, 2, 1, 4, 2, 1, 1, 7, 1, 1, 5, 5, 1, 3, 1, 6, 1, 10, 236, 1, 1, 1, 1, 1, 7, 6, 4, 1, 20, 10, 1, 49, 4, 7, 10, 63, 10, 1, 1, 1, 3, 1, 38, 6, 1, 1, 8, 1, 3, 1, 2, 1, 12, 23, 1, 5, 2, 172, 38, 3, 1, 2, 2, 8, 46, 19, 5, 1, 3, 33, 211, 1, 1, 0, 2, 4, 1, 1, 3, 1, 3, 403, 3, 4, 2, 106, 3, 1, 7, 15, 1, 1, 9, 3, 4, 1, 1, 7, 49, 28, 4, 3, 10, 1, 2, 1, 15, 164, 4, 1, 1, 3, 3, 1, 1, 6, 6, 2, 1, 2, 4, 29, 32, 1, 17, 4, 45, 6, 5, 7, 6, 1, 1, 3, 3, 3, 2, 1, 1, 1, 5, 1, 30, 1, 3, 40, 1193, 1, 1, 1, 1247, 1, 17, 1, 1, 5, 3, 1, 1, 1650, 1, 76, 1, 10, 1, 6, 1, 1172, 2, 4, 5, 11, 1, 4, 1, 1, 1, 1, 4, 2, 1, 7, 4, 3, 1, 2, 3, 1, 23, 1, 4, 775, 1947, 1, 10, 1, 1, 1, 2, 10, 2, 230, 2, 1, 2, 1, 4, 3, 2, 157, 16, 5, 20, 1, 4, 24, 13, 2, 3, 2, 3, 4, 56, 1, 3, 5, 3, 2, 9, 59, 1, 3, 5, 5, 1, 1, 1, 963, 6, 18, 1, 32, 1, 2, 4, 3, 1, 10, 75, 11, 7, 4, 4, 3, 2, 4, 146, 1, 2, 108, 3, 11, 1, 1, 2, 4, 1, 153, 1, 3, 14, 1, 1, 1, 1, 1, 408, 1, 68, 1, 70, 5, 3, 29, 15, 12, 9, 35, 56, 2, 18, 10, 4, 2, 1, 3, 1, 1, 52, 17, 1, 16, 2, 3, 1, 3, 13, 26, 2, 58, 9, 2, 1, 1, 22, 162, 104, 1, 143, 3, 1, 1, 3, 30, 1, 2, 5, 1, 1, 1, 60, 1, 1, 3, 58, 60, 5, 35, 2, 1, 4, 4, 25, 35, 54, 2]}],\n",
       "                        {\"legend\": {\"tracegroupgap\": 0}, \"template\": {\"data\": {\"bar\": [{\"error_x\": {\"color\": \"#2a3f5f\"}, \"error_y\": {\"color\": \"#2a3f5f\"}, \"marker\": {\"line\": {\"color\": \"#E5ECF6\", \"width\": 0.5}}, \"type\": \"bar\"}], \"barpolar\": [{\"marker\": {\"line\": {\"color\": \"#E5ECF6\", \"width\": 0.5}}, \"type\": \"barpolar\"}], \"carpet\": [{\"aaxis\": {\"endlinecolor\": \"#2a3f5f\", \"gridcolor\": \"white\", \"linecolor\": \"white\", \"minorgridcolor\": \"white\", \"startlinecolor\": \"#2a3f5f\"}, \"baxis\": {\"endlinecolor\": \"#2a3f5f\", \"gridcolor\": \"white\", \"linecolor\": \"white\", \"minorgridcolor\": \"white\", \"startlinecolor\": \"#2a3f5f\"}, \"type\": \"carpet\"}], \"choropleth\": [{\"colorbar\": {\"outlinewidth\": 0, \"ticks\": \"\"}, \"type\": \"choropleth\"}], \"contour\": [{\"colorbar\": {\"outlinewidth\": 0, \"ticks\": \"\"}, \"colorscale\": [[0.0, \"#0d0887\"], [0.1111111111111111, \"#46039f\"], [0.2222222222222222, \"#7201a8\"], [0.3333333333333333, \"#9c179e\"], [0.4444444444444444, \"#bd3786\"], [0.5555555555555556, \"#d8576b\"], [0.6666666666666666, \"#ed7953\"], [0.7777777777777778, \"#fb9f3a\"], [0.8888888888888888, \"#fdca26\"], [1.0, \"#f0f921\"]], \"type\": \"contour\"}], \"contourcarpet\": [{\"colorbar\": {\"outlinewidth\": 0, \"ticks\": \"\"}, \"type\": \"contourcarpet\"}], \"heatmap\": [{\"colorbar\": {\"outlinewidth\": 0, \"ticks\": \"\"}, \"colorscale\": [[0.0, \"#0d0887\"], [0.1111111111111111, \"#46039f\"], [0.2222222222222222, \"#7201a8\"], [0.3333333333333333, \"#9c179e\"], [0.4444444444444444, \"#bd3786\"], [0.5555555555555556, \"#d8576b\"], [0.6666666666666666, \"#ed7953\"], [0.7777777777777778, \"#fb9f3a\"], [0.8888888888888888, \"#fdca26\"], [1.0, \"#f0f921\"]], \"type\": \"heatmap\"}], \"heatmapgl\": [{\"colorbar\": {\"outlinewidth\": 0, \"ticks\": \"\"}, \"colorscale\": [[0.0, \"#0d0887\"], [0.1111111111111111, \"#46039f\"], [0.2222222222222222, \"#7201a8\"], [0.3333333333333333, \"#9c179e\"], [0.4444444444444444, \"#bd3786\"], [0.5555555555555556, \"#d8576b\"], [0.6666666666666666, \"#ed7953\"], [0.7777777777777778, \"#fb9f3a\"], [0.8888888888888888, \"#fdca26\"], [1.0, \"#f0f921\"]], \"type\": \"heatmapgl\"}], \"histogram\": [{\"marker\": {\"colorbar\": {\"outlinewidth\": 0, \"ticks\": \"\"}}, \"type\": \"histogram\"}], \"histogram2d\": [{\"colorbar\": {\"outlinewidth\": 0, \"ticks\": \"\"}, \"colorscale\": [[0.0, \"#0d0887\"], [0.1111111111111111, \"#46039f\"], [0.2222222222222222, \"#7201a8\"], [0.3333333333333333, \"#9c179e\"], [0.4444444444444444, \"#bd3786\"], [0.5555555555555556, \"#d8576b\"], [0.6666666666666666, \"#ed7953\"], [0.7777777777777778, \"#fb9f3a\"], [0.8888888888888888, \"#fdca26\"], [1.0, \"#f0f921\"]], \"type\": \"histogram2d\"}], \"histogram2dcontour\": [{\"colorbar\": {\"outlinewidth\": 0, \"ticks\": \"\"}, \"colorscale\": [[0.0, \"#0d0887\"], [0.1111111111111111, \"#46039f\"], [0.2222222222222222, \"#7201a8\"], [0.3333333333333333, \"#9c179e\"], [0.4444444444444444, \"#bd3786\"], [0.5555555555555556, \"#d8576b\"], [0.6666666666666666, \"#ed7953\"], [0.7777777777777778, \"#fb9f3a\"], [0.8888888888888888, \"#fdca26\"], [1.0, \"#f0f921\"]], \"type\": \"histogram2dcontour\"}], \"mesh3d\": [{\"colorbar\": {\"outlinewidth\": 0, \"ticks\": \"\"}, \"type\": \"mesh3d\"}], \"parcoords\": [{\"line\": {\"colorbar\": {\"outlinewidth\": 0, \"ticks\": \"\"}}, \"type\": \"parcoords\"}], \"pie\": [{\"automargin\": true, \"type\": \"pie\"}], \"scatter\": [{\"marker\": {\"colorbar\": {\"outlinewidth\": 0, \"ticks\": \"\"}}, \"type\": \"scatter\"}], \"scatter3d\": [{\"line\": {\"colorbar\": {\"outlinewidth\": 0, \"ticks\": \"\"}}, \"marker\": {\"colorbar\": {\"outlinewidth\": 0, \"ticks\": \"\"}}, \"type\": \"scatter3d\"}], \"scattercarpet\": [{\"marker\": {\"colorbar\": {\"outlinewidth\": 0, \"ticks\": \"\"}}, \"type\": \"scattercarpet\"}], \"scattergeo\": [{\"marker\": {\"colorbar\": {\"outlinewidth\": 0, \"ticks\": \"\"}}, \"type\": \"scattergeo\"}], \"scattergl\": [{\"marker\": {\"colorbar\": {\"outlinewidth\": 0, \"ticks\": \"\"}}, \"type\": \"scattergl\"}], \"scattermapbox\": [{\"marker\": {\"colorbar\": {\"outlinewidth\": 0, \"ticks\": \"\"}}, \"type\": \"scattermapbox\"}], \"scatterpolar\": [{\"marker\": {\"colorbar\": {\"outlinewidth\": 0, \"ticks\": \"\"}}, \"type\": \"scatterpolar\"}], \"scatterpolargl\": [{\"marker\": {\"colorbar\": {\"outlinewidth\": 0, \"ticks\": \"\"}}, \"type\": \"scatterpolargl\"}], \"scatterternary\": [{\"marker\": {\"colorbar\": {\"outlinewidth\": 0, \"ticks\": \"\"}}, \"type\": \"scatterternary\"}], \"surface\": [{\"colorbar\": {\"outlinewidth\": 0, \"ticks\": \"\"}, \"colorscale\": [[0.0, \"#0d0887\"], [0.1111111111111111, \"#46039f\"], [0.2222222222222222, \"#7201a8\"], [0.3333333333333333, \"#9c179e\"], [0.4444444444444444, \"#bd3786\"], [0.5555555555555556, \"#d8576b\"], [0.6666666666666666, \"#ed7953\"], [0.7777777777777778, \"#fb9f3a\"], [0.8888888888888888, \"#fdca26\"], [1.0, \"#f0f921\"]], \"type\": \"surface\"}], \"table\": [{\"cells\": {\"fill\": {\"color\": \"#EBF0F8\"}, \"line\": {\"color\": \"white\"}}, \"header\": {\"fill\": {\"color\": \"#C8D4E3\"}, \"line\": {\"color\": \"white\"}}, \"type\": \"table\"}]}, \"layout\": {\"annotationdefaults\": {\"arrowcolor\": \"#2a3f5f\", \"arrowhead\": 0, \"arrowwidth\": 1}, \"coloraxis\": {\"colorbar\": {\"outlinewidth\": 0, \"ticks\": \"\"}}, \"colorscale\": {\"diverging\": [[0, \"#8e0152\"], [0.1, \"#c51b7d\"], [0.2, \"#de77ae\"], [0.3, \"#f1b6da\"], [0.4, \"#fde0ef\"], [0.5, \"#f7f7f7\"], [0.6, \"#e6f5d0\"], [0.7, \"#b8e186\"], [0.8, \"#7fbc41\"], [0.9, \"#4d9221\"], [1, \"#276419\"]], \"sequential\": [[0.0, \"#0d0887\"], [0.1111111111111111, \"#46039f\"], [0.2222222222222222, \"#7201a8\"], [0.3333333333333333, \"#9c179e\"], [0.4444444444444444, \"#bd3786\"], [0.5555555555555556, \"#d8576b\"], [0.6666666666666666, \"#ed7953\"], [0.7777777777777778, \"#fb9f3a\"], [0.8888888888888888, \"#fdca26\"], [1.0, \"#f0f921\"]], \"sequentialminus\": [[0.0, \"#0d0887\"], [0.1111111111111111, \"#46039f\"], [0.2222222222222222, \"#7201a8\"], [0.3333333333333333, \"#9c179e\"], [0.4444444444444444, \"#bd3786\"], [0.5555555555555556, \"#d8576b\"], [0.6666666666666666, \"#ed7953\"], [0.7777777777777778, \"#fb9f3a\"], [0.8888888888888888, \"#fdca26\"], [1.0, \"#f0f921\"]]}, \"colorway\": [\"#636efa\", \"#EF553B\", \"#00cc96\", \"#ab63fa\", \"#FFA15A\", \"#19d3f3\", \"#FF6692\", \"#B6E880\", \"#FF97FF\", \"#FECB52\"], \"font\": {\"color\": \"#2a3f5f\"}, \"geo\": {\"bgcolor\": \"white\", \"lakecolor\": \"white\", \"landcolor\": \"#E5ECF6\", \"showlakes\": true, \"showland\": true, \"subunitcolor\": \"white\"}, \"hoverlabel\": {\"align\": \"left\"}, \"hovermode\": \"closest\", \"mapbox\": {\"style\": \"light\"}, \"paper_bgcolor\": \"white\", \"plot_bgcolor\": \"#E5ECF6\", \"polar\": {\"angularaxis\": {\"gridcolor\": \"white\", \"linecolor\": \"white\", \"ticks\": \"\"}, \"bgcolor\": \"#E5ECF6\", \"radialaxis\": {\"gridcolor\": \"white\", \"linecolor\": \"white\", \"ticks\": \"\"}}, \"scene\": {\"xaxis\": {\"backgroundcolor\": \"#E5ECF6\", \"gridcolor\": \"white\", \"gridwidth\": 2, \"linecolor\": \"white\", \"showbackground\": true, \"ticks\": \"\", \"zerolinecolor\": \"white\"}, \"yaxis\": {\"backgroundcolor\": \"#E5ECF6\", \"gridcolor\": \"white\", \"gridwidth\": 2, \"linecolor\": \"white\", \"showbackground\": true, \"ticks\": \"\", \"zerolinecolor\": \"white\"}, \"zaxis\": {\"backgroundcolor\": \"#E5ECF6\", \"gridcolor\": \"white\", \"gridwidth\": 2, \"linecolor\": \"white\", \"showbackground\": true, \"ticks\": \"\", \"zerolinecolor\": \"white\"}}, \"shapedefaults\": {\"line\": {\"color\": \"#2a3f5f\"}}, \"ternary\": {\"aaxis\": {\"gridcolor\": \"white\", \"linecolor\": \"white\", \"ticks\": \"\"}, \"baxis\": {\"gridcolor\": \"white\", \"linecolor\": \"white\", \"ticks\": \"\"}, \"bgcolor\": \"#E5ECF6\", \"caxis\": {\"gridcolor\": \"white\", \"linecolor\": \"white\", \"ticks\": \"\"}}, \"title\": {\"x\": 0.05}, \"xaxis\": {\"automargin\": true, \"gridcolor\": \"white\", \"linecolor\": \"white\", \"ticks\": \"\", \"title\": {\"standoff\": 15}, \"zerolinecolor\": \"white\", \"zerolinewidth\": 2}, \"yaxis\": {\"automargin\": true, \"gridcolor\": \"white\", \"linecolor\": \"white\", \"ticks\": \"\", \"title\": {\"standoff\": 15}, \"zerolinecolor\": \"white\", \"zerolinewidth\": 2}}}, \"title\": {\"text\": \"Percentage of NYT Recipes Written by Each Author\"}},\n",
       "                        {\"responsive\": true}\n",
       "                    ).then(function(){\n",
       "                            \n",
       "var gd = document.getElementById('65e62515-fece-4652-a660-450bae98c972');\n",
       "var x = new MutationObserver(function (mutations, observer) {{\n",
       "        var display = window.getComputedStyle(gd).display;\n",
       "        if (!display || display === 'none') {{\n",
       "            console.log([gd, 'removed!']);\n",
       "            Plotly.purge(gd);\n",
       "            observer.disconnect();\n",
       "        }}\n",
       "}});\n",
       "\n",
       "// Listen for the removal of the full notebook cells\n",
       "var notebookContainer = gd.closest('#notebook-container');\n",
       "if (notebookContainer) {{\n",
       "    x.observe(notebookContainer, {childList: true});\n",
       "}}\n",
       "\n",
       "// Listen for the clearing of the current output cell\n",
       "var outputEl = gd.closest('.output');\n",
       "if (outputEl) {{\n",
       "    x.observe(outputEl, {childList: true});\n",
       "}}\n",
       "\n",
       "                        })\n",
       "                };\n",
       "                });\n",
       "            </script>\n",
       "        </div>"
      ]
     },
     "metadata": {},
     "output_type": "display_data"
    }
   ],
   "source": [
    "recipe_by_author_pie = recipe_by_author\n",
    "recipe_by_author_pie.loc[recipe_by_author_pie['Count'] < 200, 'Recipe Author'] = 'Other Authors' # Represent only large authors\n",
    "fig_pie = px.pie(recipe_by_author_pie, values='Count', names='Recipe Author', title='Percentage of NYT Recipes Written by Each Author')\n",
    "fig_pie.show()"
   ]
  },
  {
   "cell_type": "markdown",
   "metadata": {},
   "source": [
    "Based on the above graph, we can see the most prolific authors on the website. The top 8 authors comprise more than 50% of NYT's entire recipe database. Outside of these power users, let's see what the breakdown of recipe creation is by taking a look at a histogram of the 29.9% of authors."
   ]
  },
  {
   "cell_type": "code",
   "execution_count": 36,
   "metadata": {},
   "outputs": [
    {
     "data": {
      "application/vnd.plotly.v1+json": {
       "config": {
        "plotlyServerURL": "https://plot.ly"
       },
       "data": [
        {
         "alignmentgroup": "True",
         "bingroup": "x",
         "hoverlabel": {
          "namelength": 0
         },
         "hovertemplate": "Recipes=%{x}<br>count=%{y}",
         "legendgroup": "",
         "marker": {
          "color": "#636efa"
         },
         "name": "",
         "offsetgroup": "",
         "orientation": "v",
         "showlegend": false,
         "type": "histogram",
         "x": [
          3,
          1,
          1,
          1,
          4,
          5,
          5,
          4,
          1,
          13,
          67,
          49,
          1,
          1,
          103,
          11,
          2,
          134,
          2,
          5,
          4,
          4,
          2,
          1,
          1,
          2,
          6,
          1,
          1,
          1,
          10,
          5,
          10,
          1,
          1,
          1,
          1,
          4,
          2,
          1,
          3,
          1,
          5,
          2,
          2,
          2,
          1,
          3,
          1,
          2,
          1,
          1,
          3,
          19,
          2,
          7,
          3,
          6,
          1,
          3,
          4,
          160,
          49,
          1,
          2,
          2,
          18,
          4,
          14,
          1,
          1,
          5,
          7,
          2,
          2,
          1,
          1,
          80,
          36,
          8,
          2,
          1,
          1,
          14,
          63,
          1,
          11,
          4,
          16,
          7,
          4,
          1,
          16,
          13,
          2,
          21,
          8,
          2,
          4,
          1,
          1,
          4,
          2,
          1,
          1,
          2,
          13,
          5,
          2,
          1,
          1,
          1,
          6,
          3,
          1,
          2,
          2,
          34,
          7,
          4,
          2,
          1,
          8,
          47,
          1,
          1,
          2,
          1,
          2,
          12,
          1,
          164,
          11,
          1,
          2,
          4,
          1,
          6,
          39,
          10,
          36,
          2,
          5,
          54,
          1,
          7,
          1,
          1,
          1,
          7,
          44,
          1,
          1,
          17,
          1,
          9,
          3,
          14,
          3,
          2,
          1,
          3,
          60,
          1,
          2,
          2,
          28,
          4,
          1,
          1,
          2,
          3,
          15,
          1,
          1,
          1,
          1,
          3,
          2,
          2,
          7,
          1,
          14,
          2,
          1,
          4,
          2,
          1,
          1,
          7,
          1,
          1,
          5,
          5,
          1,
          3,
          1,
          6,
          1,
          10,
          1,
          1,
          1,
          1,
          1,
          7,
          6,
          4,
          1,
          20,
          10,
          1,
          49,
          4,
          7,
          10,
          63,
          10,
          1,
          1,
          1,
          3,
          1,
          38,
          6,
          1,
          1,
          8,
          1,
          3,
          1,
          2,
          1,
          12,
          23,
          1,
          5,
          2,
          172,
          38,
          3,
          1,
          2,
          2,
          8,
          46,
          19,
          5,
          1,
          3,
          33,
          1,
          1,
          1,
          2,
          4,
          1,
          1,
          3,
          1,
          3,
          3,
          4,
          2,
          106,
          3,
          1,
          7,
          15,
          1,
          1,
          9,
          3,
          4,
          1,
          1,
          7,
          49,
          28,
          4,
          3,
          10,
          1,
          2,
          1,
          15,
          164,
          4,
          1,
          1,
          3,
          3,
          1,
          1,
          6,
          6,
          2,
          1,
          2,
          4,
          29,
          32,
          1,
          17,
          4,
          45,
          6,
          5,
          7,
          6,
          1,
          1,
          3,
          3,
          3,
          2,
          1,
          1,
          1,
          5,
          1,
          30,
          1,
          3,
          40,
          1,
          1,
          1,
          1,
          17,
          1,
          1,
          5,
          3,
          1,
          1,
          1,
          76,
          1,
          10,
          1,
          6,
          1,
          2,
          4,
          5,
          11,
          1,
          4,
          1,
          1,
          1,
          1,
          4,
          2,
          1,
          7,
          4,
          3,
          1,
          2,
          3,
          1,
          23,
          1,
          4,
          1,
          10,
          1,
          1,
          1,
          2,
          10,
          2,
          2,
          1,
          2,
          1,
          4,
          3,
          2,
          157,
          16,
          5,
          24,
          1,
          4,
          24,
          13,
          2,
          3,
          2,
          3,
          4,
          56,
          1,
          3,
          5,
          3,
          2,
          9,
          59,
          1,
          3,
          5,
          5,
          1,
          1,
          1,
          6,
          18,
          1,
          32,
          1,
          2,
          4,
          3,
          1,
          10,
          75,
          11,
          7,
          4,
          4,
          3,
          2,
          4,
          146,
          1,
          2,
          108,
          3,
          11,
          1,
          1,
          2,
          4,
          1,
          153,
          1,
          3,
          14,
          1,
          1,
          1,
          1,
          1,
          1,
          68,
          1,
          70,
          5,
          3,
          29,
          15,
          12,
          9,
          35,
          56,
          2,
          18,
          10,
          4,
          2,
          1,
          3,
          1,
          1,
          52,
          17,
          1,
          16,
          2,
          3,
          1,
          3,
          13,
          26,
          2,
          58,
          9,
          2,
          1,
          1,
          22,
          162,
          104,
          1,
          143,
          3,
          1,
          1,
          3,
          30,
          1,
          2,
          5,
          1,
          1,
          1,
          60,
          1,
          1,
          3,
          58,
          60,
          5,
          35,
          2,
          1,
          4,
          4,
          25,
          35,
          54,
          2
         ],
         "xaxis": "x",
         "yaxis": "y"
        }
       ],
       "layout": {
        "barmode": "relative",
        "legend": {
         "tracegroupgap": 0
        },
        "template": {
         "data": {
          "bar": [
           {
            "error_x": {
             "color": "#2a3f5f"
            },
            "error_y": {
             "color": "#2a3f5f"
            },
            "marker": {
             "line": {
              "color": "#E5ECF6",
              "width": 0.5
             }
            },
            "type": "bar"
           }
          ],
          "barpolar": [
           {
            "marker": {
             "line": {
              "color": "#E5ECF6",
              "width": 0.5
             }
            },
            "type": "barpolar"
           }
          ],
          "carpet": [
           {
            "aaxis": {
             "endlinecolor": "#2a3f5f",
             "gridcolor": "white",
             "linecolor": "white",
             "minorgridcolor": "white",
             "startlinecolor": "#2a3f5f"
            },
            "baxis": {
             "endlinecolor": "#2a3f5f",
             "gridcolor": "white",
             "linecolor": "white",
             "minorgridcolor": "white",
             "startlinecolor": "#2a3f5f"
            },
            "type": "carpet"
           }
          ],
          "choropleth": [
           {
            "colorbar": {
             "outlinewidth": 0,
             "ticks": ""
            },
            "type": "choropleth"
           }
          ],
          "contour": [
           {
            "colorbar": {
             "outlinewidth": 0,
             "ticks": ""
            },
            "colorscale": [
             [
              0,
              "#0d0887"
             ],
             [
              0.1111111111111111,
              "#46039f"
             ],
             [
              0.2222222222222222,
              "#7201a8"
             ],
             [
              0.3333333333333333,
              "#9c179e"
             ],
             [
              0.4444444444444444,
              "#bd3786"
             ],
             [
              0.5555555555555556,
              "#d8576b"
             ],
             [
              0.6666666666666666,
              "#ed7953"
             ],
             [
              0.7777777777777778,
              "#fb9f3a"
             ],
             [
              0.8888888888888888,
              "#fdca26"
             ],
             [
              1,
              "#f0f921"
             ]
            ],
            "type": "contour"
           }
          ],
          "contourcarpet": [
           {
            "colorbar": {
             "outlinewidth": 0,
             "ticks": ""
            },
            "type": "contourcarpet"
           }
          ],
          "heatmap": [
           {
            "colorbar": {
             "outlinewidth": 0,
             "ticks": ""
            },
            "colorscale": [
             [
              0,
              "#0d0887"
             ],
             [
              0.1111111111111111,
              "#46039f"
             ],
             [
              0.2222222222222222,
              "#7201a8"
             ],
             [
              0.3333333333333333,
              "#9c179e"
             ],
             [
              0.4444444444444444,
              "#bd3786"
             ],
             [
              0.5555555555555556,
              "#d8576b"
             ],
             [
              0.6666666666666666,
              "#ed7953"
             ],
             [
              0.7777777777777778,
              "#fb9f3a"
             ],
             [
              0.8888888888888888,
              "#fdca26"
             ],
             [
              1,
              "#f0f921"
             ]
            ],
            "type": "heatmap"
           }
          ],
          "heatmapgl": [
           {
            "colorbar": {
             "outlinewidth": 0,
             "ticks": ""
            },
            "colorscale": [
             [
              0,
              "#0d0887"
             ],
             [
              0.1111111111111111,
              "#46039f"
             ],
             [
              0.2222222222222222,
              "#7201a8"
             ],
             [
              0.3333333333333333,
              "#9c179e"
             ],
             [
              0.4444444444444444,
              "#bd3786"
             ],
             [
              0.5555555555555556,
              "#d8576b"
             ],
             [
              0.6666666666666666,
              "#ed7953"
             ],
             [
              0.7777777777777778,
              "#fb9f3a"
             ],
             [
              0.8888888888888888,
              "#fdca26"
             ],
             [
              1,
              "#f0f921"
             ]
            ],
            "type": "heatmapgl"
           }
          ],
          "histogram": [
           {
            "marker": {
             "colorbar": {
              "outlinewidth": 0,
              "ticks": ""
             }
            },
            "type": "histogram"
           }
          ],
          "histogram2d": [
           {
            "colorbar": {
             "outlinewidth": 0,
             "ticks": ""
            },
            "colorscale": [
             [
              0,
              "#0d0887"
             ],
             [
              0.1111111111111111,
              "#46039f"
             ],
             [
              0.2222222222222222,
              "#7201a8"
             ],
             [
              0.3333333333333333,
              "#9c179e"
             ],
             [
              0.4444444444444444,
              "#bd3786"
             ],
             [
              0.5555555555555556,
              "#d8576b"
             ],
             [
              0.6666666666666666,
              "#ed7953"
             ],
             [
              0.7777777777777778,
              "#fb9f3a"
             ],
             [
              0.8888888888888888,
              "#fdca26"
             ],
             [
              1,
              "#f0f921"
             ]
            ],
            "type": "histogram2d"
           }
          ],
          "histogram2dcontour": [
           {
            "colorbar": {
             "outlinewidth": 0,
             "ticks": ""
            },
            "colorscale": [
             [
              0,
              "#0d0887"
             ],
             [
              0.1111111111111111,
              "#46039f"
             ],
             [
              0.2222222222222222,
              "#7201a8"
             ],
             [
              0.3333333333333333,
              "#9c179e"
             ],
             [
              0.4444444444444444,
              "#bd3786"
             ],
             [
              0.5555555555555556,
              "#d8576b"
             ],
             [
              0.6666666666666666,
              "#ed7953"
             ],
             [
              0.7777777777777778,
              "#fb9f3a"
             ],
             [
              0.8888888888888888,
              "#fdca26"
             ],
             [
              1,
              "#f0f921"
             ]
            ],
            "type": "histogram2dcontour"
           }
          ],
          "mesh3d": [
           {
            "colorbar": {
             "outlinewidth": 0,
             "ticks": ""
            },
            "type": "mesh3d"
           }
          ],
          "parcoords": [
           {
            "line": {
             "colorbar": {
              "outlinewidth": 0,
              "ticks": ""
             }
            },
            "type": "parcoords"
           }
          ],
          "pie": [
           {
            "automargin": true,
            "type": "pie"
           }
          ],
          "scatter": [
           {
            "marker": {
             "colorbar": {
              "outlinewidth": 0,
              "ticks": ""
             }
            },
            "type": "scatter"
           }
          ],
          "scatter3d": [
           {
            "line": {
             "colorbar": {
              "outlinewidth": 0,
              "ticks": ""
             }
            },
            "marker": {
             "colorbar": {
              "outlinewidth": 0,
              "ticks": ""
             }
            },
            "type": "scatter3d"
           }
          ],
          "scattercarpet": [
           {
            "marker": {
             "colorbar": {
              "outlinewidth": 0,
              "ticks": ""
             }
            },
            "type": "scattercarpet"
           }
          ],
          "scattergeo": [
           {
            "marker": {
             "colorbar": {
              "outlinewidth": 0,
              "ticks": ""
             }
            },
            "type": "scattergeo"
           }
          ],
          "scattergl": [
           {
            "marker": {
             "colorbar": {
              "outlinewidth": 0,
              "ticks": ""
             }
            },
            "type": "scattergl"
           }
          ],
          "scattermapbox": [
           {
            "marker": {
             "colorbar": {
              "outlinewidth": 0,
              "ticks": ""
             }
            },
            "type": "scattermapbox"
           }
          ],
          "scatterpolar": [
           {
            "marker": {
             "colorbar": {
              "outlinewidth": 0,
              "ticks": ""
             }
            },
            "type": "scatterpolar"
           }
          ],
          "scatterpolargl": [
           {
            "marker": {
             "colorbar": {
              "outlinewidth": 0,
              "ticks": ""
             }
            },
            "type": "scatterpolargl"
           }
          ],
          "scatterternary": [
           {
            "marker": {
             "colorbar": {
              "outlinewidth": 0,
              "ticks": ""
             }
            },
            "type": "scatterternary"
           }
          ],
          "surface": [
           {
            "colorbar": {
             "outlinewidth": 0,
             "ticks": ""
            },
            "colorscale": [
             [
              0,
              "#0d0887"
             ],
             [
              0.1111111111111111,
              "#46039f"
             ],
             [
              0.2222222222222222,
              "#7201a8"
             ],
             [
              0.3333333333333333,
              "#9c179e"
             ],
             [
              0.4444444444444444,
              "#bd3786"
             ],
             [
              0.5555555555555556,
              "#d8576b"
             ],
             [
              0.6666666666666666,
              "#ed7953"
             ],
             [
              0.7777777777777778,
              "#fb9f3a"
             ],
             [
              0.8888888888888888,
              "#fdca26"
             ],
             [
              1,
              "#f0f921"
             ]
            ],
            "type": "surface"
           }
          ],
          "table": [
           {
            "cells": {
             "fill": {
              "color": "#EBF0F8"
             },
             "line": {
              "color": "white"
             }
            },
            "header": {
             "fill": {
              "color": "#C8D4E3"
             },
             "line": {
              "color": "white"
             }
            },
            "type": "table"
           }
          ]
         },
         "layout": {
          "annotationdefaults": {
           "arrowcolor": "#2a3f5f",
           "arrowhead": 0,
           "arrowwidth": 1
          },
          "coloraxis": {
           "colorbar": {
            "outlinewidth": 0,
            "ticks": ""
           }
          },
          "colorscale": {
           "diverging": [
            [
             0,
             "#8e0152"
            ],
            [
             0.1,
             "#c51b7d"
            ],
            [
             0.2,
             "#de77ae"
            ],
            [
             0.3,
             "#f1b6da"
            ],
            [
             0.4,
             "#fde0ef"
            ],
            [
             0.5,
             "#f7f7f7"
            ],
            [
             0.6,
             "#e6f5d0"
            ],
            [
             0.7,
             "#b8e186"
            ],
            [
             0.8,
             "#7fbc41"
            ],
            [
             0.9,
             "#4d9221"
            ],
            [
             1,
             "#276419"
            ]
           ],
           "sequential": [
            [
             0,
             "#0d0887"
            ],
            [
             0.1111111111111111,
             "#46039f"
            ],
            [
             0.2222222222222222,
             "#7201a8"
            ],
            [
             0.3333333333333333,
             "#9c179e"
            ],
            [
             0.4444444444444444,
             "#bd3786"
            ],
            [
             0.5555555555555556,
             "#d8576b"
            ],
            [
             0.6666666666666666,
             "#ed7953"
            ],
            [
             0.7777777777777778,
             "#fb9f3a"
            ],
            [
             0.8888888888888888,
             "#fdca26"
            ],
            [
             1,
             "#f0f921"
            ]
           ],
           "sequentialminus": [
            [
             0,
             "#0d0887"
            ],
            [
             0.1111111111111111,
             "#46039f"
            ],
            [
             0.2222222222222222,
             "#7201a8"
            ],
            [
             0.3333333333333333,
             "#9c179e"
            ],
            [
             0.4444444444444444,
             "#bd3786"
            ],
            [
             0.5555555555555556,
             "#d8576b"
            ],
            [
             0.6666666666666666,
             "#ed7953"
            ],
            [
             0.7777777777777778,
             "#fb9f3a"
            ],
            [
             0.8888888888888888,
             "#fdca26"
            ],
            [
             1,
             "#f0f921"
            ]
           ]
          },
          "colorway": [
           "#636efa",
           "#EF553B",
           "#00cc96",
           "#ab63fa",
           "#FFA15A",
           "#19d3f3",
           "#FF6692",
           "#B6E880",
           "#FF97FF",
           "#FECB52"
          ],
          "font": {
           "color": "#2a3f5f"
          },
          "geo": {
           "bgcolor": "white",
           "lakecolor": "white",
           "landcolor": "#E5ECF6",
           "showlakes": true,
           "showland": true,
           "subunitcolor": "white"
          },
          "hoverlabel": {
           "align": "left"
          },
          "hovermode": "closest",
          "mapbox": {
           "style": "light"
          },
          "paper_bgcolor": "white",
          "plot_bgcolor": "#E5ECF6",
          "polar": {
           "angularaxis": {
            "gridcolor": "white",
            "linecolor": "white",
            "ticks": ""
           },
           "bgcolor": "#E5ECF6",
           "radialaxis": {
            "gridcolor": "white",
            "linecolor": "white",
            "ticks": ""
           }
          },
          "scene": {
           "xaxis": {
            "backgroundcolor": "#E5ECF6",
            "gridcolor": "white",
            "gridwidth": 2,
            "linecolor": "white",
            "showbackground": true,
            "ticks": "",
            "zerolinecolor": "white"
           },
           "yaxis": {
            "backgroundcolor": "#E5ECF6",
            "gridcolor": "white",
            "gridwidth": 2,
            "linecolor": "white",
            "showbackground": true,
            "ticks": "",
            "zerolinecolor": "white"
           },
           "zaxis": {
            "backgroundcolor": "#E5ECF6",
            "gridcolor": "white",
            "gridwidth": 2,
            "linecolor": "white",
            "showbackground": true,
            "ticks": "",
            "zerolinecolor": "white"
           }
          },
          "shapedefaults": {
           "line": {
            "color": "#2a3f5f"
           }
          },
          "ternary": {
           "aaxis": {
            "gridcolor": "white",
            "linecolor": "white",
            "ticks": ""
           },
           "baxis": {
            "gridcolor": "white",
            "linecolor": "white",
            "ticks": ""
           },
           "bgcolor": "#E5ECF6",
           "caxis": {
            "gridcolor": "white",
            "linecolor": "white",
            "ticks": ""
           }
          },
          "title": {
           "x": 0.05
          },
          "xaxis": {
           "automargin": true,
           "gridcolor": "white",
           "linecolor": "white",
           "ticks": "",
           "title": {
            "standoff": 15
           },
           "zerolinecolor": "white",
           "zerolinewidth": 2
          },
          "yaxis": {
           "automargin": true,
           "gridcolor": "white",
           "linecolor": "white",
           "ticks": "",
           "title": {
            "standoff": 15
           },
           "zerolinecolor": "white",
           "zerolinewidth": 2
          }
         }
        },
        "title": {
         "text": "Histogram of Number of Recipes on Website"
        },
        "xaxis": {
         "anchor": "y",
         "domain": [
          0,
          1
         ],
         "title": {
          "text": "Recipes"
         }
        },
        "yaxis": {
         "anchor": "x",
         "domain": [
          0,
          1
         ],
         "title": {
          "text": "count"
         }
        }
       }
      },
      "text/html": [
       "<div>\n",
       "        \n",
       "        \n",
       "            <div id=\"6df6c682-6ed9-42d7-9330-e595b6f2c5ca\" class=\"plotly-graph-div\" style=\"height:525px; width:100%;\"></div>\n",
       "            <script type=\"text/javascript\">\n",
       "                require([\"plotly\"], function(Plotly) {\n",
       "                    window.PLOTLYENV=window.PLOTLYENV || {};\n",
       "                    \n",
       "                if (document.getElementById(\"6df6c682-6ed9-42d7-9330-e595b6f2c5ca\")) {\n",
       "                    Plotly.newPlot(\n",
       "                        '6df6c682-6ed9-42d7-9330-e595b6f2c5ca',\n",
       "                        [{\"alignmentgroup\": \"True\", \"bingroup\": \"x\", \"hoverlabel\": {\"namelength\": 0}, \"hovertemplate\": \"Recipes=%{x}<br>count=%{y}\", \"legendgroup\": \"\", \"marker\": {\"color\": \"#636efa\"}, \"name\": \"\", \"offsetgroup\": \"\", \"orientation\": \"v\", \"showlegend\": false, \"type\": \"histogram\", \"x\": [3, 1, 1, 1, 4, 5, 5, 4, 1, 13, 67, 49, 1, 1, 103, 11, 2, 134, 2, 5, 4, 4, 2, 1, 1, 2, 6, 1, 1, 1, 10, 5, 10, 1, 1, 1, 1, 4, 2, 1, 3, 1, 5, 2, 2, 2, 1, 3, 1, 2, 1, 1, 3, 19, 2, 7, 3, 6, 1, 3, 4, 160, 49, 1, 2, 2, 18, 4, 14, 1, 1, 5, 7, 2, 2, 1, 1, 80, 36, 8, 2, 1, 1, 14, 63, 1, 11, 4, 16, 7, 4, 1, 16, 13, 2, 21, 8, 2, 4, 1, 1, 4, 2, 1, 1, 2, 13, 5, 2, 1, 1, 1, 6, 3, 1, 2, 2, 34, 7, 4, 2, 1, 8, 47, 1, 1, 2, 1, 2, 12, 1, 164, 11, 1, 2, 4, 1, 6, 39, 10, 36, 2, 5, 54, 1, 7, 1, 1, 1, 7, 44, 1, 1, 17, 1, 9, 3, 14, 3, 2, 1, 3, 60, 1, 2, 2, 28, 4, 1, 1, 2, 3, 15, 1, 1, 1, 1, 3, 2, 2, 7, 1, 14, 2, 1, 4, 2, 1, 1, 7, 1, 1, 5, 5, 1, 3, 1, 6, 1, 10, 1, 1, 1, 1, 1, 7, 6, 4, 1, 20, 10, 1, 49, 4, 7, 10, 63, 10, 1, 1, 1, 3, 1, 38, 6, 1, 1, 8, 1, 3, 1, 2, 1, 12, 23, 1, 5, 2, 172, 38, 3, 1, 2, 2, 8, 46, 19, 5, 1, 3, 33, 1, 1, 1, 2, 4, 1, 1, 3, 1, 3, 3, 4, 2, 106, 3, 1, 7, 15, 1, 1, 9, 3, 4, 1, 1, 7, 49, 28, 4, 3, 10, 1, 2, 1, 15, 164, 4, 1, 1, 3, 3, 1, 1, 6, 6, 2, 1, 2, 4, 29, 32, 1, 17, 4, 45, 6, 5, 7, 6, 1, 1, 3, 3, 3, 2, 1, 1, 1, 5, 1, 30, 1, 3, 40, 1, 1, 1, 1, 17, 1, 1, 5, 3, 1, 1, 1, 76, 1, 10, 1, 6, 1, 2, 4, 5, 11, 1, 4, 1, 1, 1, 1, 4, 2, 1, 7, 4, 3, 1, 2, 3, 1, 23, 1, 4, 1, 10, 1, 1, 1, 2, 10, 2, 2, 1, 2, 1, 4, 3, 2, 157, 16, 5, 24, 1, 4, 24, 13, 2, 3, 2, 3, 4, 56, 1, 3, 5, 3, 2, 9, 59, 1, 3, 5, 5, 1, 1, 1, 6, 18, 1, 32, 1, 2, 4, 3, 1, 10, 75, 11, 7, 4, 4, 3, 2, 4, 146, 1, 2, 108, 3, 11, 1, 1, 2, 4, 1, 153, 1, 3, 14, 1, 1, 1, 1, 1, 1, 68, 1, 70, 5, 3, 29, 15, 12, 9, 35, 56, 2, 18, 10, 4, 2, 1, 3, 1, 1, 52, 17, 1, 16, 2, 3, 1, 3, 13, 26, 2, 58, 9, 2, 1, 1, 22, 162, 104, 1, 143, 3, 1, 1, 3, 30, 1, 2, 5, 1, 1, 1, 60, 1, 1, 3, 58, 60, 5, 35, 2, 1, 4, 4, 25, 35, 54, 2], \"xaxis\": \"x\", \"yaxis\": \"y\"}],\n",
       "                        {\"barmode\": \"relative\", \"legend\": {\"tracegroupgap\": 0}, \"template\": {\"data\": {\"bar\": [{\"error_x\": {\"color\": \"#2a3f5f\"}, \"error_y\": {\"color\": \"#2a3f5f\"}, \"marker\": {\"line\": {\"color\": \"#E5ECF6\", \"width\": 0.5}}, \"type\": \"bar\"}], \"barpolar\": [{\"marker\": {\"line\": {\"color\": \"#E5ECF6\", \"width\": 0.5}}, \"type\": \"barpolar\"}], \"carpet\": [{\"aaxis\": {\"endlinecolor\": \"#2a3f5f\", \"gridcolor\": \"white\", \"linecolor\": \"white\", \"minorgridcolor\": \"white\", \"startlinecolor\": \"#2a3f5f\"}, \"baxis\": {\"endlinecolor\": \"#2a3f5f\", \"gridcolor\": \"white\", \"linecolor\": \"white\", \"minorgridcolor\": \"white\", \"startlinecolor\": \"#2a3f5f\"}, \"type\": \"carpet\"}], \"choropleth\": [{\"colorbar\": {\"outlinewidth\": 0, \"ticks\": \"\"}, \"type\": \"choropleth\"}], \"contour\": [{\"colorbar\": {\"outlinewidth\": 0, \"ticks\": \"\"}, \"colorscale\": [[0.0, \"#0d0887\"], [0.1111111111111111, \"#46039f\"], [0.2222222222222222, \"#7201a8\"], [0.3333333333333333, \"#9c179e\"], [0.4444444444444444, \"#bd3786\"], [0.5555555555555556, \"#d8576b\"], [0.6666666666666666, \"#ed7953\"], [0.7777777777777778, \"#fb9f3a\"], [0.8888888888888888, \"#fdca26\"], [1.0, \"#f0f921\"]], \"type\": \"contour\"}], \"contourcarpet\": [{\"colorbar\": {\"outlinewidth\": 0, \"ticks\": \"\"}, \"type\": \"contourcarpet\"}], \"heatmap\": [{\"colorbar\": {\"outlinewidth\": 0, \"ticks\": \"\"}, \"colorscale\": [[0.0, \"#0d0887\"], [0.1111111111111111, \"#46039f\"], [0.2222222222222222, \"#7201a8\"], [0.3333333333333333, \"#9c179e\"], [0.4444444444444444, \"#bd3786\"], [0.5555555555555556, \"#d8576b\"], [0.6666666666666666, \"#ed7953\"], [0.7777777777777778, \"#fb9f3a\"], [0.8888888888888888, \"#fdca26\"], [1.0, \"#f0f921\"]], \"type\": \"heatmap\"}], \"heatmapgl\": [{\"colorbar\": {\"outlinewidth\": 0, \"ticks\": \"\"}, \"colorscale\": [[0.0, \"#0d0887\"], [0.1111111111111111, \"#46039f\"], [0.2222222222222222, \"#7201a8\"], [0.3333333333333333, \"#9c179e\"], [0.4444444444444444, \"#bd3786\"], [0.5555555555555556, \"#d8576b\"], [0.6666666666666666, \"#ed7953\"], [0.7777777777777778, \"#fb9f3a\"], [0.8888888888888888, \"#fdca26\"], [1.0, \"#f0f921\"]], \"type\": \"heatmapgl\"}], \"histogram\": [{\"marker\": {\"colorbar\": {\"outlinewidth\": 0, \"ticks\": \"\"}}, \"type\": \"histogram\"}], \"histogram2d\": [{\"colorbar\": {\"outlinewidth\": 0, \"ticks\": \"\"}, \"colorscale\": [[0.0, \"#0d0887\"], [0.1111111111111111, \"#46039f\"], [0.2222222222222222, \"#7201a8\"], [0.3333333333333333, \"#9c179e\"], [0.4444444444444444, \"#bd3786\"], [0.5555555555555556, \"#d8576b\"], [0.6666666666666666, \"#ed7953\"], [0.7777777777777778, \"#fb9f3a\"], [0.8888888888888888, \"#fdca26\"], [1.0, \"#f0f921\"]], \"type\": \"histogram2d\"}], \"histogram2dcontour\": [{\"colorbar\": {\"outlinewidth\": 0, \"ticks\": \"\"}, \"colorscale\": [[0.0, \"#0d0887\"], [0.1111111111111111, \"#46039f\"], [0.2222222222222222, \"#7201a8\"], [0.3333333333333333, \"#9c179e\"], [0.4444444444444444, \"#bd3786\"], [0.5555555555555556, \"#d8576b\"], [0.6666666666666666, \"#ed7953\"], [0.7777777777777778, \"#fb9f3a\"], [0.8888888888888888, \"#fdca26\"], [1.0, \"#f0f921\"]], \"type\": \"histogram2dcontour\"}], \"mesh3d\": [{\"colorbar\": {\"outlinewidth\": 0, \"ticks\": \"\"}, \"type\": \"mesh3d\"}], \"parcoords\": [{\"line\": {\"colorbar\": {\"outlinewidth\": 0, \"ticks\": \"\"}}, \"type\": \"parcoords\"}], \"pie\": [{\"automargin\": true, \"type\": \"pie\"}], \"scatter\": [{\"marker\": {\"colorbar\": {\"outlinewidth\": 0, \"ticks\": \"\"}}, \"type\": \"scatter\"}], \"scatter3d\": [{\"line\": {\"colorbar\": {\"outlinewidth\": 0, \"ticks\": \"\"}}, \"marker\": {\"colorbar\": {\"outlinewidth\": 0, \"ticks\": \"\"}}, \"type\": \"scatter3d\"}], \"scattercarpet\": [{\"marker\": {\"colorbar\": {\"outlinewidth\": 0, \"ticks\": \"\"}}, \"type\": \"scattercarpet\"}], \"scattergeo\": [{\"marker\": {\"colorbar\": {\"outlinewidth\": 0, \"ticks\": \"\"}}, \"type\": \"scattergeo\"}], \"scattergl\": [{\"marker\": {\"colorbar\": {\"outlinewidth\": 0, \"ticks\": \"\"}}, \"type\": \"scattergl\"}], \"scattermapbox\": [{\"marker\": {\"colorbar\": {\"outlinewidth\": 0, \"ticks\": \"\"}}, \"type\": \"scattermapbox\"}], \"scatterpolar\": [{\"marker\": {\"colorbar\": {\"outlinewidth\": 0, \"ticks\": \"\"}}, \"type\": \"scatterpolar\"}], \"scatterpolargl\": [{\"marker\": {\"colorbar\": {\"outlinewidth\": 0, \"ticks\": \"\"}}, \"type\": \"scatterpolargl\"}], \"scatterternary\": [{\"marker\": {\"colorbar\": {\"outlinewidth\": 0, \"ticks\": \"\"}}, \"type\": \"scatterternary\"}], \"surface\": [{\"colorbar\": {\"outlinewidth\": 0, \"ticks\": \"\"}, \"colorscale\": [[0.0, \"#0d0887\"], [0.1111111111111111, \"#46039f\"], [0.2222222222222222, \"#7201a8\"], [0.3333333333333333, \"#9c179e\"], [0.4444444444444444, \"#bd3786\"], [0.5555555555555556, \"#d8576b\"], [0.6666666666666666, \"#ed7953\"], [0.7777777777777778, \"#fb9f3a\"], [0.8888888888888888, \"#fdca26\"], [1.0, \"#f0f921\"]], \"type\": \"surface\"}], \"table\": [{\"cells\": {\"fill\": {\"color\": \"#EBF0F8\"}, \"line\": {\"color\": \"white\"}}, \"header\": {\"fill\": {\"color\": \"#C8D4E3\"}, \"line\": {\"color\": \"white\"}}, \"type\": \"table\"}]}, \"layout\": {\"annotationdefaults\": {\"arrowcolor\": \"#2a3f5f\", \"arrowhead\": 0, \"arrowwidth\": 1}, \"coloraxis\": {\"colorbar\": {\"outlinewidth\": 0, \"ticks\": \"\"}}, \"colorscale\": {\"diverging\": [[0, \"#8e0152\"], [0.1, \"#c51b7d\"], [0.2, \"#de77ae\"], [0.3, \"#f1b6da\"], [0.4, \"#fde0ef\"], [0.5, \"#f7f7f7\"], [0.6, \"#e6f5d0\"], [0.7, \"#b8e186\"], [0.8, \"#7fbc41\"], [0.9, \"#4d9221\"], [1, \"#276419\"]], \"sequential\": [[0.0, \"#0d0887\"], [0.1111111111111111, \"#46039f\"], [0.2222222222222222, \"#7201a8\"], [0.3333333333333333, \"#9c179e\"], [0.4444444444444444, \"#bd3786\"], [0.5555555555555556, \"#d8576b\"], [0.6666666666666666, \"#ed7953\"], [0.7777777777777778, \"#fb9f3a\"], [0.8888888888888888, \"#fdca26\"], [1.0, \"#f0f921\"]], \"sequentialminus\": [[0.0, \"#0d0887\"], [0.1111111111111111, \"#46039f\"], [0.2222222222222222, \"#7201a8\"], [0.3333333333333333, \"#9c179e\"], [0.4444444444444444, \"#bd3786\"], [0.5555555555555556, \"#d8576b\"], [0.6666666666666666, \"#ed7953\"], [0.7777777777777778, \"#fb9f3a\"], [0.8888888888888888, \"#fdca26\"], [1.0, \"#f0f921\"]]}, \"colorway\": [\"#636efa\", \"#EF553B\", \"#00cc96\", \"#ab63fa\", \"#FFA15A\", \"#19d3f3\", \"#FF6692\", \"#B6E880\", \"#FF97FF\", \"#FECB52\"], \"font\": {\"color\": \"#2a3f5f\"}, \"geo\": {\"bgcolor\": \"white\", \"lakecolor\": \"white\", \"landcolor\": \"#E5ECF6\", \"showlakes\": true, \"showland\": true, \"subunitcolor\": \"white\"}, \"hoverlabel\": {\"align\": \"left\"}, \"hovermode\": \"closest\", \"mapbox\": {\"style\": \"light\"}, \"paper_bgcolor\": \"white\", \"plot_bgcolor\": \"#E5ECF6\", \"polar\": {\"angularaxis\": {\"gridcolor\": \"white\", \"linecolor\": \"white\", \"ticks\": \"\"}, \"bgcolor\": \"#E5ECF6\", \"radialaxis\": {\"gridcolor\": \"white\", \"linecolor\": \"white\", \"ticks\": \"\"}}, \"scene\": {\"xaxis\": {\"backgroundcolor\": \"#E5ECF6\", \"gridcolor\": \"white\", \"gridwidth\": 2, \"linecolor\": \"white\", \"showbackground\": true, \"ticks\": \"\", \"zerolinecolor\": \"white\"}, \"yaxis\": {\"backgroundcolor\": \"#E5ECF6\", \"gridcolor\": \"white\", \"gridwidth\": 2, \"linecolor\": \"white\", \"showbackground\": true, \"ticks\": \"\", \"zerolinecolor\": \"white\"}, \"zaxis\": {\"backgroundcolor\": \"#E5ECF6\", \"gridcolor\": \"white\", \"gridwidth\": 2, \"linecolor\": \"white\", \"showbackground\": true, \"ticks\": \"\", \"zerolinecolor\": \"white\"}}, \"shapedefaults\": {\"line\": {\"color\": \"#2a3f5f\"}}, \"ternary\": {\"aaxis\": {\"gridcolor\": \"white\", \"linecolor\": \"white\", \"ticks\": \"\"}, \"baxis\": {\"gridcolor\": \"white\", \"linecolor\": \"white\", \"ticks\": \"\"}, \"bgcolor\": \"#E5ECF6\", \"caxis\": {\"gridcolor\": \"white\", \"linecolor\": \"white\", \"ticks\": \"\"}}, \"title\": {\"x\": 0.05}, \"xaxis\": {\"automargin\": true, \"gridcolor\": \"white\", \"linecolor\": \"white\", \"ticks\": \"\", \"title\": {\"standoff\": 15}, \"zerolinecolor\": \"white\", \"zerolinewidth\": 2}, \"yaxis\": {\"automargin\": true, \"gridcolor\": \"white\", \"linecolor\": \"white\", \"ticks\": \"\", \"title\": {\"standoff\": 15}, \"zerolinecolor\": \"white\", \"zerolinewidth\": 2}}}, \"title\": {\"text\": \"Histogram of Number of Recipes on Website\"}, \"xaxis\": {\"anchor\": \"y\", \"domain\": [0.0, 1.0], \"title\": {\"text\": \"Recipes\"}}, \"yaxis\": {\"anchor\": \"x\", \"domain\": [0.0, 1.0], \"title\": {\"text\": \"count\"}}},\n",
       "                        {\"responsive\": true}\n",
       "                    ).then(function(){\n",
       "                            \n",
       "var gd = document.getElementById('6df6c682-6ed9-42d7-9330-e595b6f2c5ca');\n",
       "var x = new MutationObserver(function (mutations, observer) {{\n",
       "        var display = window.getComputedStyle(gd).display;\n",
       "        if (!display || display === 'none') {{\n",
       "            console.log([gd, 'removed!']);\n",
       "            Plotly.purge(gd);\n",
       "            observer.disconnect();\n",
       "        }}\n",
       "}});\n",
       "\n",
       "// Listen for the removal of the full notebook cells\n",
       "var notebookContainer = gd.closest('#notebook-container');\n",
       "if (notebookContainer) {{\n",
       "    x.observe(notebookContainer, {childList: true});\n",
       "}}\n",
       "\n",
       "// Listen for the clearing of the current output cell\n",
       "var outputEl = gd.closest('.output');\n",
       "if (outputEl) {{\n",
       "    x.observe(outputEl, {childList: true});\n",
       "}}\n",
       "\n",
       "                        })\n",
       "                };\n",
       "                });\n",
       "            </script>\n",
       "        </div>"
      ]
     },
     "metadata": {},
     "output_type": "display_data"
    }
   ],
   "source": [
    "fig_histogram = px.histogram(recipe_information_count.loc[recipe_information_count['Recipes'] <= 200, :], x = 'Recipes', title = \"Histogram of Number of Recipes on Website\")\n",
    "fig_histogram.show()"
   ]
  },
  {
   "cell_type": "markdown",
   "metadata": {},
   "source": [
    "Based on the above histogram, we can see that, outside of a few power contributor, the majority of contributors only have a few recipes on the website.\n",
    "\n",
    "Let's create a scatterplot of number of recipes vs. average rating. However, I'm going to exclude recipes with zero reviews."
   ]
  },
  {
   "cell_type": "code",
   "execution_count": 91,
   "metadata": {},
   "outputs": [
    {
     "data": {
      "application/vnd.plotly.v1+json": {
       "config": {
        "plotlyServerURL": "https://plot.ly"
       },
       "data": [
        {
         "hoverlabel": {
          "namelength": 0
         },
         "hovertemplate": "<b>%{hovertext}</b><br><br>Count=%{x}<br>Avg. Rating=%{y}",
         "hovertext": [
          "Aaron Hutcherson",
          "Abdul Tabini",
          "Abigail Gullo",
          "Abigail Gullo, Sobou",
          "Adam Nagourney",
          "Alain Ducasse",
          "Aleksandra Crapanzano",
          "Alex Ward",
          "Alex Witchel",
          "Alexa Weibel",
          "Ali Slagle",
          "Alice Hart",
          "Alison Roman",
          "Alissa J. Rubin",
          "Aljean Harmetz",
          "Amanda Cohen",
          "Amanda Hesser",
          "Amy M. Spindler",
          "Andrea Strong",
          "Andrew Scrivani",
          "André Soltner",
          "Angela Dimayuga",
          "Ann Hodgman",
          "Ann Seranne",
          "Anna Klinger",
          "Anna Winger",
          "Anne Mendelson",
          "Anne Semmes",
          "Anne Severson",
          "Annemarie Conte",
          "April Bloomfield",
          "Barbara Gamarekian",
          "Barbara Kafka",
          "Barbara Whitaker",
          "Becky Hughes",
          "Besha Rodell",
          "Betsy Andrews",
          "Betty Fussell",
          "Bill Yosses",
          "Bob Morris",
          "Brett Anderson",
          "Brett Martin",
          "Brigid Washington",
          "Bruce Cost",
          "Bryan Miller",
          "Bryan Miller And Pierre Franey",
          "C.J. Chivers",
          "Catherine C. Robbins",
          "Catherine Saint Louis",
          "Cathy Barrow",
          "Cathy Horyn",
          "Celia Barbour",
          "Chad Robertson",
          "Charlie Palmer",
          "Charlotte Druckman",
          "Chloe Coscarelli",
          "Chris Buckley",
          "Christine Muhlke",
          "Christopher Idone",
          "Clare de Boer",
          "Claudia Fleming",
          "Claudia Rowe",
          "Clay Risen",
          "Colette Rossant",
          "Colu Henry",
          "Corby Kummer",
          "Corinne Trang",
          "Craig Claiborne",
          "Craig Claiborne And Pierre Franey",
          "Craig Claiborne With Pierre Franey",
          "Craig Claiborne and Pierre Franey",
          "Craig Seligman",
          "Curtis Sittenfeld",
          "Daisann Mclane",
          "Dana Bowen",
          "Daniel Patterson",
          "Daniela Galarza",
          "Danny Bowien",
          "Daryl Royster Alexander",
          "Dave Kim",
          "David Edelstein",
          "David Firestone And Susan Brenna",
          "David Firestone and Susan Brenna",
          "David Karp",
          "David Latt",
          "David Leite",
          "David Mas Masumoto",
          "David Sax",
          "David Tanis",
          "Dawn Lerman",
          "Dawn Perry",
          "Debbie Lee",
          "Deborah Gardner",
          "Deborah Vankin",
          "Dena Kleiman",
          "Denise Landis",
          "Densie Webb",
          "Donna St. George",
          "Dorie Greenspan",
          "Dorothy Allison",
          "Dwight Garner",
          "Ed Levine",
          "Edward Schumacher",
          "Eileen Yin-Fei Lo",
          "Elaine F. Weiss",
          "Elaine Louie",
          "Elaine Sciolino",
          "Elisabetta Povoledo",
          "Elizabeth Kolbert",
          "Ellen Ann Fentress",
          "Emily Fleischaker",
          "Emily Weinstein",
          "Enid Nemy",
          "Eric Asimov",
          "Eric N. Berg",
          "Erin Jeanne McDowell",
          "Erin McDowell",
          "Eugenia Bone",
          "Fergus Henderson",
          "Florence Fabricant",
          "Floyd Cardoz",
          "Fran Schumer",
          "Francis Lam",
          "Francis lam",
          "Frank Bruni",
          "Frank Caiafa",
          "Frank J. Prial",
          "Frank Stitt",
          "Fred Ferretti",
          "Fuchsia Dunlop",
          "Gabriella Mlynarczyk",
          "Gabrielle Hamilton",
          "Garrett Hongo",
          "Gary Shteyngart",
          "Gena Hamshaw",
          "Genevieve Ko",
          "Georgia Wong",
          "Ginia Bellafante",
          "Gish Jen",
          "Glenn Collins",
          "Gloria Smith",
          "Grant Melton",
          "Gustav Niebuhr",
          "Guy Savoy",
          "Hannah Kirshner",
          "Harold Mcgee",
          "Harvey Araton",
          "Henry Alford",
          "Hilary De Vries",
          "Horacio Silva",
          "Ian Austen",
          "Ian Fisher",
          "Indrani Sen",
          "Isa Chandra Moskowitz",
          "Isabel Costa",
          "J. J. Goode",
          "J. Kenji López-Alt",
          "Jacques Pepin",
          "Jacques Pépin",
          "Jan Warren",
          "Jane Black",
          "Jane E. Brody",
          "Jane Garmey",
          "Jane Nickerson",
          "Jane Sigal",
          "Janet Bukovinsky",
          "Janna Gur",
          "Jason Epstein",
          "Jean Anderson",
          "Jean F. Tibbetts",
          "Jeannette Ferrary",
          "Jeff Gordinier",
          "Jeff Schwarz And Greg Kessler",
          "Jeffrey Yoskowitz",
          "Jen Schwertman",
          "Jenna Rycroft",
          "Jennifer Romolini",
          "Jennifer Steinhauer",
          "Jennifer Steinhauer And Helene Cooper",
          "Jennifer Stoffel",
          "Jerrelle Guy",
          "Jessamyn Rodriguez",
          "Jessica B. Harris",
          "Jhumpa Lahiri",
          "Jill P. Capuzzo",
          "Jill Santopietro",
          "Jim Meehan",
          "Jim Shahin",
          "Joan Acocella",
          "Joan Cook",
          "Joan Nathan",
          "Joanna Pruess",
          "Joe Drape",
          "Johanna Bond",
          "John Rockwell",
          "John T. Edge",
          "John Willoughby",
          "John Willoughby And Chris Schlesinger",
          "John Willoughby and Chris Schlesinger",
          "Jon Nordheimer",
          "Jonathan Miles",
          "Jonathan Reynolds",
          "Jonathan Wells",
          "Jordan Mackay",
          "Joseph Lelyveld",
          "Joyce Chang",
          "Judith Liebman",
          "Julia Child",
          "Julia Moskin",
          "Julia Moskin And Kim Severson",
          "Julia Moskin And Melissa Clark",
          "Julia O'Malley",
          "Julia Reed",
          "Julia Sherman",
          "Julia Turshen",
          "Julie Powell",
          "Julie Sahni",
          "Julie Scelfo",
          "KIm Severson",
          "Karen Baar",
          "Karen Barrow",
          "Karen Olsson",
          "Kathleen Beckett-Young",
          "Kay Chun",
          "Kay Rentschler",
          "Keith Dixon",
          "Ken Gross",
          "Ken Hom",
          "Kent Black",
          "Kevin Pang",
          "Kiera Wright-Ruiz",
          "Kim Severson",
          "Klancy Miller",
          "Korsha Wilson",
          "Kristen Kish",
          "Krysten Chambrot",
          "Kurt Gutenbrunner",
          "Laura Anderson",
          "Laura Cunningham",
          "Laura M. Holson",
          "Laurie Woolever",
          "Lesley Téllez",
          "Leslie Bruni",
          "Leslie Kaufman",
          "Leslie Land",
          "Lidey Heuck",
          "Ligaya Mishan",
          "Linda Richardson",
          "Linda Wells",
          "Linda West Eckhardt",
          "Liz Logan",
          "Liz Smith",
          "Lorna J. Sass",
          "Lucian K. Truscott IV",
          "Madhur Jaffrey",
          "Maggie Barrett",
          "Maida Heatter",
          "Malcolm Mclaren",
          "Marcia Adams",
          "Marcy Goldman-Posluns",
          "Margaux Laskey",
          "Maria Newman",
          "Marialisa Calta",
          "Marian Burros",
          "Mario Batali",
          "Mark Bittman",
          "Mark Bittman ",
          "Mark Bittman And Sam Sifton",
          "Mark Bittman and Sam Sifton",
          "Mark Militello",
          "Marlena Spieler",
          "Marnie Hanel",
          "Martha Meadows",
          "Martha Rose Shulman",
          "Matt Lee And Ted Lee",
          "Matt Lee and Ted Lee",
          "Maura Egan",
          "Mayukh Sen",
          "Melissa Clark",
          "Melissa Clark And Steven Raichlen",
          "Melissa Fernandez",
          "Meredith Etherington-Smith",
          "Merrill Stubbs",
          "Michael Boodro",
          "Michael David",
          "Michael Moss",
          "Michael Ruhlman",
          "Michael Tortorello",
          "Michael Winerip",
          "Michele Evans",
          "Micheline Maynard",
          "Michelle Higgins",
          "Michelle Slatalla",
          "Mike Emanuel",
          "Mimi Sheraton",
          "Mireya Navarro",
          "Mitchell Owens",
          "Moira Hodgson",
          "Molly O'Neill",
          "Monica Segovia-Welsh",
          "Moria Hodgson",
          "Mrs. Melillo",
          "Mura Egan",
          "Nancy Arum",
          "Nancy Harmon Jenkins",
          "Natalie Pattillo",
          "Nathaniel C. Nash",
          "Naz Deravian",
          "Nick Fox",
          "Nicole Mones",
          "Nicole Taylor",
          "Nigella Lawson",
          "Nina Simonds",
          "Nobu Matsuhisa",
          "None",
          "Nora Ephron",
          "Oliver Schwaner-Albright",
          "Oliver Strand",
          "Olivia Snaije",
          "Pableaux Johnson",
          "Pam Belluck",
          "Patricia Leigh Brown",
          "Patricia Wells",
          "Patrick Farrell",
          "Paul Greenberg",
          "Paul Prudhomme",
          "Paula Disbrowe",
          "Paula Wolfert",
          "Pete Wells",
          "Peter Applebome",
          "Peter Feibleman",
          "Peter Mcquaid",
          "Peter Meehan",
          "Pierre Franey",
          "Pilar Viladas",
          "Priya Krishna",
          "Priya Krishna and Ritu Krishna",
          "R. W. Apple Jr.",
          "Rachel Donadio",
          "Rachel L. Swarns",
          "Rachel Wharton",
          "Randy Kennedy",
          "Rebekah Peppler",
          "Regina Schrambling",
          "Rena Coyle",
          "Richard Flaste",
          "Richard Flaste And Pierre Franey",
          "Rick A. Martinez",
          "Rick Marin",
          "Robert Clark",
          "Robert Farrar Capon",
          "Robert Hughes",
          "Robert Simonson",
          "Robert Trachtenberg",
          "Robert Willey",
          "Robin Finn",
          "Ron Alexander",
          "Ron Lieber",
          "Rosie Schaap",
          "Roxanne Fequiere",
          "Roy Blount Jr.",
          "Rozanne Gold",
          "Ruth Reichl",
          "S. A. Belzer",
          "Sam Kass",
          "Sam SIfton",
          "Sam Sifton",
          "Sam Sifton And Mark Bittman",
          "Samantha Seneviratne",
          "Samin Nosrat",
          "Sara Ann Friedman",
          "Sara Bonisteel",
          "Sara Dickerman",
          "Sara Rimer",
          "Sarah Belk",
          "Sarah Copeland",
          "Sarah DiGregorio",
          "Sarah Digregorio",
          "Sarah Jampel",
          "Sean Sherman",
          "Shizuo Tsuji",
          "Sophie Brickman",
          "Sother Teague",
          "Stephen Kinzer",
          "Steve Friedman",
          "Steven Kurutz",
          "Steven Raichlen",
          "Steven Stern",
          "Stuart Brioza And Nicole Krasinksi",
          "Sue Li",
          "Susan Campos",
          "Susan Ferraro",
          "Susan Gubar",
          "Susan Guerrero",
          "Susan Herrmann Loomis",
          "Susan Spungen",
          "Susanna Howe",
          "Suzanne Hamlin",
          "Suzanne Lenzer",
          "THE NEW YORK TIMES",
          "Tamar Adler",
          "Tara Parker-Pope",
          "Tejal Rao",
          "The New York TImes",
          "The New York Times",
          "Thomas Vinciguerra",
          "Tim Weiner",
          "Timothy Egan",
          "Toby Cecchini",
          "Tom Colicchio",
          "Tony Conigliaro",
          "Trish Hall",
          "Vegnews Magazine",
          "Virginia Heffernan",
          "William Grimes",
          "William L. Hamilton",
          "William Norwich",
          "Willy Staley",
          "Wolfgang Puck",
          "Yanick Rice Lamb",
          "Yewande Komolafe",
          "Yossy Arefi",
          "Yotam Ottolenghi"
         ],
         "legendgroup": "",
         "marker": {
          "color": "#636efa",
          "symbol": "circle"
         },
         "mode": "markers",
         "name": "",
         "showlegend": false,
         "type": "scatter",
         "x": [
          3,
          1,
          1,
          1,
          4,
          1,
          3,
          9,
          56,
          49,
          103,
          11,
          134,
          2,
          2,
          4,
          249,
          3,
          1,
          1,
          1,
          10,
          1,
          1,
          1,
          2,
          1,
          1,
          1,
          3,
          1,
          1,
          71,
          2,
          1,
          1,
          3,
          5,
          1,
          2,
          6,
          1,
          3,
          2,
          57,
          22,
          1,
          1,
          2,
          16,
          3,
          9,
          1,
          1,
          5,
          2,
          1,
          47,
          6,
          8,
          2,
          1,
          1,
          3,
          63,
          4,
          4,
          159,
          152,
          5,
          5,
          1,
          1,
          10,
          9,
          13,
          8,
          2,
          1,
          1,
          1,
          2,
          1,
          1,
          8,
          4,
          2,
          1,
          571,
          6,
          3,
          1,
          2,
          1,
          12,
          4,
          3,
          6,
          44,
          1,
          1,
          1,
          0,
          5,
          1,
          106,
          7,
          1,
          1,
          1,
          6,
          39,
          6,
          23,
          1,
          54,
          1,
          4,
          1,
          842,
          1,
          3,
          42,
          1,
          13,
          1,
          5,
          3,
          3,
          1,
          3,
          53,
          1,
          2,
          2,
          28,
          1,
          2,
          3,
          12,
          1,
          1,
          2,
          1,
          7,
          10,
          2,
          2,
          1,
          1,
          1,
          5,
          2,
          1,
          2,
          1,
          10,
          122,
          1,
          1,
          7,
          5,
          2,
          1,
          17,
          1,
          1,
          22,
          1,
          1,
          2,
          51,
          9,
          1,
          1,
          1,
          1,
          34,
          6,
          1,
          8,
          1,
          1,
          2,
          1,
          8,
          20,
          1,
          1,
          1,
          123,
          11,
          3,
          1,
          2,
          8,
          39,
          17,
          5,
          1,
          14,
          77,
          1,
          1,
          0,
          2,
          1,
          3,
          365,
          2,
          3,
          2,
          58,
          3,
          1,
          7,
          7,
          1,
          1,
          1,
          3,
          1,
          3,
          46,
          14,
          3,
          1,
          4,
          1,
          1,
          15,
          149,
          4,
          1,
          1,
          3,
          2,
          1,
          2,
          3,
          2,
          1,
          1,
          3,
          5,
          32,
          17,
          2,
          13,
          3,
          2,
          1,
          1,
          2,
          3,
          1,
          1,
          1,
          3,
          1,
          30,
          3,
          16,
          464,
          1,
          1071,
          1,
          17,
          1,
          1,
          1,
          1,
          1,
          1601,
          54,
          1,
          5,
          6,
          1122,
          2,
          2,
          4,
          6,
          1,
          1,
          1,
          3,
          1,
          1,
          2,
          3,
          1,
          2,
          2,
          9,
          1,
          2,
          297,
          623,
          1,
          4,
          1,
          1,
          2,
          74,
          2,
          1,
          2,
          4,
          2,
          2,
          142,
          7,
          2,
          11,
          1,
          8,
          13,
          2,
          3,
          1,
          2,
          22,
          2,
          3,
          2,
          2,
          3,
          40,
          1,
          1,
          3,
          2,
          505,
          4,
          18,
          1,
          17,
          1,
          2,
          4,
          2,
          10,
          31,
          3,
          3,
          3,
          3,
          1,
          2,
          64,
          1,
          89,
          3,
          7,
          1,
          1,
          4,
          130,
          1,
          1,
          6,
          1,
          1,
          1,
          1,
          398,
          1,
          68,
          70,
          2,
          28,
          12,
          4,
          5,
          35,
          55,
          1,
          18,
          10,
          2,
          2,
          1,
          3,
          1,
          1,
          36,
          11,
          1,
          16,
          2,
          1,
          1,
          3,
          4,
          25,
          1,
          30,
          8,
          1,
          22,
          156,
          104,
          1,
          126,
          1,
          1,
          2,
          22,
          4,
          1,
          31,
          1,
          1,
          22,
          16,
          8,
          1,
          1,
          2,
          25,
          35,
          53
         ],
         "xaxis": "x",
         "y": [
          4,
          5,
          5,
          5,
          4.5,
          5,
          4.333333333333333,
          3.6666666666666665,
          4.410714285714286,
          4.081632653061225,
          4.077669902912621,
          4.363636363636363,
          4.3283582089552235,
          4,
          4.5,
          4.5,
          4.305220883534137,
          4.333333333333333,
          4,
          5,
          5,
          4.2,
          5,
          4,
          4,
          4,
          5,
          4,
          5,
          4,
          5,
          4,
          3.9014084507042255,
          4.5,
          4,
          4,
          4,
          4.2,
          5,
          3.5,
          4.166666666666667,
          4,
          4.333333333333333,
          4,
          4.157894736842105,
          4.2727272727272725,
          4,
          4,
          4.5,
          4.625,
          4.666666666666667,
          4.666666666666667,
          4,
          3,
          3.8,
          5,
          4,
          4.212765957446808,
          4.166666666666667,
          4.125,
          5,
          4,
          5,
          3.6666666666666665,
          4.317460317460317,
          3.75,
          4.25,
          4.163522012578617,
          4.125,
          4.4,
          4,
          5,
          4,
          4.3,
          4.111111111111111,
          4.230769230769231,
          3.875,
          4.5,
          3,
          4,
          5,
          4,
          4,
          4,
          4.125,
          4.25,
          4,
          4,
          4.551663747810858,
          4.166666666666667,
          4,
          5,
          4,
          3,
          4.166666666666667,
          3.75,
          4,
          4.166666666666667,
          4.090909090909091,
          4,
          4,
          4,
          4,
          4.4,
          4,
          4.320754716981132,
          4.571428571428571,
          4,
          3,
          4,
          4.166666666666667,
          4.282051282051282,
          4,
          4.304347826086956,
          4,
          4.12962962962963,
          4,
          4.5,
          5,
          4.283847980997625,
          4,
          4,
          4.309523809523809,
          4,
          4.384615384615385,
          5,
          4,
          4,
          4,
          5,
          5,
          4.113207547169812,
          4,
          4.5,
          4,
          4.142857142857143,
          4,
          4,
          4.333333333333333,
          4.416666666666667,
          5,
          4,
          4.5,
          4,
          4.142857142857143,
          4,
          5,
          4.5,
          5,
          5,
          5,
          4.2,
          4.5,
          4,
          4,
          5,
          4.1,
          4.327868852459017,
          4,
          4,
          3.857142857142857,
          4.2,
          5,
          4,
          4.294117647058823,
          4,
          4,
          4.181818181818182,
          4,
          4,
          4,
          4.450980392156863,
          4.333333333333333,
          4,
          4,
          5,
          3,
          4.470588235294118,
          4.5,
          4,
          4,
          4,
          4,
          4.5,
          4,
          4.375,
          4.65,
          4,
          5,
          3,
          4.219512195121951,
          4.181818181818182,
          4.333333333333333,
          4,
          4,
          4.625,
          4.512820512820513,
          4.411764705882353,
          4.6,
          4,
          4.285714285714286,
          4.35064935064935,
          4,
          5,
          5,
          4.5,
          4,
          4,
          4.345205479452055,
          4.5,
          4.666666666666667,
          5,
          4.275862068965517,
          4.333333333333333,
          4,
          4.285714285714286,
          4.285714285714286,
          5,
          5,
          4,
          4,
          4,
          4.333333333333333,
          4.130434782608695,
          4.285714285714286,
          4.666666666666667,
          5,
          3.75,
          4,
          4,
          4.133333333333334,
          4.302013422818792,
          3.75,
          4,
          4,
          4,
          5,
          5,
          3.5,
          4,
          5,
          4,
          4,
          4,
          4.4,
          4.25,
          4.352941176470588,
          5,
          4.230769230769231,
          4.666666666666667,
          4,
          4,
          4,
          5,
          4,
          5,
          5,
          4,
          4,
          5,
          4.166666666666667,
          4,
          4.3125,
          4.064655172413793,
          5,
          4.411764705882353,
          4,
          4.411764705882353,
          5,
          5,
          5,
          4,
          5,
          4.468457214241099,
          4.166666666666667,
          4,
          4.4,
          4.166666666666667,
          4.541889483065954,
          4.5,
          4,
          4.5,
          4.666666666666667,
          3,
          5,
          4,
          4,
          4,
          5,
          3.5,
          4.666666666666667,
          5,
          4,
          4.5,
          3.888888888888889,
          5,
          5,
          4.1447811447811445,
          4.223113964686998,
          5,
          3.75,
          5,
          4,
          4,
          4.22972972972973,
          4,
          4,
          4,
          4.25,
          4,
          4,
          4.253521126760563,
          4,
          4,
          4.181818181818182,
          5,
          4.625,
          4.3076923076923075,
          5,
          4,
          4,
          4,
          4.2272727272727275,
          4,
          4,
          4.5,
          5,
          4.666666666666667,
          4.5,
          4,
          5,
          4,
          4,
          4.293069306930693,
          3.75,
          4,
          4,
          4.294117647058823,
          5,
          5,
          4,
          4.5,
          4.1,
          4.290322580645161,
          4,
          4,
          4.333333333333333,
          4,
          4,
          3.5,
          4.3125,
          4,
          4.449438202247191,
          4.333333333333333,
          4.714285714285714,
          5,
          5,
          4,
          4.292307692307692,
          4,
          4,
          4,
          5,
          4,
          4,
          4,
          4.424623115577889,
          4,
          4.205882352941177,
          4.3,
          4.5,
          4.178571428571429,
          4.416666666666667,
          4.25,
          4.4,
          4.228571428571429,
          4.1454545454545455,
          5,
          4.333333333333333,
          4.3,
          4.5,
          4,
          4,
          4,
          4,
          4,
          4.361111111111111,
          4.2727272727272725,
          4,
          4.25,
          5,
          4,
          5,
          4.333333333333333,
          4,
          4.12,
          4,
          3.933333333333333,
          4.5,
          4,
          4.454545454545454,
          4.262820512820513,
          4.115384615384615,
          5,
          4.301587301587301,
          4,
          4,
          4,
          4.590909090909091,
          4.25,
          4,
          4,
          4,
          5,
          4.318181818181818,
          4,
          4,
          5,
          4,
          4,
          4.04,
          4.457142857142857,
          4.09433962264151
         ],
         "yaxis": "y"
        }
       ],
       "layout": {
        "legend": {
         "tracegroupgap": 0
        },
        "margin": {
         "t": 60
        },
        "template": {
         "data": {
          "bar": [
           {
            "error_x": {
             "color": "#2a3f5f"
            },
            "error_y": {
             "color": "#2a3f5f"
            },
            "marker": {
             "line": {
              "color": "#E5ECF6",
              "width": 0.5
             }
            },
            "type": "bar"
           }
          ],
          "barpolar": [
           {
            "marker": {
             "line": {
              "color": "#E5ECF6",
              "width": 0.5
             }
            },
            "type": "barpolar"
           }
          ],
          "carpet": [
           {
            "aaxis": {
             "endlinecolor": "#2a3f5f",
             "gridcolor": "white",
             "linecolor": "white",
             "minorgridcolor": "white",
             "startlinecolor": "#2a3f5f"
            },
            "baxis": {
             "endlinecolor": "#2a3f5f",
             "gridcolor": "white",
             "linecolor": "white",
             "minorgridcolor": "white",
             "startlinecolor": "#2a3f5f"
            },
            "type": "carpet"
           }
          ],
          "choropleth": [
           {
            "colorbar": {
             "outlinewidth": 0,
             "ticks": ""
            },
            "type": "choropleth"
           }
          ],
          "contour": [
           {
            "colorbar": {
             "outlinewidth": 0,
             "ticks": ""
            },
            "colorscale": [
             [
              0,
              "#0d0887"
             ],
             [
              0.1111111111111111,
              "#46039f"
             ],
             [
              0.2222222222222222,
              "#7201a8"
             ],
             [
              0.3333333333333333,
              "#9c179e"
             ],
             [
              0.4444444444444444,
              "#bd3786"
             ],
             [
              0.5555555555555556,
              "#d8576b"
             ],
             [
              0.6666666666666666,
              "#ed7953"
             ],
             [
              0.7777777777777778,
              "#fb9f3a"
             ],
             [
              0.8888888888888888,
              "#fdca26"
             ],
             [
              1,
              "#f0f921"
             ]
            ],
            "type": "contour"
           }
          ],
          "contourcarpet": [
           {
            "colorbar": {
             "outlinewidth": 0,
             "ticks": ""
            },
            "type": "contourcarpet"
           }
          ],
          "heatmap": [
           {
            "colorbar": {
             "outlinewidth": 0,
             "ticks": ""
            },
            "colorscale": [
             [
              0,
              "#0d0887"
             ],
             [
              0.1111111111111111,
              "#46039f"
             ],
             [
              0.2222222222222222,
              "#7201a8"
             ],
             [
              0.3333333333333333,
              "#9c179e"
             ],
             [
              0.4444444444444444,
              "#bd3786"
             ],
             [
              0.5555555555555556,
              "#d8576b"
             ],
             [
              0.6666666666666666,
              "#ed7953"
             ],
             [
              0.7777777777777778,
              "#fb9f3a"
             ],
             [
              0.8888888888888888,
              "#fdca26"
             ],
             [
              1,
              "#f0f921"
             ]
            ],
            "type": "heatmap"
           }
          ],
          "heatmapgl": [
           {
            "colorbar": {
             "outlinewidth": 0,
             "ticks": ""
            },
            "colorscale": [
             [
              0,
              "#0d0887"
             ],
             [
              0.1111111111111111,
              "#46039f"
             ],
             [
              0.2222222222222222,
              "#7201a8"
             ],
             [
              0.3333333333333333,
              "#9c179e"
             ],
             [
              0.4444444444444444,
              "#bd3786"
             ],
             [
              0.5555555555555556,
              "#d8576b"
             ],
             [
              0.6666666666666666,
              "#ed7953"
             ],
             [
              0.7777777777777778,
              "#fb9f3a"
             ],
             [
              0.8888888888888888,
              "#fdca26"
             ],
             [
              1,
              "#f0f921"
             ]
            ],
            "type": "heatmapgl"
           }
          ],
          "histogram": [
           {
            "marker": {
             "colorbar": {
              "outlinewidth": 0,
              "ticks": ""
             }
            },
            "type": "histogram"
           }
          ],
          "histogram2d": [
           {
            "colorbar": {
             "outlinewidth": 0,
             "ticks": ""
            },
            "colorscale": [
             [
              0,
              "#0d0887"
             ],
             [
              0.1111111111111111,
              "#46039f"
             ],
             [
              0.2222222222222222,
              "#7201a8"
             ],
             [
              0.3333333333333333,
              "#9c179e"
             ],
             [
              0.4444444444444444,
              "#bd3786"
             ],
             [
              0.5555555555555556,
              "#d8576b"
             ],
             [
              0.6666666666666666,
              "#ed7953"
             ],
             [
              0.7777777777777778,
              "#fb9f3a"
             ],
             [
              0.8888888888888888,
              "#fdca26"
             ],
             [
              1,
              "#f0f921"
             ]
            ],
            "type": "histogram2d"
           }
          ],
          "histogram2dcontour": [
           {
            "colorbar": {
             "outlinewidth": 0,
             "ticks": ""
            },
            "colorscale": [
             [
              0,
              "#0d0887"
             ],
             [
              0.1111111111111111,
              "#46039f"
             ],
             [
              0.2222222222222222,
              "#7201a8"
             ],
             [
              0.3333333333333333,
              "#9c179e"
             ],
             [
              0.4444444444444444,
              "#bd3786"
             ],
             [
              0.5555555555555556,
              "#d8576b"
             ],
             [
              0.6666666666666666,
              "#ed7953"
             ],
             [
              0.7777777777777778,
              "#fb9f3a"
             ],
             [
              0.8888888888888888,
              "#fdca26"
             ],
             [
              1,
              "#f0f921"
             ]
            ],
            "type": "histogram2dcontour"
           }
          ],
          "mesh3d": [
           {
            "colorbar": {
             "outlinewidth": 0,
             "ticks": ""
            },
            "type": "mesh3d"
           }
          ],
          "parcoords": [
           {
            "line": {
             "colorbar": {
              "outlinewidth": 0,
              "ticks": ""
             }
            },
            "type": "parcoords"
           }
          ],
          "pie": [
           {
            "automargin": true,
            "type": "pie"
           }
          ],
          "scatter": [
           {
            "marker": {
             "colorbar": {
              "outlinewidth": 0,
              "ticks": ""
             }
            },
            "type": "scatter"
           }
          ],
          "scatter3d": [
           {
            "line": {
             "colorbar": {
              "outlinewidth": 0,
              "ticks": ""
             }
            },
            "marker": {
             "colorbar": {
              "outlinewidth": 0,
              "ticks": ""
             }
            },
            "type": "scatter3d"
           }
          ],
          "scattercarpet": [
           {
            "marker": {
             "colorbar": {
              "outlinewidth": 0,
              "ticks": ""
             }
            },
            "type": "scattercarpet"
           }
          ],
          "scattergeo": [
           {
            "marker": {
             "colorbar": {
              "outlinewidth": 0,
              "ticks": ""
             }
            },
            "type": "scattergeo"
           }
          ],
          "scattergl": [
           {
            "marker": {
             "colorbar": {
              "outlinewidth": 0,
              "ticks": ""
             }
            },
            "type": "scattergl"
           }
          ],
          "scattermapbox": [
           {
            "marker": {
             "colorbar": {
              "outlinewidth": 0,
              "ticks": ""
             }
            },
            "type": "scattermapbox"
           }
          ],
          "scatterpolar": [
           {
            "marker": {
             "colorbar": {
              "outlinewidth": 0,
              "ticks": ""
             }
            },
            "type": "scatterpolar"
           }
          ],
          "scatterpolargl": [
           {
            "marker": {
             "colorbar": {
              "outlinewidth": 0,
              "ticks": ""
             }
            },
            "type": "scatterpolargl"
           }
          ],
          "scatterternary": [
           {
            "marker": {
             "colorbar": {
              "outlinewidth": 0,
              "ticks": ""
             }
            },
            "type": "scatterternary"
           }
          ],
          "surface": [
           {
            "colorbar": {
             "outlinewidth": 0,
             "ticks": ""
            },
            "colorscale": [
             [
              0,
              "#0d0887"
             ],
             [
              0.1111111111111111,
              "#46039f"
             ],
             [
              0.2222222222222222,
              "#7201a8"
             ],
             [
              0.3333333333333333,
              "#9c179e"
             ],
             [
              0.4444444444444444,
              "#bd3786"
             ],
             [
              0.5555555555555556,
              "#d8576b"
             ],
             [
              0.6666666666666666,
              "#ed7953"
             ],
             [
              0.7777777777777778,
              "#fb9f3a"
             ],
             [
              0.8888888888888888,
              "#fdca26"
             ],
             [
              1,
              "#f0f921"
             ]
            ],
            "type": "surface"
           }
          ],
          "table": [
           {
            "cells": {
             "fill": {
              "color": "#EBF0F8"
             },
             "line": {
              "color": "white"
             }
            },
            "header": {
             "fill": {
              "color": "#C8D4E3"
             },
             "line": {
              "color": "white"
             }
            },
            "type": "table"
           }
          ]
         },
         "layout": {
          "annotationdefaults": {
           "arrowcolor": "#2a3f5f",
           "arrowhead": 0,
           "arrowwidth": 1
          },
          "coloraxis": {
           "colorbar": {
            "outlinewidth": 0,
            "ticks": ""
           }
          },
          "colorscale": {
           "diverging": [
            [
             0,
             "#8e0152"
            ],
            [
             0.1,
             "#c51b7d"
            ],
            [
             0.2,
             "#de77ae"
            ],
            [
             0.3,
             "#f1b6da"
            ],
            [
             0.4,
             "#fde0ef"
            ],
            [
             0.5,
             "#f7f7f7"
            ],
            [
             0.6,
             "#e6f5d0"
            ],
            [
             0.7,
             "#b8e186"
            ],
            [
             0.8,
             "#7fbc41"
            ],
            [
             0.9,
             "#4d9221"
            ],
            [
             1,
             "#276419"
            ]
           ],
           "sequential": [
            [
             0,
             "#0d0887"
            ],
            [
             0.1111111111111111,
             "#46039f"
            ],
            [
             0.2222222222222222,
             "#7201a8"
            ],
            [
             0.3333333333333333,
             "#9c179e"
            ],
            [
             0.4444444444444444,
             "#bd3786"
            ],
            [
             0.5555555555555556,
             "#d8576b"
            ],
            [
             0.6666666666666666,
             "#ed7953"
            ],
            [
             0.7777777777777778,
             "#fb9f3a"
            ],
            [
             0.8888888888888888,
             "#fdca26"
            ],
            [
             1,
             "#f0f921"
            ]
           ],
           "sequentialminus": [
            [
             0,
             "#0d0887"
            ],
            [
             0.1111111111111111,
             "#46039f"
            ],
            [
             0.2222222222222222,
             "#7201a8"
            ],
            [
             0.3333333333333333,
             "#9c179e"
            ],
            [
             0.4444444444444444,
             "#bd3786"
            ],
            [
             0.5555555555555556,
             "#d8576b"
            ],
            [
             0.6666666666666666,
             "#ed7953"
            ],
            [
             0.7777777777777778,
             "#fb9f3a"
            ],
            [
             0.8888888888888888,
             "#fdca26"
            ],
            [
             1,
             "#f0f921"
            ]
           ]
          },
          "colorway": [
           "#636efa",
           "#EF553B",
           "#00cc96",
           "#ab63fa",
           "#FFA15A",
           "#19d3f3",
           "#FF6692",
           "#B6E880",
           "#FF97FF",
           "#FECB52"
          ],
          "font": {
           "color": "#2a3f5f"
          },
          "geo": {
           "bgcolor": "white",
           "lakecolor": "white",
           "landcolor": "#E5ECF6",
           "showlakes": true,
           "showland": true,
           "subunitcolor": "white"
          },
          "hoverlabel": {
           "align": "left"
          },
          "hovermode": "closest",
          "mapbox": {
           "style": "light"
          },
          "paper_bgcolor": "white",
          "plot_bgcolor": "#E5ECF6",
          "polar": {
           "angularaxis": {
            "gridcolor": "white",
            "linecolor": "white",
            "ticks": ""
           },
           "bgcolor": "#E5ECF6",
           "radialaxis": {
            "gridcolor": "white",
            "linecolor": "white",
            "ticks": ""
           }
          },
          "scene": {
           "xaxis": {
            "backgroundcolor": "#E5ECF6",
            "gridcolor": "white",
            "gridwidth": 2,
            "linecolor": "white",
            "showbackground": true,
            "ticks": "",
            "zerolinecolor": "white"
           },
           "yaxis": {
            "backgroundcolor": "#E5ECF6",
            "gridcolor": "white",
            "gridwidth": 2,
            "linecolor": "white",
            "showbackground": true,
            "ticks": "",
            "zerolinecolor": "white"
           },
           "zaxis": {
            "backgroundcolor": "#E5ECF6",
            "gridcolor": "white",
            "gridwidth": 2,
            "linecolor": "white",
            "showbackground": true,
            "ticks": "",
            "zerolinecolor": "white"
           }
          },
          "shapedefaults": {
           "line": {
            "color": "#2a3f5f"
           }
          },
          "ternary": {
           "aaxis": {
            "gridcolor": "white",
            "linecolor": "white",
            "ticks": ""
           },
           "baxis": {
            "gridcolor": "white",
            "linecolor": "white",
            "ticks": ""
           },
           "bgcolor": "#E5ECF6",
           "caxis": {
            "gridcolor": "white",
            "linecolor": "white",
            "ticks": ""
           }
          },
          "title": {
           "x": 0.05
          },
          "xaxis": {
           "automargin": true,
           "gridcolor": "white",
           "linecolor": "white",
           "ticks": "",
           "title": {
            "standoff": 15
           },
           "zerolinecolor": "white",
           "zerolinewidth": 2
          },
          "yaxis": {
           "automargin": true,
           "gridcolor": "white",
           "linecolor": "white",
           "ticks": "",
           "title": {
            "standoff": 15
           },
           "zerolinecolor": "white",
           "zerolinewidth": 2
          }
         }
        },
        "xaxis": {
         "anchor": "y",
         "domain": [
          0,
          1
         ],
         "title": {
          "text": "Count"
         }
        },
        "yaxis": {
         "anchor": "x",
         "domain": [
          0,
          1
         ],
         "title": {
          "text": "Avg. Rating"
         }
        }
       }
      },
      "text/html": [
       "<div>\n",
       "        \n",
       "        \n",
       "            <div id=\"14cbe1a5-9377-426f-b06b-3fa500dbf4b4\" class=\"plotly-graph-div\" style=\"height:525px; width:100%;\"></div>\n",
       "            <script type=\"text/javascript\">\n",
       "                require([\"plotly\"], function(Plotly) {\n",
       "                    window.PLOTLYENV=window.PLOTLYENV || {};\n",
       "                    \n",
       "                if (document.getElementById(\"14cbe1a5-9377-426f-b06b-3fa500dbf4b4\")) {\n",
       "                    Plotly.newPlot(\n",
       "                        '14cbe1a5-9377-426f-b06b-3fa500dbf4b4',\n",
       "                        [{\"hoverlabel\": {\"namelength\": 0}, \"hovertemplate\": \"<b>%{hovertext}</b><br><br>Count=%{x}<br>Avg. Rating=%{y}\", \"hovertext\": [\"Aaron Hutcherson\", \"Abdul Tabini\", \"Abigail Gullo\", \"Abigail Gullo, Sobou\", \"Adam Nagourney\", \"Alain Ducasse\", \"Aleksandra Crapanzano\", \"Alex Ward\", \"Alex Witchel\", \"Alexa Weibel\", \"Ali Slagle\", \"Alice Hart\", \"Alison Roman\", \"Alissa J. Rubin\", \"Aljean Harmetz\", \"Amanda Cohen\", \"Amanda Hesser\", \"Amy M. Spindler\", \"Andrea Strong\", \"Andrew Scrivani\", \"Andr\\u00e9 Soltner\", \"Angela Dimayuga\", \"Ann Hodgman\", \"Ann Seranne\", \"Anna Klinger\", \"Anna Winger\", \"Anne Mendelson\", \"Anne Semmes\", \"Anne Severson\", \"Annemarie Conte\", \"April Bloomfield\", \"Barbara Gamarekian\", \"Barbara Kafka\", \"Barbara Whitaker\", \"Becky Hughes\", \"Besha Rodell\", \"Betsy Andrews\", \"Betty Fussell\", \"Bill Yosses\", \"Bob Morris\", \"Brett Anderson\", \"Brett Martin\", \"Brigid Washington\", \"Bruce Cost\", \"Bryan Miller\", \"Bryan Miller And Pierre Franey\", \"C.J. Chivers\", \"Catherine C. Robbins\", \"Catherine Saint Louis\", \"Cathy Barrow\", \"Cathy Horyn\", \"Celia Barbour\", \"Chad Robertson\", \"Charlie Palmer\", \"Charlotte Druckman\", \"Chloe Coscarelli\", \"Chris Buckley\", \"Christine Muhlke\", \"Christopher Idone\", \"Clare de Boer\", \"Claudia Fleming\", \"Claudia Rowe\", \"Clay Risen\", \"Colette Rossant\", \"Colu Henry\", \"Corby Kummer\", \"Corinne Trang\", \"Craig Claiborne\", \"Craig Claiborne And Pierre Franey\", \"Craig Claiborne With Pierre Franey\", \"Craig Claiborne and Pierre Franey\", \"Craig Seligman\", \"Curtis Sittenfeld\", \"Daisann Mclane\", \"Dana Bowen\", \"Daniel Patterson\", \"Daniela Galarza\", \"Danny Bowien\", \"Daryl Royster Alexander\", \"Dave Kim\", \"David Edelstein\", \"David Firestone And Susan Brenna\", \"David Firestone and Susan Brenna\", \"David Karp\", \"David Latt\", \"David Leite\", \"David Mas Masumoto\", \"David Sax\", \"David Tanis\", \"Dawn Lerman\", \"Dawn Perry\", \"Debbie Lee\", \"Deborah Gardner\", \"Deborah Vankin\", \"Dena Kleiman\", \"Denise Landis\", \"Densie Webb\", \"Donna St. George\", \"Dorie Greenspan\", \"Dorothy Allison\", \"Dwight Garner\", \"Ed Levine\", \"Edward Schumacher\", \"Eileen Yin-Fei Lo\", \"Elaine F. Weiss\", \"Elaine Louie\", \"Elaine Sciolino\", \"Elisabetta Povoledo\", \"Elizabeth Kolbert\", \"Ellen Ann Fentress\", \"Emily Fleischaker\", \"Emily Weinstein\", \"Enid Nemy\", \"Eric Asimov\", \"Eric N. Berg\", \"Erin Jeanne McDowell\", \"Erin McDowell\", \"Eugenia Bone\", \"Fergus Henderson\", \"Florence Fabricant\", \"Floyd Cardoz\", \"Fran Schumer\", \"Francis Lam\", \"Francis lam\", \"Frank Bruni\", \"Frank Caiafa\", \"Frank J. Prial\", \"Frank Stitt\", \"Fred Ferretti\", \"Fuchsia Dunlop\", \"Gabriella Mlynarczyk\", \"Gabrielle Hamilton\", \"Garrett Hongo\", \"Gary Shteyngart\", \"Gena Hamshaw\", \"Genevieve Ko\", \"Georgia Wong\", \"Ginia Bellafante\", \"Gish Jen\", \"Glenn Collins\", \"Gloria Smith\", \"Grant Melton\", \"Gustav Niebuhr\", \"Guy Savoy\", \"Hannah Kirshner\", \"Harold Mcgee\", \"Harvey Araton\", \"Henry Alford\", \"Hilary De Vries\", \"Horacio Silva\", \"Ian Austen\", \"Ian Fisher\", \"Indrani Sen\", \"Isa Chandra Moskowitz\", \"Isabel Costa\", \"J. J. Goode\", \"J. Kenji L\\u00f3pez-Alt\", \"Jacques Pepin\", \"Jacques P\\u00e9pin\", \"Jan Warren\", \"Jane Black\", \"Jane E. Brody\", \"Jane Garmey\", \"Jane Nickerson\", \"Jane Sigal\", \"Janet Bukovinsky\", \"Janna Gur\", \"Jason Epstein\", \"Jean Anderson\", \"Jean F. Tibbetts\", \"Jeannette Ferrary\", \"Jeff Gordinier\", \"Jeff Schwarz And Greg Kessler\", \"Jeffrey Yoskowitz\", \"Jen Schwertman\", \"Jenna Rycroft\", \"Jennifer Romolini\", \"Jennifer Steinhauer\", \"Jennifer Steinhauer And Helene Cooper\", \"Jennifer Stoffel\", \"Jerrelle Guy\", \"Jessamyn Rodriguez\", \"Jessica B. Harris\", \"Jhumpa Lahiri\", \"Jill P. Capuzzo\", \"Jill Santopietro\", \"Jim Meehan\", \"Jim Shahin\", \"Joan Acocella\", \"Joan Cook\", \"Joan Nathan\", \"Joanna Pruess\", \"Joe Drape\", \"Johanna Bond\", \"John Rockwell\", \"John T. Edge\", \"John Willoughby\", \"John Willoughby And Chris Schlesinger\", \"John Willoughby and Chris Schlesinger\", \"Jon Nordheimer\", \"Jonathan Miles\", \"Jonathan Reynolds\", \"Jonathan Wells\", \"Jordan Mackay\", \"Joseph Lelyveld\", \"Joyce Chang\", \"Judith Liebman\", \"Julia Child\", \"Julia Moskin\", \"Julia Moskin And Kim Severson\", \"Julia Moskin And Melissa Clark\", \"Julia O'Malley\", \"Julia Reed\", \"Julia Sherman\", \"Julia Turshen\", \"Julie Powell\", \"Julie Sahni\", \"Julie Scelfo\", \"KIm Severson\", \"Karen Baar\", \"Karen Barrow\", \"Karen Olsson\", \"Kathleen Beckett-Young\", \"Kay Chun\", \"Kay Rentschler\", \"Keith Dixon\", \"Ken Gross\", \"Ken Hom\", \"Kent Black\", \"Kevin Pang\", \"Kiera Wright-Ruiz\", \"Kim Severson\", \"Klancy Miller\", \"Korsha Wilson\", \"Kristen Kish\", \"Krysten Chambrot\", \"Kurt Gutenbrunner\", \"Laura Anderson\", \"Laura Cunningham\", \"Laura M. Holson\", \"Laurie Woolever\", \"Lesley T\\u00e9llez\", \"Leslie Bruni\", \"Leslie Kaufman\", \"Leslie Land\", \"Lidey Heuck\", \"Ligaya Mishan\", \"Linda Richardson\", \"Linda Wells\", \"Linda West Eckhardt\", \"Liz Logan\", \"Liz Smith\", \"Lorna J. Sass\", \"Lucian K. Truscott IV\", \"Madhur Jaffrey\", \"Maggie Barrett\", \"Maida Heatter\", \"Malcolm Mclaren\", \"Marcia Adams\", \"Marcy Goldman-Posluns\", \"Margaux Laskey\", \"Maria Newman\", \"Marialisa Calta\", \"Marian Burros\", \"Mario Batali\", \"Mark Bittman\", \"Mark Bittman \", \"Mark Bittman And Sam Sifton\", \"Mark Bittman and Sam Sifton\", \"Mark Militello\", \"Marlena Spieler\", \"Marnie Hanel\", \"Martha Meadows\", \"Martha Rose Shulman\", \"Matt Lee And Ted Lee\", \"Matt Lee and Ted Lee\", \"Maura Egan\", \"Mayukh Sen\", \"Melissa Clark\", \"Melissa Clark And Steven Raichlen\", \"Melissa Fernandez\", \"Meredith Etherington-Smith\", \"Merrill Stubbs\", \"Michael Boodro\", \"Michael David\", \"Michael Moss\", \"Michael Ruhlman\", \"Michael Tortorello\", \"Michael Winerip\", \"Michele Evans\", \"Micheline Maynard\", \"Michelle Higgins\", \"Michelle Slatalla\", \"Mike Emanuel\", \"Mimi Sheraton\", \"Mireya Navarro\", \"Mitchell Owens\", \"Moira Hodgson\", \"Molly O'Neill\", \"Monica Segovia-Welsh\", \"Moria Hodgson\", \"Mrs. Melillo\", \"Mura Egan\", \"Nancy Arum\", \"Nancy Harmon Jenkins\", \"Natalie Pattillo\", \"Nathaniel C. Nash\", \"Naz Deravian\", \"Nick Fox\", \"Nicole Mones\", \"Nicole Taylor\", \"Nigella Lawson\", \"Nina Simonds\", \"Nobu Matsuhisa\", \"None\", \"Nora Ephron\", \"Oliver Schwaner-Albright\", \"Oliver Strand\", \"Olivia Snaije\", \"Pableaux Johnson\", \"Pam Belluck\", \"Patricia Leigh Brown\", \"Patricia Wells\", \"Patrick Farrell\", \"Paul Greenberg\", \"Paul Prudhomme\", \"Paula Disbrowe\", \"Paula Wolfert\", \"Pete Wells\", \"Peter Applebome\", \"Peter Feibleman\", \"Peter Mcquaid\", \"Peter Meehan\", \"Pierre Franey\", \"Pilar Viladas\", \"Priya Krishna\", \"Priya Krishna and Ritu Krishna\", \"R. W. Apple Jr.\", \"Rachel Donadio\", \"Rachel L. Swarns\", \"Rachel Wharton\", \"Randy Kennedy\", \"Rebekah Peppler\", \"Regina Schrambling\", \"Rena Coyle\", \"Richard Flaste\", \"Richard Flaste And Pierre Franey\", \"Rick A. Martinez\", \"Rick Marin\", \"Robert Clark\", \"Robert Farrar Capon\", \"Robert Hughes\", \"Robert Simonson\", \"Robert Trachtenberg\", \"Robert Willey\", \"Robin Finn\", \"Ron Alexander\", \"Ron Lieber\", \"Rosie Schaap\", \"Roxanne Fequiere\", \"Roy Blount Jr.\", \"Rozanne Gold\", \"Ruth Reichl\", \"S. A. Belzer\", \"Sam Kass\", \"Sam SIfton\", \"Sam Sifton\", \"Sam Sifton And Mark Bittman\", \"Samantha Seneviratne\", \"Samin Nosrat\", \"Sara Ann Friedman\", \"Sara Bonisteel\", \"Sara Dickerman\", \"Sara Rimer\", \"Sarah Belk\", \"Sarah Copeland\", \"Sarah DiGregorio\", \"Sarah Digregorio\", \"Sarah Jampel\", \"Sean Sherman\", \"Shizuo Tsuji\", \"Sophie Brickman\", \"Sother Teague\", \"Stephen Kinzer\", \"Steve Friedman\", \"Steven Kurutz\", \"Steven Raichlen\", \"Steven Stern\", \"Stuart Brioza And Nicole Krasinksi\", \"Sue Li\", \"Susan Campos\", \"Susan Ferraro\", \"Susan Gubar\", \"Susan Guerrero\", \"Susan Herrmann Loomis\", \"Susan Spungen\", \"Susanna Howe\", \"Suzanne Hamlin\", \"Suzanne Lenzer\", \"THE NEW YORK TIMES\", \"Tamar Adler\", \"Tara Parker-Pope\", \"Tejal Rao\", \"The New York TImes\", \"The New York Times\", \"Thomas Vinciguerra\", \"Tim Weiner\", \"Timothy Egan\", \"Toby Cecchini\", \"Tom Colicchio\", \"Tony Conigliaro\", \"Trish Hall\", \"Vegnews Magazine\", \"Virginia Heffernan\", \"William Grimes\", \"William L. Hamilton\", \"William Norwich\", \"Willy Staley\", \"Wolfgang Puck\", \"Yanick Rice Lamb\", \"Yewande Komolafe\", \"Yossy Arefi\", \"Yotam Ottolenghi\"], \"legendgroup\": \"\", \"marker\": {\"color\": \"#636efa\", \"symbol\": \"circle\"}, \"mode\": \"markers\", \"name\": \"\", \"showlegend\": false, \"type\": \"scatter\", \"x\": [3, 1, 1, 1, 4, 1, 3, 9, 56, 49, 103, 11, 134, 2, 2, 4, 249, 3, 1, 1, 1, 10, 1, 1, 1, 2, 1, 1, 1, 3, 1, 1, 71, 2, 1, 1, 3, 5, 1, 2, 6, 1, 3, 2, 57, 22, 1, 1, 2, 16, 3, 9, 1, 1, 5, 2, 1, 47, 6, 8, 2, 1, 1, 3, 63, 4, 4, 159, 152, 5, 5, 1, 1, 10, 9, 13, 8, 2, 1, 1, 1, 2, 1, 1, 8, 4, 2, 1, 571, 6, 3, 1, 2, 1, 12, 4, 3, 6, 44, 1, 1, 1, 0, 5, 1, 106, 7, 1, 1, 1, 6, 39, 6, 23, 1, 54, 1, 4, 1, 842, 1, 3, 42, 1, 13, 1, 5, 3, 3, 1, 3, 53, 1, 2, 2, 28, 1, 2, 3, 12, 1, 1, 2, 1, 7, 10, 2, 2, 1, 1, 1, 5, 2, 1, 2, 1, 10, 122, 1, 1, 7, 5, 2, 1, 17, 1, 1, 22, 1, 1, 2, 51, 9, 1, 1, 1, 1, 34, 6, 1, 8, 1, 1, 2, 1, 8, 20, 1, 1, 1, 123, 11, 3, 1, 2, 8, 39, 17, 5, 1, 14, 77, 1, 1, 0, 2, 1, 3, 365, 2, 3, 2, 58, 3, 1, 7, 7, 1, 1, 1, 3, 1, 3, 46, 14, 3, 1, 4, 1, 1, 15, 149, 4, 1, 1, 3, 2, 1, 2, 3, 2, 1, 1, 3, 5, 32, 17, 2, 13, 3, 2, 1, 1, 2, 3, 1, 1, 1, 3, 1, 30, 3, 16, 464, 1, 1071, 1, 17, 1, 1, 1, 1, 1, 1601, 54, 1, 5, 6, 1122, 2, 2, 4, 6, 1, 1, 1, 3, 1, 1, 2, 3, 1, 2, 2, 9, 1, 2, 297, 623, 1, 4, 1, 1, 2, 74, 2, 1, 2, 4, 2, 2, 142, 7, 2, 11, 1, 8, 13, 2, 3, 1, 2, 22, 2, 3, 2, 2, 3, 40, 1, 1, 3, 2, 505, 4, 18, 1, 17, 1, 2, 4, 2, 10, 31, 3, 3, 3, 3, 1, 2, 64, 1, 89, 3, 7, 1, 1, 4, 130, 1, 1, 6, 1, 1, 1, 1, 398, 1, 68, 70, 2, 28, 12, 4, 5, 35, 55, 1, 18, 10, 2, 2, 1, 3, 1, 1, 36, 11, 1, 16, 2, 1, 1, 3, 4, 25, 1, 30, 8, 1, 22, 156, 104, 1, 126, 1, 1, 2, 22, 4, 1, 31, 1, 1, 22, 16, 8, 1, 1, 2, 25, 35, 53], \"xaxis\": \"x\", \"y\": [4.0, 5.0, 5.0, 5.0, 4.5, 5.0, 4.333333333333333, 3.6666666666666665, 4.410714285714286, 4.081632653061225, 4.077669902912621, 4.363636363636363, 4.3283582089552235, 4.0, 4.5, 4.5, 4.305220883534137, 4.333333333333333, 4.0, 5.0, 5.0, 4.2, 5.0, 4.0, 4.0, 4.0, 5.0, 4.0, 5.0, 4.0, 5.0, 4.0, 3.9014084507042255, 4.5, 4.0, 4.0, 4.0, 4.2, 5.0, 3.5, 4.166666666666667, 4.0, 4.333333333333333, 4.0, 4.157894736842105, 4.2727272727272725, 4.0, 4.0, 4.5, 4.625, 4.666666666666667, 4.666666666666667, 4.0, 3.0, 3.8, 5.0, 4.0, 4.212765957446808, 4.166666666666667, 4.125, 5.0, 4.0, 5.0, 3.6666666666666665, 4.317460317460317, 3.75, 4.25, 4.163522012578617, 4.125, 4.4, 4.0, 5.0, 4.0, 4.3, 4.111111111111111, 4.230769230769231, 3.875, 4.5, 3.0, 4.0, 5.0, 4.0, 4.0, 4.0, 4.125, 4.25, 4.0, 4.0, 4.551663747810858, 4.166666666666667, 4.0, 5.0, 4.0, 3.0, 4.166666666666667, 3.75, 4.0, 4.166666666666667, 4.090909090909091, 4.0, 4.0, 4.0, 4.0, 4.4, 4.0, 4.320754716981132, 4.571428571428571, 4.0, 3.0, 4.0, 4.166666666666667, 4.282051282051282, 4.0, 4.304347826086956, 4.0, 4.12962962962963, 4.0, 4.5, 5.0, 4.283847980997625, 4.0, 4.0, 4.309523809523809, 4.0, 4.384615384615385, 5.0, 4.0, 4.0, 4.0, 5.0, 5.0, 4.113207547169812, 4.0, 4.5, 4.0, 4.142857142857143, 4.0, 4.0, 4.333333333333333, 4.416666666666667, 5.0, 4.0, 4.5, 4.0, 4.142857142857143, 4.0, 5.0, 4.5, 5.0, 5.0, 5.0, 4.2, 4.5, 4.0, 4.0, 5.0, 4.1, 4.327868852459017, 4.0, 4.0, 3.857142857142857, 4.2, 5.0, 4.0, 4.294117647058823, 4.0, 4.0, 4.181818181818182, 4.0, 4.0, 4.0, 4.450980392156863, 4.333333333333333, 4.0, 4.0, 5.0, 3.0, 4.470588235294118, 4.5, 4.0, 4.0, 4.0, 4.0, 4.5, 4.0, 4.375, 4.65, 4.0, 5.0, 3.0, 4.219512195121951, 4.181818181818182, 4.333333333333333, 4.0, 4.0, 4.625, 4.512820512820513, 4.411764705882353, 4.6, 4.0, 4.285714285714286, 4.35064935064935, 4.0, 5.0, 5.0, 4.5, 4.0, 4.0, 4.345205479452055, 4.5, 4.666666666666667, 5.0, 4.275862068965517, 4.333333333333333, 4.0, 4.285714285714286, 4.285714285714286, 5.0, 5.0, 4.0, 4.0, 4.0, 4.333333333333333, 4.130434782608695, 4.285714285714286, 4.666666666666667, 5.0, 3.75, 4.0, 4.0, 4.133333333333334, 4.302013422818792, 3.75, 4.0, 4.0, 4.0, 5.0, 5.0, 3.5, 4.0, 5.0, 4.0, 4.0, 4.0, 4.4, 4.25, 4.352941176470588, 5.0, 4.230769230769231, 4.666666666666667, 4.0, 4.0, 4.0, 5.0, 4.0, 5.0, 5.0, 4.0, 4.0, 5.0, 4.166666666666667, 4.0, 4.3125, 4.064655172413793, 5.0, 4.411764705882353, 4.0, 4.411764705882353, 5.0, 5.0, 5.0, 4.0, 5.0, 4.468457214241099, 4.166666666666667, 4.0, 4.4, 4.166666666666667, 4.541889483065954, 4.5, 4.0, 4.5, 4.666666666666667, 3.0, 5.0, 4.0, 4.0, 4.0, 5.0, 3.5, 4.666666666666667, 5.0, 4.0, 4.5, 3.888888888888889, 5.0, 5.0, 4.1447811447811445, 4.223113964686998, 5.0, 3.75, 5.0, 4.0, 4.0, 4.22972972972973, 4.0, 4.0, 4.0, 4.25, 4.0, 4.0, 4.253521126760563, 4.0, 4.0, 4.181818181818182, 5.0, 4.625, 4.3076923076923075, 5.0, 4.0, 4.0, 4.0, 4.2272727272727275, 4.0, 4.0, 4.5, 5.0, 4.666666666666667, 4.5, 4.0, 5.0, 4.0, 4.0, 4.293069306930693, 3.75, 4.0, 4.0, 4.294117647058823, 5.0, 5.0, 4.0, 4.5, 4.1, 4.290322580645161, 4.0, 4.0, 4.333333333333333, 4.0, 4.0, 3.5, 4.3125, 4.0, 4.449438202247191, 4.333333333333333, 4.714285714285714, 5.0, 5.0, 4.0, 4.292307692307692, 4.0, 4.0, 4.0, 5.0, 4.0, 4.0, 4.0, 4.424623115577889, 4.0, 4.205882352941177, 4.3, 4.5, 4.178571428571429, 4.416666666666667, 4.25, 4.4, 4.228571428571429, 4.1454545454545455, 5.0, 4.333333333333333, 4.3, 4.5, 4.0, 4.0, 4.0, 4.0, 4.0, 4.361111111111111, 4.2727272727272725, 4.0, 4.25, 5.0, 4.0, 5.0, 4.333333333333333, 4.0, 4.12, 4.0, 3.933333333333333, 4.5, 4.0, 4.454545454545454, 4.262820512820513, 4.115384615384615, 5.0, 4.301587301587301, 4.0, 4.0, 4.0, 4.590909090909091, 4.25, 4.0, 4.0, 4.0, 5.0, 4.318181818181818, 4.0, 4.0, 5.0, 4.0, 4.0, 4.04, 4.457142857142857, 4.09433962264151], \"yaxis\": \"y\"}],\n",
       "                        {\"legend\": {\"tracegroupgap\": 0}, \"margin\": {\"t\": 60}, \"template\": {\"data\": {\"bar\": [{\"error_x\": {\"color\": \"#2a3f5f\"}, \"error_y\": {\"color\": \"#2a3f5f\"}, \"marker\": {\"line\": {\"color\": \"#E5ECF6\", \"width\": 0.5}}, \"type\": \"bar\"}], \"barpolar\": [{\"marker\": {\"line\": {\"color\": \"#E5ECF6\", \"width\": 0.5}}, \"type\": \"barpolar\"}], \"carpet\": [{\"aaxis\": {\"endlinecolor\": \"#2a3f5f\", \"gridcolor\": \"white\", \"linecolor\": \"white\", \"minorgridcolor\": \"white\", \"startlinecolor\": \"#2a3f5f\"}, \"baxis\": {\"endlinecolor\": \"#2a3f5f\", \"gridcolor\": \"white\", \"linecolor\": \"white\", \"minorgridcolor\": \"white\", \"startlinecolor\": \"#2a3f5f\"}, \"type\": \"carpet\"}], \"choropleth\": [{\"colorbar\": {\"outlinewidth\": 0, \"ticks\": \"\"}, \"type\": \"choropleth\"}], \"contour\": [{\"colorbar\": {\"outlinewidth\": 0, \"ticks\": \"\"}, \"colorscale\": [[0.0, \"#0d0887\"], [0.1111111111111111, \"#46039f\"], [0.2222222222222222, \"#7201a8\"], [0.3333333333333333, \"#9c179e\"], [0.4444444444444444, \"#bd3786\"], [0.5555555555555556, \"#d8576b\"], [0.6666666666666666, \"#ed7953\"], [0.7777777777777778, \"#fb9f3a\"], [0.8888888888888888, \"#fdca26\"], [1.0, \"#f0f921\"]], \"type\": \"contour\"}], \"contourcarpet\": [{\"colorbar\": {\"outlinewidth\": 0, \"ticks\": \"\"}, \"type\": \"contourcarpet\"}], \"heatmap\": [{\"colorbar\": {\"outlinewidth\": 0, \"ticks\": \"\"}, \"colorscale\": [[0.0, \"#0d0887\"], [0.1111111111111111, \"#46039f\"], [0.2222222222222222, \"#7201a8\"], [0.3333333333333333, \"#9c179e\"], [0.4444444444444444, \"#bd3786\"], [0.5555555555555556, \"#d8576b\"], [0.6666666666666666, \"#ed7953\"], [0.7777777777777778, \"#fb9f3a\"], [0.8888888888888888, \"#fdca26\"], [1.0, \"#f0f921\"]], \"type\": \"heatmap\"}], \"heatmapgl\": [{\"colorbar\": {\"outlinewidth\": 0, \"ticks\": \"\"}, \"colorscale\": [[0.0, \"#0d0887\"], [0.1111111111111111, \"#46039f\"], [0.2222222222222222, \"#7201a8\"], [0.3333333333333333, \"#9c179e\"], [0.4444444444444444, \"#bd3786\"], [0.5555555555555556, \"#d8576b\"], [0.6666666666666666, \"#ed7953\"], [0.7777777777777778, \"#fb9f3a\"], [0.8888888888888888, \"#fdca26\"], [1.0, \"#f0f921\"]], \"type\": \"heatmapgl\"}], \"histogram\": [{\"marker\": {\"colorbar\": {\"outlinewidth\": 0, \"ticks\": \"\"}}, \"type\": \"histogram\"}], \"histogram2d\": [{\"colorbar\": {\"outlinewidth\": 0, \"ticks\": \"\"}, \"colorscale\": [[0.0, \"#0d0887\"], [0.1111111111111111, \"#46039f\"], [0.2222222222222222, \"#7201a8\"], [0.3333333333333333, \"#9c179e\"], [0.4444444444444444, \"#bd3786\"], [0.5555555555555556, \"#d8576b\"], [0.6666666666666666, \"#ed7953\"], [0.7777777777777778, \"#fb9f3a\"], [0.8888888888888888, \"#fdca26\"], [1.0, \"#f0f921\"]], \"type\": \"histogram2d\"}], \"histogram2dcontour\": [{\"colorbar\": {\"outlinewidth\": 0, \"ticks\": \"\"}, \"colorscale\": [[0.0, \"#0d0887\"], [0.1111111111111111, \"#46039f\"], [0.2222222222222222, \"#7201a8\"], [0.3333333333333333, \"#9c179e\"], [0.4444444444444444, \"#bd3786\"], [0.5555555555555556, \"#d8576b\"], [0.6666666666666666, \"#ed7953\"], [0.7777777777777778, \"#fb9f3a\"], [0.8888888888888888, \"#fdca26\"], [1.0, \"#f0f921\"]], \"type\": \"histogram2dcontour\"}], \"mesh3d\": [{\"colorbar\": {\"outlinewidth\": 0, \"ticks\": \"\"}, \"type\": \"mesh3d\"}], \"parcoords\": [{\"line\": {\"colorbar\": {\"outlinewidth\": 0, \"ticks\": \"\"}}, \"type\": \"parcoords\"}], \"pie\": [{\"automargin\": true, \"type\": \"pie\"}], \"scatter\": [{\"marker\": {\"colorbar\": {\"outlinewidth\": 0, \"ticks\": \"\"}}, \"type\": \"scatter\"}], \"scatter3d\": [{\"line\": {\"colorbar\": {\"outlinewidth\": 0, \"ticks\": \"\"}}, \"marker\": {\"colorbar\": {\"outlinewidth\": 0, \"ticks\": \"\"}}, \"type\": \"scatter3d\"}], \"scattercarpet\": [{\"marker\": {\"colorbar\": {\"outlinewidth\": 0, \"ticks\": \"\"}}, \"type\": \"scattercarpet\"}], \"scattergeo\": [{\"marker\": {\"colorbar\": {\"outlinewidth\": 0, \"ticks\": \"\"}}, \"type\": \"scattergeo\"}], \"scattergl\": [{\"marker\": {\"colorbar\": {\"outlinewidth\": 0, \"ticks\": \"\"}}, \"type\": \"scattergl\"}], \"scattermapbox\": [{\"marker\": {\"colorbar\": {\"outlinewidth\": 0, \"ticks\": \"\"}}, \"type\": \"scattermapbox\"}], \"scatterpolar\": [{\"marker\": {\"colorbar\": {\"outlinewidth\": 0, \"ticks\": \"\"}}, \"type\": \"scatterpolar\"}], \"scatterpolargl\": [{\"marker\": {\"colorbar\": {\"outlinewidth\": 0, \"ticks\": \"\"}}, \"type\": \"scatterpolargl\"}], \"scatterternary\": [{\"marker\": {\"colorbar\": {\"outlinewidth\": 0, \"ticks\": \"\"}}, \"type\": \"scatterternary\"}], \"surface\": [{\"colorbar\": {\"outlinewidth\": 0, \"ticks\": \"\"}, \"colorscale\": [[0.0, \"#0d0887\"], [0.1111111111111111, \"#46039f\"], [0.2222222222222222, \"#7201a8\"], [0.3333333333333333, \"#9c179e\"], [0.4444444444444444, \"#bd3786\"], [0.5555555555555556, \"#d8576b\"], [0.6666666666666666, \"#ed7953\"], [0.7777777777777778, \"#fb9f3a\"], [0.8888888888888888, \"#fdca26\"], [1.0, \"#f0f921\"]], \"type\": \"surface\"}], \"table\": [{\"cells\": {\"fill\": {\"color\": \"#EBF0F8\"}, \"line\": {\"color\": \"white\"}}, \"header\": {\"fill\": {\"color\": \"#C8D4E3\"}, \"line\": {\"color\": \"white\"}}, \"type\": \"table\"}]}, \"layout\": {\"annotationdefaults\": {\"arrowcolor\": \"#2a3f5f\", \"arrowhead\": 0, \"arrowwidth\": 1}, \"coloraxis\": {\"colorbar\": {\"outlinewidth\": 0, \"ticks\": \"\"}}, \"colorscale\": {\"diverging\": [[0, \"#8e0152\"], [0.1, \"#c51b7d\"], [0.2, \"#de77ae\"], [0.3, \"#f1b6da\"], [0.4, \"#fde0ef\"], [0.5, \"#f7f7f7\"], [0.6, \"#e6f5d0\"], [0.7, \"#b8e186\"], [0.8, \"#7fbc41\"], [0.9, \"#4d9221\"], [1, \"#276419\"]], \"sequential\": [[0.0, \"#0d0887\"], [0.1111111111111111, \"#46039f\"], [0.2222222222222222, \"#7201a8\"], [0.3333333333333333, \"#9c179e\"], [0.4444444444444444, \"#bd3786\"], [0.5555555555555556, \"#d8576b\"], [0.6666666666666666, \"#ed7953\"], [0.7777777777777778, \"#fb9f3a\"], [0.8888888888888888, \"#fdca26\"], [1.0, \"#f0f921\"]], \"sequentialminus\": [[0.0, \"#0d0887\"], [0.1111111111111111, \"#46039f\"], [0.2222222222222222, \"#7201a8\"], [0.3333333333333333, \"#9c179e\"], [0.4444444444444444, \"#bd3786\"], [0.5555555555555556, \"#d8576b\"], [0.6666666666666666, \"#ed7953\"], [0.7777777777777778, \"#fb9f3a\"], [0.8888888888888888, \"#fdca26\"], [1.0, \"#f0f921\"]]}, \"colorway\": [\"#636efa\", \"#EF553B\", \"#00cc96\", \"#ab63fa\", \"#FFA15A\", \"#19d3f3\", \"#FF6692\", \"#B6E880\", \"#FF97FF\", \"#FECB52\"], \"font\": {\"color\": \"#2a3f5f\"}, \"geo\": {\"bgcolor\": \"white\", \"lakecolor\": \"white\", \"landcolor\": \"#E5ECF6\", \"showlakes\": true, \"showland\": true, \"subunitcolor\": \"white\"}, \"hoverlabel\": {\"align\": \"left\"}, \"hovermode\": \"closest\", \"mapbox\": {\"style\": \"light\"}, \"paper_bgcolor\": \"white\", \"plot_bgcolor\": \"#E5ECF6\", \"polar\": {\"angularaxis\": {\"gridcolor\": \"white\", \"linecolor\": \"white\", \"ticks\": \"\"}, \"bgcolor\": \"#E5ECF6\", \"radialaxis\": {\"gridcolor\": \"white\", \"linecolor\": \"white\", \"ticks\": \"\"}}, \"scene\": {\"xaxis\": {\"backgroundcolor\": \"#E5ECF6\", \"gridcolor\": \"white\", \"gridwidth\": 2, \"linecolor\": \"white\", \"showbackground\": true, \"ticks\": \"\", \"zerolinecolor\": \"white\"}, \"yaxis\": {\"backgroundcolor\": \"#E5ECF6\", \"gridcolor\": \"white\", \"gridwidth\": 2, \"linecolor\": \"white\", \"showbackground\": true, \"ticks\": \"\", \"zerolinecolor\": \"white\"}, \"zaxis\": {\"backgroundcolor\": \"#E5ECF6\", \"gridcolor\": \"white\", \"gridwidth\": 2, \"linecolor\": \"white\", \"showbackground\": true, \"ticks\": \"\", \"zerolinecolor\": \"white\"}}, \"shapedefaults\": {\"line\": {\"color\": \"#2a3f5f\"}}, \"ternary\": {\"aaxis\": {\"gridcolor\": \"white\", \"linecolor\": \"white\", \"ticks\": \"\"}, \"baxis\": {\"gridcolor\": \"white\", \"linecolor\": \"white\", \"ticks\": \"\"}, \"bgcolor\": \"#E5ECF6\", \"caxis\": {\"gridcolor\": \"white\", \"linecolor\": \"white\", \"ticks\": \"\"}}, \"title\": {\"x\": 0.05}, \"xaxis\": {\"automargin\": true, \"gridcolor\": \"white\", \"linecolor\": \"white\", \"ticks\": \"\", \"title\": {\"standoff\": 15}, \"zerolinecolor\": \"white\", \"zerolinewidth\": 2}, \"yaxis\": {\"automargin\": true, \"gridcolor\": \"white\", \"linecolor\": \"white\", \"ticks\": \"\", \"title\": {\"standoff\": 15}, \"zerolinecolor\": \"white\", \"zerolinewidth\": 2}}}, \"xaxis\": {\"anchor\": \"y\", \"domain\": [0.0, 1.0], \"title\": {\"text\": \"Count\"}}, \"yaxis\": {\"anchor\": \"x\", \"domain\": [0.0, 1.0], \"title\": {\"text\": \"Avg. Rating\"}}},\n",
       "                        {\"responsive\": true}\n",
       "                    ).then(function(){\n",
       "                            \n",
       "var gd = document.getElementById('14cbe1a5-9377-426f-b06b-3fa500dbf4b4');\n",
       "var x = new MutationObserver(function (mutations, observer) {{\n",
       "        var display = window.getComputedStyle(gd).display;\n",
       "        if (!display || display === 'none') {{\n",
       "            console.log([gd, 'removed!']);\n",
       "            Plotly.purge(gd);\n",
       "            observer.disconnect();\n",
       "        }}\n",
       "}});\n",
       "\n",
       "// Listen for the removal of the full notebook cells\n",
       "var notebookContainer = gd.closest('#notebook-container');\n",
       "if (notebookContainer) {{\n",
       "    x.observe(notebookContainer, {childList: true});\n",
       "}}\n",
       "\n",
       "// Listen for the clearing of the current output cell\n",
       "var outputEl = gd.closest('.output');\n",
       "if (outputEl) {{\n",
       "    x.observe(outputEl, {childList: true});\n",
       "}}\n",
       "\n",
       "                        })\n",
       "                };\n",
       "                });\n",
       "            </script>\n",
       "        </div>"
      ]
     },
     "metadata": {},
     "output_type": "display_data"
    }
   ],
   "source": [
    "recipe_information_scatter = recipe_information.loc[recipe_information['Recipe Review Count'] > 0, :]\n",
    "recipe_by_author_scatter = recipe_information_scatter.groupby('Recipe Author').agg({'Recipe Name':'count', 'Recipe Rating': 'mean'}).reset_index().rename(columns={'Recipe Name':'Count', 'Recipe Rating':'Avg. Rating'})\n",
    "fig_scatter = px.scatter(recipe_by_author_scatter, x='Count', y='Avg. Rating', hover_name = 'Recipe Author')\n",
    "fig_scatter.show()"
   ]
  },
  {
   "cell_type": "markdown",
   "metadata": {},
   "source": [
    "Now I want to see what the most popular recipes on the site are. I'm going to sort first by rating (i.e., 5-star recipes first) and then by the number of reviews."
   ]
  },
  {
   "cell_type": "code",
   "execution_count": 29,
   "metadata": {},
   "outputs": [
    {
     "data": {
      "text/html": [
       "<div>\n",
       "<style scoped>\n",
       "    .dataframe tbody tr th:only-of-type {\n",
       "        vertical-align: middle;\n",
       "    }\n",
       "\n",
       "    .dataframe tbody tr th {\n",
       "        vertical-align: top;\n",
       "    }\n",
       "\n",
       "    .dataframe thead th {\n",
       "        text-align: right;\n",
       "    }\n",
       "</style>\n",
       "<table border=\"1\" class=\"dataframe\">\n",
       "  <thead>\n",
       "    <tr style=\"text-align: right;\">\n",
       "      <th></th>\n",
       "      <th>Recipe Name</th>\n",
       "      <th>Recipe Author</th>\n",
       "      <th>Recipe Rating</th>\n",
       "      <th>Recipe Review Count</th>\n",
       "    </tr>\n",
       "  </thead>\n",
       "  <tbody>\n",
       "    <tr>\n",
       "      <th>1056</th>\n",
       "      <td>Spiced Chickpea Stew With Coconut and Turmeric</td>\n",
       "      <td>Alison Roman</td>\n",
       "      <td>5</td>\n",
       "      <td>10503</td>\n",
       "    </tr>\n",
       "    <tr>\n",
       "      <th>7662</th>\n",
       "      <td>Red Lentil Soup With Lemon</td>\n",
       "      <td>Melissa Clark</td>\n",
       "      <td>5</td>\n",
       "      <td>10454</td>\n",
       "    </tr>\n",
       "    <tr>\n",
       "      <th>8037</th>\n",
       "      <td>Creamy Macaroni and Cheese</td>\n",
       "      <td>Julia Moskin</td>\n",
       "      <td>5</td>\n",
       "      <td>9152</td>\n",
       "    </tr>\n",
       "    <tr>\n",
       "      <th>3753</th>\n",
       "      <td>No-Knead Bread</td>\n",
       "      <td>Mark Bittman</td>\n",
       "      <td>5</td>\n",
       "      <td>8162</td>\n",
       "    </tr>\n",
       "    <tr>\n",
       "      <th>2590</th>\n",
       "      <td>Oven-Roasted Chicken Shawarma</td>\n",
       "      <td>Sam Sifton</td>\n",
       "      <td>5</td>\n",
       "      <td>7368</td>\n",
       "    </tr>\n",
       "    <tr>\n",
       "      <th>2055</th>\n",
       "      <td>Roasted Chicken Provençal</td>\n",
       "      <td>Sam Sifton</td>\n",
       "      <td>5</td>\n",
       "      <td>7364</td>\n",
       "    </tr>\n",
       "    <tr>\n",
       "      <th>4239</th>\n",
       "      <td>Marcella Hazan’s Bolognese Sauce</td>\n",
       "      <td>The New York Times</td>\n",
       "      <td>5</td>\n",
       "      <td>6636</td>\n",
       "    </tr>\n",
       "    <tr>\n",
       "      <th>8548</th>\n",
       "      <td>Old-Fashioned Beef Stew</td>\n",
       "      <td>Molly O'Neill</td>\n",
       "      <td>5</td>\n",
       "      <td>6368</td>\n",
       "    </tr>\n",
       "    <tr>\n",
       "      <th>2591</th>\n",
       "      <td>Shakshuka With Feta</td>\n",
       "      <td>Melissa Clark</td>\n",
       "      <td>5</td>\n",
       "      <td>6055</td>\n",
       "    </tr>\n",
       "    <tr>\n",
       "      <th>3085</th>\n",
       "      <td>Roasted Salmon Glazed With Brown Sugar and Mus...</td>\n",
       "      <td>Sam Sifton</td>\n",
       "      <td>5</td>\n",
       "      <td>5590</td>\n",
       "    </tr>\n",
       "    <tr>\n",
       "      <th>7601</th>\n",
       "      <td>Chocolate Chip Cookies</td>\n",
       "      <td>David Leite</td>\n",
       "      <td>5</td>\n",
       "      <td>5450</td>\n",
       "    </tr>\n",
       "    <tr>\n",
       "      <th>8605</th>\n",
       "      <td>Turkey Chili</td>\n",
       "      <td>Pierre Franey</td>\n",
       "      <td>5</td>\n",
       "      <td>5158</td>\n",
       "    </tr>\n",
       "    <tr>\n",
       "      <th>1600</th>\n",
       "      <td>Salted Chocolate Chunk Shortbread Cookies</td>\n",
       "      <td>Alison Roman</td>\n",
       "      <td>5</td>\n",
       "      <td>5135</td>\n",
       "    </tr>\n",
       "    <tr>\n",
       "      <th>3788</th>\n",
       "      <td>Roberta’s Pizza Dough</td>\n",
       "      <td>Sam Sifton</td>\n",
       "      <td>5</td>\n",
       "      <td>5053</td>\n",
       "    </tr>\n",
       "    <tr>\n",
       "      <th>2987</th>\n",
       "      <td>Sheet-Pan Chicken With Potatoes, Arugula and G...</td>\n",
       "      <td>Melissa Clark</td>\n",
       "      <td>5</td>\n",
       "      <td>5051</td>\n",
       "    </tr>\n",
       "    <tr>\n",
       "      <th>4241</th>\n",
       "      <td>Marcella Hazan’s Tomato Sauce</td>\n",
       "      <td>The New York Times</td>\n",
       "      <td>5</td>\n",
       "      <td>4712</td>\n",
       "    </tr>\n",
       "    <tr>\n",
       "      <th>8306</th>\n",
       "      <td>Katharine Hepburn’s Brownies</td>\n",
       "      <td>The New York Times</td>\n",
       "      <td>5</td>\n",
       "      <td>4648</td>\n",
       "    </tr>\n",
       "    <tr>\n",
       "      <th>3833</th>\n",
       "      <td>Rishia Zimmern’s Chicken With Shallots</td>\n",
       "      <td>Sam Sifton</td>\n",
       "      <td>5</td>\n",
       "      <td>4534</td>\n",
       "    </tr>\n",
       "    <tr>\n",
       "      <th>7794</th>\n",
       "      <td>Classic Shrimp Scampi</td>\n",
       "      <td>Melissa Clark</td>\n",
       "      <td>5</td>\n",
       "      <td>4331</td>\n",
       "    </tr>\n",
       "    <tr>\n",
       "      <th>8724</th>\n",
       "      <td>Original Plum Torte</td>\n",
       "      <td>Marian Burros</td>\n",
       "      <td>5</td>\n",
       "      <td>4309</td>\n",
       "    </tr>\n",
       "    <tr>\n",
       "      <th>674</th>\n",
       "      <td>Takeout-Style Sesame Noodles</td>\n",
       "      <td>Sam Sifton</td>\n",
       "      <td>5</td>\n",
       "      <td>4308</td>\n",
       "    </tr>\n",
       "    <tr>\n",
       "      <th>7832</th>\n",
       "      <td>Everyday Pancakes</td>\n",
       "      <td>Mark Bittman</td>\n",
       "      <td>5</td>\n",
       "      <td>4301</td>\n",
       "    </tr>\n",
       "    <tr>\n",
       "      <th>2588</th>\n",
       "      <td>Summer Pasta With Zucchini, Ricotta and Basil</td>\n",
       "      <td>David Tanis</td>\n",
       "      <td>5</td>\n",
       "      <td>4242</td>\n",
       "    </tr>\n",
       "    <tr>\n",
       "      <th>8043</th>\n",
       "      <td>Roasted Brussels Sprouts With Garlic</td>\n",
       "      <td>Mark Bittman</td>\n",
       "      <td>5</td>\n",
       "      <td>4096</td>\n",
       "    </tr>\n",
       "    <tr>\n",
       "      <th>3942</th>\n",
       "      <td>Classic Marinara Sauce</td>\n",
       "      <td>Julia Moskin</td>\n",
       "      <td>5</td>\n",
       "      <td>4056</td>\n",
       "    </tr>\n",
       "    <tr>\n",
       "      <th>12723</th>\n",
       "      <td>Dutch Baby</td>\n",
       "      <td>Florence Fabricant</td>\n",
       "      <td>5</td>\n",
       "      <td>3988</td>\n",
       "    </tr>\n",
       "    <tr>\n",
       "      <th>2737</th>\n",
       "      <td>Miso Chicken</td>\n",
       "      <td>Sam Sifton</td>\n",
       "      <td>5</td>\n",
       "      <td>3878</td>\n",
       "    </tr>\n",
       "    <tr>\n",
       "      <th>2828</th>\n",
       "      <td>Best Gazpacho</td>\n",
       "      <td>Julia Moskin</td>\n",
       "      <td>5</td>\n",
       "      <td>3874</td>\n",
       "    </tr>\n",
       "    <tr>\n",
       "      <th>8393</th>\n",
       "      <td>Lasagna</td>\n",
       "      <td>Regina Schrambling</td>\n",
       "      <td>5</td>\n",
       "      <td>3861</td>\n",
       "    </tr>\n",
       "    <tr>\n",
       "      <th>3474</th>\n",
       "      <td>Butter Chicken</td>\n",
       "      <td>Sam Sifton</td>\n",
       "      <td>5</td>\n",
       "      <td>3847</td>\n",
       "    </tr>\n",
       "    <tr>\n",
       "      <th>8455</th>\n",
       "      <td>Salmon Roasted in Butter</td>\n",
       "      <td>Mark Bittman</td>\n",
       "      <td>5</td>\n",
       "      <td>3840</td>\n",
       "    </tr>\n",
       "    <tr>\n",
       "      <th>102</th>\n",
       "      <td>Caramelized Shallot Pasta</td>\n",
       "      <td>Alison Roman</td>\n",
       "      <td>5</td>\n",
       "      <td>3817</td>\n",
       "    </tr>\n",
       "    <tr>\n",
       "      <th>4151</th>\n",
       "      <td>Garlicky Chicken With Lemon-Anchovy Sauce</td>\n",
       "      <td>Melissa Clark</td>\n",
       "      <td>5</td>\n",
       "      <td>3792</td>\n",
       "    </tr>\n",
       "    <tr>\n",
       "      <th>9737</th>\n",
       "      <td>Jordan Marsh’s Blueberry Muffins</td>\n",
       "      <td>Marian Burros</td>\n",
       "      <td>5</td>\n",
       "      <td>3731</td>\n",
       "    </tr>\n",
       "    <tr>\n",
       "      <th>3190</th>\n",
       "      <td>Dijon and Cognac Beef Stew</td>\n",
       "      <td>Regina Schrambling</td>\n",
       "      <td>5</td>\n",
       "      <td>3681</td>\n",
       "    </tr>\n",
       "    <tr>\n",
       "      <th>4970</th>\n",
       "      <td>Spaghetti Carbonara</td>\n",
       "      <td>Ian Fisher</td>\n",
       "      <td>5</td>\n",
       "      <td>3517</td>\n",
       "    </tr>\n",
       "    <tr>\n",
       "      <th>2587</th>\n",
       "      <td>Three-Cup Chicken</td>\n",
       "      <td>Sam Sifton</td>\n",
       "      <td>5</td>\n",
       "      <td>3474</td>\n",
       "    </tr>\n",
       "    <tr>\n",
       "      <th>8376</th>\n",
       "      <td>Chocolate Dump-It Cake</td>\n",
       "      <td>Amanda Hesser</td>\n",
       "      <td>5</td>\n",
       "      <td>3461</td>\n",
       "    </tr>\n",
       "    <tr>\n",
       "      <th>2586</th>\n",
       "      <td>Salmon With Anchovy-Garlic Butter</td>\n",
       "      <td>Melissa Clark</td>\n",
       "      <td>5</td>\n",
       "      <td>3386</td>\n",
       "    </tr>\n",
       "    <tr>\n",
       "      <th>4030</th>\n",
       "      <td>Charlie Bird’s Farro Salad</td>\n",
       "      <td>Melissa Clark</td>\n",
       "      <td>5</td>\n",
       "      <td>3360</td>\n",
       "    </tr>\n",
       "    <tr>\n",
       "      <th>2581</th>\n",
       "      <td>Buttery Breakfast Casserole</td>\n",
       "      <td>Melissa Clark</td>\n",
       "      <td>5</td>\n",
       "      <td>3341</td>\n",
       "    </tr>\n",
       "    <tr>\n",
       "      <th>162</th>\n",
       "      <td>Spicy White Bean Stew With Broccoli Rabe</td>\n",
       "      <td>Alison Roman</td>\n",
       "      <td>5</td>\n",
       "      <td>3213</td>\n",
       "    </tr>\n",
       "    <tr>\n",
       "      <th>444</th>\n",
       "      <td>Crisp Gnocchi With Brussels Sprouts and Brown ...</td>\n",
       "      <td>Ali Slagle</td>\n",
       "      <td>5</td>\n",
       "      <td>3180</td>\n",
       "    </tr>\n",
       "    <tr>\n",
       "      <th>4143</th>\n",
       "      <td>Lemony Carrot and Cauliflower Soup</td>\n",
       "      <td>Melissa Clark</td>\n",
       "      <td>5</td>\n",
       "      <td>3149</td>\n",
       "    </tr>\n",
       "    <tr>\n",
       "      <th>3607</th>\n",
       "      <td>Perfect Instant Ramen</td>\n",
       "      <td>Jeff Gordinier</td>\n",
       "      <td>5</td>\n",
       "      <td>3131</td>\n",
       "    </tr>\n",
       "    <tr>\n",
       "      <th>1800</th>\n",
       "      <td>Sheet-Pan Chicken With Chickpeas, Cumin and Tu...</td>\n",
       "      <td>Alison Roman</td>\n",
       "      <td>5</td>\n",
       "      <td>3125</td>\n",
       "    </tr>\n",
       "    <tr>\n",
       "      <th>2740</th>\n",
       "      <td>Vegetarian Skillet Chili</td>\n",
       "      <td>Melissa Clark</td>\n",
       "      <td>5</td>\n",
       "      <td>3120</td>\n",
       "    </tr>\n",
       "    <tr>\n",
       "      <th>2371</th>\n",
       "      <td>Perfect Buttermilk Pancakes</td>\n",
       "      <td>Alison Roman</td>\n",
       "      <td>5</td>\n",
       "      <td>2945</td>\n",
       "    </tr>\n",
       "    <tr>\n",
       "      <th>2713</th>\n",
       "      <td>All-Purpose Biscuits</td>\n",
       "      <td>Sam Sifton</td>\n",
       "      <td>5</td>\n",
       "      <td>2905</td>\n",
       "    </tr>\n",
       "    <tr>\n",
       "      <th>2333</th>\n",
       "      <td>Creamy Corn Pasta With Basil</td>\n",
       "      <td>Melissa Clark</td>\n",
       "      <td>5</td>\n",
       "      <td>2876</td>\n",
       "    </tr>\n",
       "  </tbody>\n",
       "</table>\n",
       "</div>"
      ],
      "text/plain": [
       "                                             Recipe Name       Recipe Author  \\\n",
       "1056      Spiced Chickpea Stew With Coconut and Turmeric        Alison Roman   \n",
       "7662                          Red Lentil Soup With Lemon       Melissa Clark   \n",
       "8037                          Creamy Macaroni and Cheese        Julia Moskin   \n",
       "3753                                      No-Knead Bread        Mark Bittman   \n",
       "2590                       Oven-Roasted Chicken Shawarma          Sam Sifton   \n",
       "2055                           Roasted Chicken Provençal          Sam Sifton   \n",
       "4239                    Marcella Hazan’s Bolognese Sauce  The New York Times   \n",
       "8548                             Old-Fashioned Beef Stew       Molly O'Neill   \n",
       "2591                                 Shakshuka With Feta       Melissa Clark   \n",
       "3085   Roasted Salmon Glazed With Brown Sugar and Mus...          Sam Sifton   \n",
       "7601                              Chocolate Chip Cookies         David Leite   \n",
       "8605                                        Turkey Chili       Pierre Franey   \n",
       "1600           Salted Chocolate Chunk Shortbread Cookies        Alison Roman   \n",
       "3788                               Roberta’s Pizza Dough          Sam Sifton   \n",
       "2987   Sheet-Pan Chicken With Potatoes, Arugula and G...       Melissa Clark   \n",
       "4241                       Marcella Hazan’s Tomato Sauce  The New York Times   \n",
       "8306                        Katharine Hepburn’s Brownies  The New York Times   \n",
       "3833              Rishia Zimmern’s Chicken With Shallots          Sam Sifton   \n",
       "7794                               Classic Shrimp Scampi       Melissa Clark   \n",
       "8724                                 Original Plum Torte       Marian Burros   \n",
       "674                         Takeout-Style Sesame Noodles          Sam Sifton   \n",
       "7832                                   Everyday Pancakes        Mark Bittman   \n",
       "2588       Summer Pasta With Zucchini, Ricotta and Basil         David Tanis   \n",
       "8043                Roasted Brussels Sprouts With Garlic        Mark Bittman   \n",
       "3942                              Classic Marinara Sauce        Julia Moskin   \n",
       "12723                                         Dutch Baby  Florence Fabricant   \n",
       "2737                                        Miso Chicken          Sam Sifton   \n",
       "2828                                       Best Gazpacho        Julia Moskin   \n",
       "8393                                             Lasagna  Regina Schrambling   \n",
       "3474                                      Butter Chicken          Sam Sifton   \n",
       "8455                            Salmon Roasted in Butter        Mark Bittman   \n",
       "102                            Caramelized Shallot Pasta        Alison Roman   \n",
       "4151           Garlicky Chicken With Lemon-Anchovy Sauce       Melissa Clark   \n",
       "9737                    Jordan Marsh’s Blueberry Muffins       Marian Burros   \n",
       "3190                          Dijon and Cognac Beef Stew  Regina Schrambling   \n",
       "4970                                 Spaghetti Carbonara          Ian Fisher   \n",
       "2587                                   Three-Cup Chicken          Sam Sifton   \n",
       "8376                              Chocolate Dump-It Cake       Amanda Hesser   \n",
       "2586                   Salmon With Anchovy-Garlic Butter       Melissa Clark   \n",
       "4030                          Charlie Bird’s Farro Salad       Melissa Clark   \n",
       "2581                         Buttery Breakfast Casserole       Melissa Clark   \n",
       "162             Spicy White Bean Stew With Broccoli Rabe        Alison Roman   \n",
       "444    Crisp Gnocchi With Brussels Sprouts and Brown ...          Ali Slagle   \n",
       "4143                  Lemony Carrot and Cauliflower Soup       Melissa Clark   \n",
       "3607                               Perfect Instant Ramen      Jeff Gordinier   \n",
       "1800   Sheet-Pan Chicken With Chickpeas, Cumin and Tu...        Alison Roman   \n",
       "2740                            Vegetarian Skillet Chili       Melissa Clark   \n",
       "2371                         Perfect Buttermilk Pancakes        Alison Roman   \n",
       "2713                                All-Purpose Biscuits          Sam Sifton   \n",
       "2333                        Creamy Corn Pasta With Basil       Melissa Clark   \n",
       "\n",
       "       Recipe Rating  Recipe Review Count  \n",
       "1056               5                10503  \n",
       "7662               5                10454  \n",
       "8037               5                 9152  \n",
       "3753               5                 8162  \n",
       "2590               5                 7368  \n",
       "2055               5                 7364  \n",
       "4239               5                 6636  \n",
       "8548               5                 6368  \n",
       "2591               5                 6055  \n",
       "3085               5                 5590  \n",
       "7601               5                 5450  \n",
       "8605               5                 5158  \n",
       "1600               5                 5135  \n",
       "3788               5                 5053  \n",
       "2987               5                 5051  \n",
       "4241               5                 4712  \n",
       "8306               5                 4648  \n",
       "3833               5                 4534  \n",
       "7794               5                 4331  \n",
       "8724               5                 4309  \n",
       "674                5                 4308  \n",
       "7832               5                 4301  \n",
       "2588               5                 4242  \n",
       "8043               5                 4096  \n",
       "3942               5                 4056  \n",
       "12723              5                 3988  \n",
       "2737               5                 3878  \n",
       "2828               5                 3874  \n",
       "8393               5                 3861  \n",
       "3474               5                 3847  \n",
       "8455               5                 3840  \n",
       "102                5                 3817  \n",
       "4151               5                 3792  \n",
       "9737               5                 3731  \n",
       "3190               5                 3681  \n",
       "4970               5                 3517  \n",
       "2587               5                 3474  \n",
       "8376               5                 3461  \n",
       "2586               5                 3386  \n",
       "4030               5                 3360  \n",
       "2581               5                 3341  \n",
       "162                5                 3213  \n",
       "444                5                 3180  \n",
       "4143               5                 3149  \n",
       "3607               5                 3131  \n",
       "1800               5                 3125  \n",
       "2740               5                 3120  \n",
       "2371               5                 2945  \n",
       "2713               5                 2905  \n",
       "2333               5                 2876  "
      ]
     },
     "metadata": {},
     "output_type": "display_data"
    }
   ],
   "source": [
    "sorted_recipe_information = recipe_information.sort_values(['Recipe Rating', 'Recipe Review Count'], ascending = False)\n",
    "\n",
    "display (sorted_recipe_information.iloc[:, 0:4].head(50))"
   ]
  },
  {
   "cell_type": "markdown",
   "metadata": {},
   "source": [
    "Great job, Alison! I can confirm that your Pork Noodle Soup is quite delicious!\n",
    "\n",
    "Now let's take a look at which authors create the biggest percentage of 5-star recipes."
   ]
  },
  {
   "cell_type": "code",
   "execution_count": 33,
   "metadata": {},
   "outputs": [
    {
     "data": {
      "application/vnd.plotly.v1+json": {
       "config": {
        "plotlyServerURL": "https://plot.ly"
       },
       "data": [
        {
         "domain": {
          "x": [
           0,
           1
          ],
          "y": [
           0,
           1
          ]
         },
         "hoverlabel": {
          "namelength": 0
         },
         "hovertemplate": "Recipe Author=%{label}<br>Recipes=%{value}",
         "labels": [
          "Other Authors",
          "Other Authors",
          "Other Authors",
          "Other Authors",
          "Other Authors",
          "Other Authors",
          "Other Authors",
          "Other Authors",
          "Other Authors",
          "Other Authors",
          "Other Authors",
          "Other Authors",
          "Other Authors",
          "Amanda Hesser",
          "Other Authors",
          "Other Authors",
          "Other Authors",
          "Other Authors",
          "Other Authors",
          "Other Authors",
          "Other Authors",
          "Other Authors",
          "Other Authors",
          "Other Authors",
          "Other Authors",
          "Other Authors",
          "Other Authors",
          "Other Authors",
          "Other Authors",
          "Other Authors",
          "Other Authors",
          "Other Authors",
          "Other Authors",
          "Other Authors",
          "Other Authors",
          "Other Authors",
          "Other Authors",
          "Other Authors",
          "Other Authors",
          "Other Authors",
          "Other Authors",
          "Other Authors",
          "Other Authors",
          "Other Authors",
          "Other Authors",
          "Other Authors",
          "Other Authors",
          "Other Authors",
          "Other Authors",
          "Other Authors",
          "Other Authors",
          "Other Authors",
          "Other Authors",
          "Other Authors",
          "David Tanis",
          "Other Authors",
          "Other Authors",
          "Other Authors",
          "Other Authors",
          "Other Authors",
          "Other Authors",
          "Other Authors",
          "Other Authors",
          "Other Authors",
          "Other Authors",
          "Other Authors",
          "Other Authors",
          "Other Authors",
          "Other Authors",
          "Other Authors",
          "Other Authors",
          "Florence Fabricant",
          "Other Authors",
          "Other Authors",
          "Other Authors",
          "Other Authors",
          "Other Authors",
          "Other Authors",
          "Other Authors",
          "Other Authors",
          "Other Authors",
          "Other Authors",
          "Other Authors",
          "Other Authors",
          "Other Authors",
          "Other Authors",
          "Other Authors",
          "Other Authors",
          "Other Authors",
          "Other Authors",
          "Other Authors",
          "Other Authors",
          "Other Authors",
          "Other Authors",
          "Other Authors",
          "Other Authors",
          "Other Authors",
          "Other Authors",
          "Other Authors",
          "Other Authors",
          "Other Authors",
          "Other Authors",
          "Other Authors",
          "Other Authors",
          "Other Authors",
          "Other Authors",
          "Other Authors",
          "Other Authors",
          "Other Authors",
          "Other Authors",
          "Other Authors",
          "Other Authors",
          "Other Authors",
          "Other Authors",
          "Other Authors",
          "Other Authors",
          "Other Authors",
          "Other Authors",
          "Other Authors",
          "Other Authors",
          "Other Authors",
          "Other Authors",
          "Other Authors",
          "Other Authors",
          "Julia Moskin",
          "Other Authors",
          "Other Authors",
          "Other Authors",
          "Other Authors",
          "Other Authors",
          "Other Authors",
          "Other Authors",
          "Other Authors",
          "Other Authors",
          "Other Authors",
          "Other Authors",
          "Other Authors",
          "Other Authors",
          "Other Authors",
          "Other Authors",
          "Other Authors",
          "Other Authors",
          "Other Authors",
          "Other Authors",
          "Other Authors",
          "Other Authors",
          "Other Authors",
          "Other Authors",
          "Other Authors",
          "Other Authors",
          "Other Authors",
          "Other Authors",
          "Other Authors",
          "Other Authors",
          "Other Authors",
          "Other Authors",
          "Marian Burros",
          "Other Authors",
          "Mark Bittman",
          "Other Authors",
          "Other Authors",
          "Other Authors",
          "Other Authors",
          "Other Authors",
          "Martha Rose Shulman",
          "Other Authors",
          "Other Authors",
          "Other Authors",
          "Melissa Clark",
          "Other Authors",
          "Other Authors",
          "Other Authors",
          "Other Authors",
          "Other Authors",
          "Other Authors",
          "Other Authors",
          "Other Authors",
          "Other Authors",
          "Other Authors",
          "Other Authors",
          "Other Authors",
          "Molly O'Neill",
          "Other Authors",
          "Other Authors",
          "Other Authors",
          "Other Authors",
          "Other Authors",
          "Other Authors",
          "Other Authors",
          "Other Authors",
          "Other Authors",
          "Other Authors",
          "Other Authors",
          "Other Authors",
          "Other Authors",
          "Other Authors",
          "Other Authors",
          "Other Authors",
          "Other Authors",
          "Other Authors",
          "Other Authors",
          "Pierre Franey",
          "Other Authors",
          "Other Authors",
          "Other Authors",
          "Other Authors",
          "Other Authors",
          "Other Authors",
          "Other Authors",
          "Other Authors",
          "Other Authors",
          "Other Authors",
          "Other Authors",
          "Other Authors",
          "Other Authors",
          "Other Authors",
          "Other Authors",
          "Other Authors",
          "Other Authors",
          "Sam Sifton",
          "Other Authors",
          "Other Authors",
          "Other Authors",
          "Other Authors",
          "Other Authors",
          "Other Authors",
          "Other Authors",
          "Other Authors",
          "Other Authors",
          "Other Authors",
          "Other Authors",
          "Other Authors",
          "Other Authors",
          "Other Authors",
          "Other Authors",
          "Other Authors",
          "Other Authors",
          "Other Authors",
          "Other Authors",
          "Other Authors",
          "Other Authors",
          "Other Authors",
          "Other Authors",
          "Other Authors",
          "Other Authors",
          "Other Authors",
          "Other Authors",
          "Other Authors",
          "Other Authors",
          "Other Authors",
          "Other Authors",
          "Other Authors",
          "Other Authors",
          "Other Authors",
          "Other Authors",
          "Other Authors",
          "Other Authors",
          "Other Authors",
          "Other Authors"
         ],
         "legendgroup": "",
         "name": "",
         "showlegend": true,
         "type": "pie",
         "values": [
          1,
          1,
          1,
          2,
          1,
          1,
          25,
          4,
          9,
          4,
          44,
          1,
          2,
          87,
          1,
          1,
          1,
          2,
          1,
          1,
          1,
          1,
          9,
          1,
          1,
          2,
          1,
          1,
          1,
          18,
          7,
          1,
          10,
          2,
          6,
          2,
          15,
          2,
          1,
          2,
          1,
          20,
          1,
          43,
          37,
          2,
          1,
          3,
          3,
          3,
          1,
          1,
          1,
          1,
          315,
          1,
          1,
          2,
          1,
          1,
          4,
          2,
          40,
          4,
          1,
          12,
          1,
          9,
          7,
          2,
          1,
          291,
          1,
          14,
          5,
          1,
          1,
          1,
          3,
          9,
          1,
          4,
          1,
          5,
          1,
          1,
          1,
          1,
          2,
          1,
          1,
          1,
          1,
          1,
          1,
          1,
          1,
          1,
          47,
          1,
          2,
          6,
          5,
          24,
          4,
          1,
          16,
          3,
          1,
          3,
          13,
          1,
          39,
          4,
          1,
          5,
          20,
          7,
          3,
          5,
          34,
          1,
          1,
          1,
          130,
          1,
          2,
          2,
          20,
          1,
          2,
          3,
          1,
          1,
          1,
          6,
          6,
          2,
          1,
          2,
          48,
          2,
          1,
          2,
          2,
          8,
          6,
          2,
          4,
          2,
          2,
          1,
          1,
          1,
          5,
          5,
          99,
          1,
          467,
          7,
          1,
          1,
          1,
          1,
          762,
          16,
          2,
          1,
          614,
          1,
          2,
          4,
          1,
          1,
          2,
          1,
          1,
          2,
          1,
          2,
          70,
          195,
          1,
          1,
          1,
          21,
          2,
          45,
          1,
          2,
          1,
          5,
          4,
          2,
          1,
          8,
          1,
          2,
          2,
          20,
          1,
          175,
          1,
          1,
          8,
          1,
          2,
          1,
          1,
          13,
          1,
          23,
          42,
          1,
          5,
          1,
          1,
          46,
          1,
          173,
          15,
          22,
          1,
          5,
          6,
          2,
          2,
          8,
          8,
          1,
          6,
          3,
          1,
          14,
          4,
          4,
          2,
          1,
          1,
          1,
          3,
          7,
          4,
          10,
          48,
          12,
          1,
          46,
          14,
          1,
          5,
          1,
          8,
          4,
          2,
          1,
          2,
          16,
          5
         ]
        }
       ],
       "layout": {
        "legend": {
         "tracegroupgap": 0
        },
        "template": {
         "data": {
          "bar": [
           {
            "error_x": {
             "color": "#2a3f5f"
            },
            "error_y": {
             "color": "#2a3f5f"
            },
            "marker": {
             "line": {
              "color": "#E5ECF6",
              "width": 0.5
             }
            },
            "type": "bar"
           }
          ],
          "barpolar": [
           {
            "marker": {
             "line": {
              "color": "#E5ECF6",
              "width": 0.5
             }
            },
            "type": "barpolar"
           }
          ],
          "carpet": [
           {
            "aaxis": {
             "endlinecolor": "#2a3f5f",
             "gridcolor": "white",
             "linecolor": "white",
             "minorgridcolor": "white",
             "startlinecolor": "#2a3f5f"
            },
            "baxis": {
             "endlinecolor": "#2a3f5f",
             "gridcolor": "white",
             "linecolor": "white",
             "minorgridcolor": "white",
             "startlinecolor": "#2a3f5f"
            },
            "type": "carpet"
           }
          ],
          "choropleth": [
           {
            "colorbar": {
             "outlinewidth": 0,
             "ticks": ""
            },
            "type": "choropleth"
           }
          ],
          "contour": [
           {
            "colorbar": {
             "outlinewidth": 0,
             "ticks": ""
            },
            "colorscale": [
             [
              0,
              "#0d0887"
             ],
             [
              0.1111111111111111,
              "#46039f"
             ],
             [
              0.2222222222222222,
              "#7201a8"
             ],
             [
              0.3333333333333333,
              "#9c179e"
             ],
             [
              0.4444444444444444,
              "#bd3786"
             ],
             [
              0.5555555555555556,
              "#d8576b"
             ],
             [
              0.6666666666666666,
              "#ed7953"
             ],
             [
              0.7777777777777778,
              "#fb9f3a"
             ],
             [
              0.8888888888888888,
              "#fdca26"
             ],
             [
              1,
              "#f0f921"
             ]
            ],
            "type": "contour"
           }
          ],
          "contourcarpet": [
           {
            "colorbar": {
             "outlinewidth": 0,
             "ticks": ""
            },
            "type": "contourcarpet"
           }
          ],
          "heatmap": [
           {
            "colorbar": {
             "outlinewidth": 0,
             "ticks": ""
            },
            "colorscale": [
             [
              0,
              "#0d0887"
             ],
             [
              0.1111111111111111,
              "#46039f"
             ],
             [
              0.2222222222222222,
              "#7201a8"
             ],
             [
              0.3333333333333333,
              "#9c179e"
             ],
             [
              0.4444444444444444,
              "#bd3786"
             ],
             [
              0.5555555555555556,
              "#d8576b"
             ],
             [
              0.6666666666666666,
              "#ed7953"
             ],
             [
              0.7777777777777778,
              "#fb9f3a"
             ],
             [
              0.8888888888888888,
              "#fdca26"
             ],
             [
              1,
              "#f0f921"
             ]
            ],
            "type": "heatmap"
           }
          ],
          "heatmapgl": [
           {
            "colorbar": {
             "outlinewidth": 0,
             "ticks": ""
            },
            "colorscale": [
             [
              0,
              "#0d0887"
             ],
             [
              0.1111111111111111,
              "#46039f"
             ],
             [
              0.2222222222222222,
              "#7201a8"
             ],
             [
              0.3333333333333333,
              "#9c179e"
             ],
             [
              0.4444444444444444,
              "#bd3786"
             ],
             [
              0.5555555555555556,
              "#d8576b"
             ],
             [
              0.6666666666666666,
              "#ed7953"
             ],
             [
              0.7777777777777778,
              "#fb9f3a"
             ],
             [
              0.8888888888888888,
              "#fdca26"
             ],
             [
              1,
              "#f0f921"
             ]
            ],
            "type": "heatmapgl"
           }
          ],
          "histogram": [
           {
            "marker": {
             "colorbar": {
              "outlinewidth": 0,
              "ticks": ""
             }
            },
            "type": "histogram"
           }
          ],
          "histogram2d": [
           {
            "colorbar": {
             "outlinewidth": 0,
             "ticks": ""
            },
            "colorscale": [
             [
              0,
              "#0d0887"
             ],
             [
              0.1111111111111111,
              "#46039f"
             ],
             [
              0.2222222222222222,
              "#7201a8"
             ],
             [
              0.3333333333333333,
              "#9c179e"
             ],
             [
              0.4444444444444444,
              "#bd3786"
             ],
             [
              0.5555555555555556,
              "#d8576b"
             ],
             [
              0.6666666666666666,
              "#ed7953"
             ],
             [
              0.7777777777777778,
              "#fb9f3a"
             ],
             [
              0.8888888888888888,
              "#fdca26"
             ],
             [
              1,
              "#f0f921"
             ]
            ],
            "type": "histogram2d"
           }
          ],
          "histogram2dcontour": [
           {
            "colorbar": {
             "outlinewidth": 0,
             "ticks": ""
            },
            "colorscale": [
             [
              0,
              "#0d0887"
             ],
             [
              0.1111111111111111,
              "#46039f"
             ],
             [
              0.2222222222222222,
              "#7201a8"
             ],
             [
              0.3333333333333333,
              "#9c179e"
             ],
             [
              0.4444444444444444,
              "#bd3786"
             ],
             [
              0.5555555555555556,
              "#d8576b"
             ],
             [
              0.6666666666666666,
              "#ed7953"
             ],
             [
              0.7777777777777778,
              "#fb9f3a"
             ],
             [
              0.8888888888888888,
              "#fdca26"
             ],
             [
              1,
              "#f0f921"
             ]
            ],
            "type": "histogram2dcontour"
           }
          ],
          "mesh3d": [
           {
            "colorbar": {
             "outlinewidth": 0,
             "ticks": ""
            },
            "type": "mesh3d"
           }
          ],
          "parcoords": [
           {
            "line": {
             "colorbar": {
              "outlinewidth": 0,
              "ticks": ""
             }
            },
            "type": "parcoords"
           }
          ],
          "pie": [
           {
            "automargin": true,
            "type": "pie"
           }
          ],
          "scatter": [
           {
            "marker": {
             "colorbar": {
              "outlinewidth": 0,
              "ticks": ""
             }
            },
            "type": "scatter"
           }
          ],
          "scatter3d": [
           {
            "line": {
             "colorbar": {
              "outlinewidth": 0,
              "ticks": ""
             }
            },
            "marker": {
             "colorbar": {
              "outlinewidth": 0,
              "ticks": ""
             }
            },
            "type": "scatter3d"
           }
          ],
          "scattercarpet": [
           {
            "marker": {
             "colorbar": {
              "outlinewidth": 0,
              "ticks": ""
             }
            },
            "type": "scattercarpet"
           }
          ],
          "scattergeo": [
           {
            "marker": {
             "colorbar": {
              "outlinewidth": 0,
              "ticks": ""
             }
            },
            "type": "scattergeo"
           }
          ],
          "scattergl": [
           {
            "marker": {
             "colorbar": {
              "outlinewidth": 0,
              "ticks": ""
             }
            },
            "type": "scattergl"
           }
          ],
          "scattermapbox": [
           {
            "marker": {
             "colorbar": {
              "outlinewidth": 0,
              "ticks": ""
             }
            },
            "type": "scattermapbox"
           }
          ],
          "scatterpolar": [
           {
            "marker": {
             "colorbar": {
              "outlinewidth": 0,
              "ticks": ""
             }
            },
            "type": "scatterpolar"
           }
          ],
          "scatterpolargl": [
           {
            "marker": {
             "colorbar": {
              "outlinewidth": 0,
              "ticks": ""
             }
            },
            "type": "scatterpolargl"
           }
          ],
          "scatterternary": [
           {
            "marker": {
             "colorbar": {
              "outlinewidth": 0,
              "ticks": ""
             }
            },
            "type": "scatterternary"
           }
          ],
          "surface": [
           {
            "colorbar": {
             "outlinewidth": 0,
             "ticks": ""
            },
            "colorscale": [
             [
              0,
              "#0d0887"
             ],
             [
              0.1111111111111111,
              "#46039f"
             ],
             [
              0.2222222222222222,
              "#7201a8"
             ],
             [
              0.3333333333333333,
              "#9c179e"
             ],
             [
              0.4444444444444444,
              "#bd3786"
             ],
             [
              0.5555555555555556,
              "#d8576b"
             ],
             [
              0.6666666666666666,
              "#ed7953"
             ],
             [
              0.7777777777777778,
              "#fb9f3a"
             ],
             [
              0.8888888888888888,
              "#fdca26"
             ],
             [
              1,
              "#f0f921"
             ]
            ],
            "type": "surface"
           }
          ],
          "table": [
           {
            "cells": {
             "fill": {
              "color": "#EBF0F8"
             },
             "line": {
              "color": "white"
             }
            },
            "header": {
             "fill": {
              "color": "#C8D4E3"
             },
             "line": {
              "color": "white"
             }
            },
            "type": "table"
           }
          ]
         },
         "layout": {
          "annotationdefaults": {
           "arrowcolor": "#2a3f5f",
           "arrowhead": 0,
           "arrowwidth": 1
          },
          "coloraxis": {
           "colorbar": {
            "outlinewidth": 0,
            "ticks": ""
           }
          },
          "colorscale": {
           "diverging": [
            [
             0,
             "#8e0152"
            ],
            [
             0.1,
             "#c51b7d"
            ],
            [
             0.2,
             "#de77ae"
            ],
            [
             0.3,
             "#f1b6da"
            ],
            [
             0.4,
             "#fde0ef"
            ],
            [
             0.5,
             "#f7f7f7"
            ],
            [
             0.6,
             "#e6f5d0"
            ],
            [
             0.7,
             "#b8e186"
            ],
            [
             0.8,
             "#7fbc41"
            ],
            [
             0.9,
             "#4d9221"
            ],
            [
             1,
             "#276419"
            ]
           ],
           "sequential": [
            [
             0,
             "#0d0887"
            ],
            [
             0.1111111111111111,
             "#46039f"
            ],
            [
             0.2222222222222222,
             "#7201a8"
            ],
            [
             0.3333333333333333,
             "#9c179e"
            ],
            [
             0.4444444444444444,
             "#bd3786"
            ],
            [
             0.5555555555555556,
             "#d8576b"
            ],
            [
             0.6666666666666666,
             "#ed7953"
            ],
            [
             0.7777777777777778,
             "#fb9f3a"
            ],
            [
             0.8888888888888888,
             "#fdca26"
            ],
            [
             1,
             "#f0f921"
            ]
           ],
           "sequentialminus": [
            [
             0,
             "#0d0887"
            ],
            [
             0.1111111111111111,
             "#46039f"
            ],
            [
             0.2222222222222222,
             "#7201a8"
            ],
            [
             0.3333333333333333,
             "#9c179e"
            ],
            [
             0.4444444444444444,
             "#bd3786"
            ],
            [
             0.5555555555555556,
             "#d8576b"
            ],
            [
             0.6666666666666666,
             "#ed7953"
            ],
            [
             0.7777777777777778,
             "#fb9f3a"
            ],
            [
             0.8888888888888888,
             "#fdca26"
            ],
            [
             1,
             "#f0f921"
            ]
           ]
          },
          "colorway": [
           "#636efa",
           "#EF553B",
           "#00cc96",
           "#ab63fa",
           "#FFA15A",
           "#19d3f3",
           "#FF6692",
           "#B6E880",
           "#FF97FF",
           "#FECB52"
          ],
          "font": {
           "color": "#2a3f5f"
          },
          "geo": {
           "bgcolor": "white",
           "lakecolor": "white",
           "landcolor": "#E5ECF6",
           "showlakes": true,
           "showland": true,
           "subunitcolor": "white"
          },
          "hoverlabel": {
           "align": "left"
          },
          "hovermode": "closest",
          "mapbox": {
           "style": "light"
          },
          "paper_bgcolor": "white",
          "plot_bgcolor": "#E5ECF6",
          "polar": {
           "angularaxis": {
            "gridcolor": "white",
            "linecolor": "white",
            "ticks": ""
           },
           "bgcolor": "#E5ECF6",
           "radialaxis": {
            "gridcolor": "white",
            "linecolor": "white",
            "ticks": ""
           }
          },
          "scene": {
           "xaxis": {
            "backgroundcolor": "#E5ECF6",
            "gridcolor": "white",
            "gridwidth": 2,
            "linecolor": "white",
            "showbackground": true,
            "ticks": "",
            "zerolinecolor": "white"
           },
           "yaxis": {
            "backgroundcolor": "#E5ECF6",
            "gridcolor": "white",
            "gridwidth": 2,
            "linecolor": "white",
            "showbackground": true,
            "ticks": "",
            "zerolinecolor": "white"
           },
           "zaxis": {
            "backgroundcolor": "#E5ECF6",
            "gridcolor": "white",
            "gridwidth": 2,
            "linecolor": "white",
            "showbackground": true,
            "ticks": "",
            "zerolinecolor": "white"
           }
          },
          "shapedefaults": {
           "line": {
            "color": "#2a3f5f"
           }
          },
          "ternary": {
           "aaxis": {
            "gridcolor": "white",
            "linecolor": "white",
            "ticks": ""
           },
           "baxis": {
            "gridcolor": "white",
            "linecolor": "white",
            "ticks": ""
           },
           "bgcolor": "#E5ECF6",
           "caxis": {
            "gridcolor": "white",
            "linecolor": "white",
            "ticks": ""
           }
          },
          "title": {
           "x": 0.05
          },
          "xaxis": {
           "automargin": true,
           "gridcolor": "white",
           "linecolor": "white",
           "ticks": "",
           "title": {
            "standoff": 15
           },
           "zerolinecolor": "white",
           "zerolinewidth": 2
          },
          "yaxis": {
           "automargin": true,
           "gridcolor": "white",
           "linecolor": "white",
           "ticks": "",
           "title": {
            "standoff": 15
           },
           "zerolinecolor": "white",
           "zerolinewidth": 2
          }
         }
        },
        "title": {
         "text": "Percentage of NYT 5-Star Recipes Written by Each Author"
        }
       }
      },
      "text/html": [
       "<div>\n",
       "        \n",
       "        \n",
       "            <div id=\"d5eada7f-42a8-4255-a43f-2f3efe12a923\" class=\"plotly-graph-div\" style=\"height:525px; width:100%;\"></div>\n",
       "            <script type=\"text/javascript\">\n",
       "                require([\"plotly\"], function(Plotly) {\n",
       "                    window.PLOTLYENV=window.PLOTLYENV || {};\n",
       "                    \n",
       "                if (document.getElementById(\"d5eada7f-42a8-4255-a43f-2f3efe12a923\")) {\n",
       "                    Plotly.newPlot(\n",
       "                        'd5eada7f-42a8-4255-a43f-2f3efe12a923',\n",
       "                        [{\"domain\": {\"x\": [0.0, 1.0], \"y\": [0.0, 1.0]}, \"hoverlabel\": {\"namelength\": 0}, \"hovertemplate\": \"Recipe Author=%{label}<br>Recipes=%{value}\", \"labels\": [\"Other Authors\", \"Other Authors\", \"Other Authors\", \"Other Authors\", \"Other Authors\", \"Other Authors\", \"Other Authors\", \"Other Authors\", \"Other Authors\", \"Other Authors\", \"Other Authors\", \"Other Authors\", \"Other Authors\", \"Amanda Hesser\", \"Other Authors\", \"Other Authors\", \"Other Authors\", \"Other Authors\", \"Other Authors\", \"Other Authors\", \"Other Authors\", \"Other Authors\", \"Other Authors\", \"Other Authors\", \"Other Authors\", \"Other Authors\", \"Other Authors\", \"Other Authors\", \"Other Authors\", \"Other Authors\", \"Other Authors\", \"Other Authors\", \"Other Authors\", \"Other Authors\", \"Other Authors\", \"Other Authors\", \"Other Authors\", \"Other Authors\", \"Other Authors\", \"Other Authors\", \"Other Authors\", \"Other Authors\", \"Other Authors\", \"Other Authors\", \"Other Authors\", \"Other Authors\", \"Other Authors\", \"Other Authors\", \"Other Authors\", \"Other Authors\", \"Other Authors\", \"Other Authors\", \"Other Authors\", \"Other Authors\", \"David Tanis\", \"Other Authors\", \"Other Authors\", \"Other Authors\", \"Other Authors\", \"Other Authors\", \"Other Authors\", \"Other Authors\", \"Other Authors\", \"Other Authors\", \"Other Authors\", \"Other Authors\", \"Other Authors\", \"Other Authors\", \"Other Authors\", \"Other Authors\", \"Other Authors\", \"Florence Fabricant\", \"Other Authors\", \"Other Authors\", \"Other Authors\", \"Other Authors\", \"Other Authors\", \"Other Authors\", \"Other Authors\", \"Other Authors\", \"Other Authors\", \"Other Authors\", \"Other Authors\", \"Other Authors\", \"Other Authors\", \"Other Authors\", \"Other Authors\", \"Other Authors\", \"Other Authors\", \"Other Authors\", \"Other Authors\", \"Other Authors\", \"Other Authors\", \"Other Authors\", \"Other Authors\", \"Other Authors\", \"Other Authors\", \"Other Authors\", \"Other Authors\", \"Other Authors\", \"Other Authors\", \"Other Authors\", \"Other Authors\", \"Other Authors\", \"Other Authors\", \"Other Authors\", \"Other Authors\", \"Other Authors\", \"Other Authors\", \"Other Authors\", \"Other Authors\", \"Other Authors\", \"Other Authors\", \"Other Authors\", \"Other Authors\", \"Other Authors\", \"Other Authors\", \"Other Authors\", \"Other Authors\", \"Other Authors\", \"Other Authors\", \"Other Authors\", \"Other Authors\", \"Other Authors\", \"Julia Moskin\", \"Other Authors\", \"Other Authors\", \"Other Authors\", \"Other Authors\", \"Other Authors\", \"Other Authors\", \"Other Authors\", \"Other Authors\", \"Other Authors\", \"Other Authors\", \"Other Authors\", \"Other Authors\", \"Other Authors\", \"Other Authors\", \"Other Authors\", \"Other Authors\", \"Other Authors\", \"Other Authors\", \"Other Authors\", \"Other Authors\", \"Other Authors\", \"Other Authors\", \"Other Authors\", \"Other Authors\", \"Other Authors\", \"Other Authors\", \"Other Authors\", \"Other Authors\", \"Other Authors\", \"Other Authors\", \"Other Authors\", \"Marian Burros\", \"Other Authors\", \"Mark Bittman\", \"Other Authors\", \"Other Authors\", \"Other Authors\", \"Other Authors\", \"Other Authors\", \"Martha Rose Shulman\", \"Other Authors\", \"Other Authors\", \"Other Authors\", \"Melissa Clark\", \"Other Authors\", \"Other Authors\", \"Other Authors\", \"Other Authors\", \"Other Authors\", \"Other Authors\", \"Other Authors\", \"Other Authors\", \"Other Authors\", \"Other Authors\", \"Other Authors\", \"Other Authors\", \"Molly O'Neill\", \"Other Authors\", \"Other Authors\", \"Other Authors\", \"Other Authors\", \"Other Authors\", \"Other Authors\", \"Other Authors\", \"Other Authors\", \"Other Authors\", \"Other Authors\", \"Other Authors\", \"Other Authors\", \"Other Authors\", \"Other Authors\", \"Other Authors\", \"Other Authors\", \"Other Authors\", \"Other Authors\", \"Other Authors\", \"Pierre Franey\", \"Other Authors\", \"Other Authors\", \"Other Authors\", \"Other Authors\", \"Other Authors\", \"Other Authors\", \"Other Authors\", \"Other Authors\", \"Other Authors\", \"Other Authors\", \"Other Authors\", \"Other Authors\", \"Other Authors\", \"Other Authors\", \"Other Authors\", \"Other Authors\", \"Other Authors\", \"Sam Sifton\", \"Other Authors\", \"Other Authors\", \"Other Authors\", \"Other Authors\", \"Other Authors\", \"Other Authors\", \"Other Authors\", \"Other Authors\", \"Other Authors\", \"Other Authors\", \"Other Authors\", \"Other Authors\", \"Other Authors\", \"Other Authors\", \"Other Authors\", \"Other Authors\", \"Other Authors\", \"Other Authors\", \"Other Authors\", \"Other Authors\", \"Other Authors\", \"Other Authors\", \"Other Authors\", \"Other Authors\", \"Other Authors\", \"Other Authors\", \"Other Authors\", \"Other Authors\", \"Other Authors\", \"Other Authors\", \"Other Authors\", \"Other Authors\", \"Other Authors\", \"Other Authors\", \"Other Authors\", \"Other Authors\", \"Other Authors\", \"Other Authors\", \"Other Authors\"], \"legendgroup\": \"\", \"name\": \"\", \"showlegend\": true, \"type\": \"pie\", \"values\": [1, 1, 1, 2, 1, 1, 25, 4, 9, 4, 44, 1, 2, 87, 1, 1, 1, 2, 1, 1, 1, 1, 9, 1, 1, 2, 1, 1, 1, 18, 7, 1, 10, 2, 6, 2, 15, 2, 1, 2, 1, 20, 1, 43, 37, 2, 1, 3, 3, 3, 1, 1, 1, 1, 315, 1, 1, 2, 1, 1, 4, 2, 40, 4, 1, 12, 1, 9, 7, 2, 1, 291, 1, 14, 5, 1, 1, 1, 3, 9, 1, 4, 1, 5, 1, 1, 1, 1, 2, 1, 1, 1, 1, 1, 1, 1, 1, 1, 47, 1, 2, 6, 5, 24, 4, 1, 16, 3, 1, 3, 13, 1, 39, 4, 1, 5, 20, 7, 3, 5, 34, 1, 1, 1, 130, 1, 2, 2, 20, 1, 2, 3, 1, 1, 1, 6, 6, 2, 1, 2, 48, 2, 1, 2, 2, 8, 6, 2, 4, 2, 2, 1, 1, 1, 5, 5, 99, 1, 467, 7, 1, 1, 1, 1, 762, 16, 2, 1, 614, 1, 2, 4, 1, 1, 2, 1, 1, 2, 1, 2, 70, 195, 1, 1, 1, 21, 2, 45, 1, 2, 1, 5, 4, 2, 1, 8, 1, 2, 2, 20, 1, 175, 1, 1, 8, 1, 2, 1, 1, 13, 1, 23, 42, 1, 5, 1, 1, 46, 1, 173, 15, 22, 1, 5, 6, 2, 2, 8, 8, 1, 6, 3, 1, 14, 4, 4, 2, 1, 1, 1, 3, 7, 4, 10, 48, 12, 1, 46, 14, 1, 5, 1, 8, 4, 2, 1, 2, 16, 5]}],\n",
       "                        {\"legend\": {\"tracegroupgap\": 0}, \"template\": {\"data\": {\"bar\": [{\"error_x\": {\"color\": \"#2a3f5f\"}, \"error_y\": {\"color\": \"#2a3f5f\"}, \"marker\": {\"line\": {\"color\": \"#E5ECF6\", \"width\": 0.5}}, \"type\": \"bar\"}], \"barpolar\": [{\"marker\": {\"line\": {\"color\": \"#E5ECF6\", \"width\": 0.5}}, \"type\": \"barpolar\"}], \"carpet\": [{\"aaxis\": {\"endlinecolor\": \"#2a3f5f\", \"gridcolor\": \"white\", \"linecolor\": \"white\", \"minorgridcolor\": \"white\", \"startlinecolor\": \"#2a3f5f\"}, \"baxis\": {\"endlinecolor\": \"#2a3f5f\", \"gridcolor\": \"white\", \"linecolor\": \"white\", \"minorgridcolor\": \"white\", \"startlinecolor\": \"#2a3f5f\"}, \"type\": \"carpet\"}], \"choropleth\": [{\"colorbar\": {\"outlinewidth\": 0, \"ticks\": \"\"}, \"type\": \"choropleth\"}], \"contour\": [{\"colorbar\": {\"outlinewidth\": 0, \"ticks\": \"\"}, \"colorscale\": [[0.0, \"#0d0887\"], [0.1111111111111111, \"#46039f\"], [0.2222222222222222, \"#7201a8\"], [0.3333333333333333, \"#9c179e\"], [0.4444444444444444, \"#bd3786\"], [0.5555555555555556, \"#d8576b\"], [0.6666666666666666, \"#ed7953\"], [0.7777777777777778, \"#fb9f3a\"], [0.8888888888888888, \"#fdca26\"], [1.0, \"#f0f921\"]], \"type\": \"contour\"}], \"contourcarpet\": [{\"colorbar\": {\"outlinewidth\": 0, \"ticks\": \"\"}, \"type\": \"contourcarpet\"}], \"heatmap\": [{\"colorbar\": {\"outlinewidth\": 0, \"ticks\": \"\"}, \"colorscale\": [[0.0, \"#0d0887\"], [0.1111111111111111, \"#46039f\"], [0.2222222222222222, \"#7201a8\"], [0.3333333333333333, \"#9c179e\"], [0.4444444444444444, \"#bd3786\"], [0.5555555555555556, \"#d8576b\"], [0.6666666666666666, \"#ed7953\"], [0.7777777777777778, \"#fb9f3a\"], [0.8888888888888888, \"#fdca26\"], [1.0, \"#f0f921\"]], \"type\": \"heatmap\"}], \"heatmapgl\": [{\"colorbar\": {\"outlinewidth\": 0, \"ticks\": \"\"}, \"colorscale\": [[0.0, \"#0d0887\"], [0.1111111111111111, \"#46039f\"], [0.2222222222222222, \"#7201a8\"], [0.3333333333333333, \"#9c179e\"], [0.4444444444444444, \"#bd3786\"], [0.5555555555555556, \"#d8576b\"], [0.6666666666666666, \"#ed7953\"], [0.7777777777777778, \"#fb9f3a\"], [0.8888888888888888, \"#fdca26\"], [1.0, \"#f0f921\"]], \"type\": \"heatmapgl\"}], \"histogram\": [{\"marker\": {\"colorbar\": {\"outlinewidth\": 0, \"ticks\": \"\"}}, \"type\": \"histogram\"}], \"histogram2d\": [{\"colorbar\": {\"outlinewidth\": 0, \"ticks\": \"\"}, \"colorscale\": [[0.0, \"#0d0887\"], [0.1111111111111111, \"#46039f\"], [0.2222222222222222, \"#7201a8\"], [0.3333333333333333, \"#9c179e\"], [0.4444444444444444, \"#bd3786\"], [0.5555555555555556, \"#d8576b\"], [0.6666666666666666, \"#ed7953\"], [0.7777777777777778, \"#fb9f3a\"], [0.8888888888888888, \"#fdca26\"], [1.0, \"#f0f921\"]], \"type\": \"histogram2d\"}], \"histogram2dcontour\": [{\"colorbar\": {\"outlinewidth\": 0, \"ticks\": \"\"}, \"colorscale\": [[0.0, \"#0d0887\"], [0.1111111111111111, \"#46039f\"], [0.2222222222222222, \"#7201a8\"], [0.3333333333333333, \"#9c179e\"], [0.4444444444444444, \"#bd3786\"], [0.5555555555555556, \"#d8576b\"], [0.6666666666666666, \"#ed7953\"], [0.7777777777777778, \"#fb9f3a\"], [0.8888888888888888, \"#fdca26\"], [1.0, \"#f0f921\"]], \"type\": \"histogram2dcontour\"}], \"mesh3d\": [{\"colorbar\": {\"outlinewidth\": 0, \"ticks\": \"\"}, \"type\": \"mesh3d\"}], \"parcoords\": [{\"line\": {\"colorbar\": {\"outlinewidth\": 0, \"ticks\": \"\"}}, \"type\": \"parcoords\"}], \"pie\": [{\"automargin\": true, \"type\": \"pie\"}], \"scatter\": [{\"marker\": {\"colorbar\": {\"outlinewidth\": 0, \"ticks\": \"\"}}, \"type\": \"scatter\"}], \"scatter3d\": [{\"line\": {\"colorbar\": {\"outlinewidth\": 0, \"ticks\": \"\"}}, \"marker\": {\"colorbar\": {\"outlinewidth\": 0, \"ticks\": \"\"}}, \"type\": \"scatter3d\"}], \"scattercarpet\": [{\"marker\": {\"colorbar\": {\"outlinewidth\": 0, \"ticks\": \"\"}}, \"type\": \"scattercarpet\"}], \"scattergeo\": [{\"marker\": {\"colorbar\": {\"outlinewidth\": 0, \"ticks\": \"\"}}, \"type\": \"scattergeo\"}], \"scattergl\": [{\"marker\": {\"colorbar\": {\"outlinewidth\": 0, \"ticks\": \"\"}}, \"type\": \"scattergl\"}], \"scattermapbox\": [{\"marker\": {\"colorbar\": {\"outlinewidth\": 0, \"ticks\": \"\"}}, \"type\": \"scattermapbox\"}], \"scatterpolar\": [{\"marker\": {\"colorbar\": {\"outlinewidth\": 0, \"ticks\": \"\"}}, \"type\": \"scatterpolar\"}], \"scatterpolargl\": [{\"marker\": {\"colorbar\": {\"outlinewidth\": 0, \"ticks\": \"\"}}, \"type\": \"scatterpolargl\"}], \"scatterternary\": [{\"marker\": {\"colorbar\": {\"outlinewidth\": 0, \"ticks\": \"\"}}, \"type\": \"scatterternary\"}], \"surface\": [{\"colorbar\": {\"outlinewidth\": 0, \"ticks\": \"\"}, \"colorscale\": [[0.0, \"#0d0887\"], [0.1111111111111111, \"#46039f\"], [0.2222222222222222, \"#7201a8\"], [0.3333333333333333, \"#9c179e\"], [0.4444444444444444, \"#bd3786\"], [0.5555555555555556, \"#d8576b\"], [0.6666666666666666, \"#ed7953\"], [0.7777777777777778, \"#fb9f3a\"], [0.8888888888888888, \"#fdca26\"], [1.0, \"#f0f921\"]], \"type\": \"surface\"}], \"table\": [{\"cells\": {\"fill\": {\"color\": \"#EBF0F8\"}, \"line\": {\"color\": \"white\"}}, \"header\": {\"fill\": {\"color\": \"#C8D4E3\"}, \"line\": {\"color\": \"white\"}}, \"type\": \"table\"}]}, \"layout\": {\"annotationdefaults\": {\"arrowcolor\": \"#2a3f5f\", \"arrowhead\": 0, \"arrowwidth\": 1}, \"coloraxis\": {\"colorbar\": {\"outlinewidth\": 0, \"ticks\": \"\"}}, \"colorscale\": {\"diverging\": [[0, \"#8e0152\"], [0.1, \"#c51b7d\"], [0.2, \"#de77ae\"], [0.3, \"#f1b6da\"], [0.4, \"#fde0ef\"], [0.5, \"#f7f7f7\"], [0.6, \"#e6f5d0\"], [0.7, \"#b8e186\"], [0.8, \"#7fbc41\"], [0.9, \"#4d9221\"], [1, \"#276419\"]], \"sequential\": [[0.0, \"#0d0887\"], [0.1111111111111111, \"#46039f\"], [0.2222222222222222, \"#7201a8\"], [0.3333333333333333, \"#9c179e\"], [0.4444444444444444, \"#bd3786\"], [0.5555555555555556, \"#d8576b\"], [0.6666666666666666, \"#ed7953\"], [0.7777777777777778, \"#fb9f3a\"], [0.8888888888888888, \"#fdca26\"], [1.0, \"#f0f921\"]], \"sequentialminus\": [[0.0, \"#0d0887\"], [0.1111111111111111, \"#46039f\"], [0.2222222222222222, \"#7201a8\"], [0.3333333333333333, \"#9c179e\"], [0.4444444444444444, \"#bd3786\"], [0.5555555555555556, \"#d8576b\"], [0.6666666666666666, \"#ed7953\"], [0.7777777777777778, \"#fb9f3a\"], [0.8888888888888888, \"#fdca26\"], [1.0, \"#f0f921\"]]}, \"colorway\": [\"#636efa\", \"#EF553B\", \"#00cc96\", \"#ab63fa\", \"#FFA15A\", \"#19d3f3\", \"#FF6692\", \"#B6E880\", \"#FF97FF\", \"#FECB52\"], \"font\": {\"color\": \"#2a3f5f\"}, \"geo\": {\"bgcolor\": \"white\", \"lakecolor\": \"white\", \"landcolor\": \"#E5ECF6\", \"showlakes\": true, \"showland\": true, \"subunitcolor\": \"white\"}, \"hoverlabel\": {\"align\": \"left\"}, \"hovermode\": \"closest\", \"mapbox\": {\"style\": \"light\"}, \"paper_bgcolor\": \"white\", \"plot_bgcolor\": \"#E5ECF6\", \"polar\": {\"angularaxis\": {\"gridcolor\": \"white\", \"linecolor\": \"white\", \"ticks\": \"\"}, \"bgcolor\": \"#E5ECF6\", \"radialaxis\": {\"gridcolor\": \"white\", \"linecolor\": \"white\", \"ticks\": \"\"}}, \"scene\": {\"xaxis\": {\"backgroundcolor\": \"#E5ECF6\", \"gridcolor\": \"white\", \"gridwidth\": 2, \"linecolor\": \"white\", \"showbackground\": true, \"ticks\": \"\", \"zerolinecolor\": \"white\"}, \"yaxis\": {\"backgroundcolor\": \"#E5ECF6\", \"gridcolor\": \"white\", \"gridwidth\": 2, \"linecolor\": \"white\", \"showbackground\": true, \"ticks\": \"\", \"zerolinecolor\": \"white\"}, \"zaxis\": {\"backgroundcolor\": \"#E5ECF6\", \"gridcolor\": \"white\", \"gridwidth\": 2, \"linecolor\": \"white\", \"showbackground\": true, \"ticks\": \"\", \"zerolinecolor\": \"white\"}}, \"shapedefaults\": {\"line\": {\"color\": \"#2a3f5f\"}}, \"ternary\": {\"aaxis\": {\"gridcolor\": \"white\", \"linecolor\": \"white\", \"ticks\": \"\"}, \"baxis\": {\"gridcolor\": \"white\", \"linecolor\": \"white\", \"ticks\": \"\"}, \"bgcolor\": \"#E5ECF6\", \"caxis\": {\"gridcolor\": \"white\", \"linecolor\": \"white\", \"ticks\": \"\"}}, \"title\": {\"x\": 0.05}, \"xaxis\": {\"automargin\": true, \"gridcolor\": \"white\", \"linecolor\": \"white\", \"ticks\": \"\", \"title\": {\"standoff\": 15}, \"zerolinecolor\": \"white\", \"zerolinewidth\": 2}, \"yaxis\": {\"automargin\": true, \"gridcolor\": \"white\", \"linecolor\": \"white\", \"ticks\": \"\", \"title\": {\"standoff\": 15}, \"zerolinecolor\": \"white\", \"zerolinewidth\": 2}}}, \"title\": {\"text\": \"Percentage of NYT 5-Star Recipes Written by Each Author\"}},\n",
       "                        {\"responsive\": true}\n",
       "                    ).then(function(){\n",
       "                            \n",
       "var gd = document.getElementById('d5eada7f-42a8-4255-a43f-2f3efe12a923');\n",
       "var x = new MutationObserver(function (mutations, observer) {{\n",
       "        var display = window.getComputedStyle(gd).display;\n",
       "        if (!display || display === 'none') {{\n",
       "            console.log([gd, 'removed!']);\n",
       "            Plotly.purge(gd);\n",
       "            observer.disconnect();\n",
       "        }}\n",
       "}});\n",
       "\n",
       "// Listen for the removal of the full notebook cells\n",
       "var notebookContainer = gd.closest('#notebook-container');\n",
       "if (notebookContainer) {{\n",
       "    x.observe(notebookContainer, {childList: true});\n",
       "}}\n",
       "\n",
       "// Listen for the clearing of the current output cell\n",
       "var outputEl = gd.closest('.output');\n",
       "if (outputEl) {{\n",
       "    x.observe(outputEl, {childList: true});\n",
       "}}\n",
       "\n",
       "                        })\n",
       "                };\n",
       "                });\n",
       "            </script>\n",
       "        </div>"
      ]
     },
     "metadata": {},
     "output_type": "display_data"
    }
   ],
   "source": [
    "recipe_information_five_star = recipe_information.loc[recipe_information['Recipe Rating'] == 5].iloc[:, 1::]\n",
    "recipe_information_five_star_count = recipe_information_five_star.groupby('Recipe Author').size().reset_index(name='Recipes')\n",
    "recipe_information_five_star_count.loc[recipe_information_five_star_count['Recipes'] < 80, 'Recipe Author'] = 'Other Authors' # Represent only large authors\n",
    "\n",
    "fig_pie_five_star = px.pie(recipe_information_five_star_count, values='Recipes', names='Recipe Author', title='Percentage of NYT 5-Star Recipes Written by Each Author')\n",
    "fig_pie_five_star.show()"
   ]
  }
 ],
 "metadata": {
  "kernelspec": {
   "display_name": "Python 3",
   "language": "python",
   "name": "python3"
  },
  "language_info": {
   "codemirror_mode": {
    "name": "ipython",
    "version": 3
   },
   "file_extension": ".py",
   "mimetype": "text/x-python",
   "name": "python",
   "nbconvert_exporter": "python",
   "pygments_lexer": "ipython3",
   "version": "3.7.6"
  },
  "widgets": {
   "application/vnd.jupyter.widget-state+json": {
    "state": {},
    "version_major": 2,
    "version_minor": 0
   }
  }
 },
 "nbformat": 4,
 "nbformat_minor": 4
}
